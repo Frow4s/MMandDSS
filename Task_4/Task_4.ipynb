{
 "cells": [
  {
   "cell_type": "code",
   "execution_count": 109,
   "outputs": [],
   "source": [
    "import numpy as np\n",
    "import pandas as pd\n",
    "import warnings\n",
    "warnings.filterwarnings(\"ignore\")\n",
    "\n",
    "\n",
    "epsilon = 1.0e-8\n",
    "\n",
    "def equal(a, b):\n",
    "    return abs(a - b) < epsilon\n",
    "\n",
    "class Tableau:\n",
    "    def __init__(self, A, b, c):\n",
    "        self.mat = np.hstack([np.vstack([np.zeros(1), b]),\n",
    "                              np.vstack([c,A])])\n",
    "        self.m = self.mat.shape[0]\n",
    "        self.n = self.mat.shape[1]\n",
    "        self.counter = 0\n",
    "\n",
    "\n",
    "def nl(k):\n",
    "    print('-' * k)\n",
    "\n",
    "def print_tableau(tab, mes):\n",
    "    tab.counter += 1\n",
    "    print(f\"\\n{tab.counter}. Базис {mes}:\\n\")\n",
    "    nl(70)\n",
    "    columns = ['col:','b[i]'] + [f'x{j}' for j in range(1,tab.n)]\n",
    "    data = []\n",
    "    for i in range(tab.m):\n",
    "        cur_row = []\n",
    "        if i == 0:\n",
    "            cur_row.append('max:')\n",
    "        else:\n",
    "            cur_row.append(f'b{i}:')\n",
    "        for j in range(tab.n):\n",
    "            cur_row.append(f'{tab.mat[i][j]:8.2f}')\n",
    "        data.append(cur_row)\n",
    "    print(pd.DataFrame(data = data, columns = columns))\n",
    "    nl(70)\n",
    "\n",
    "def pivot_on(tab, row, col):\n",
    "    pivot = tab.mat[row][col]\n",
    "    assert pivot > 0\n",
    "    tab.mat[row] /= pivot\n",
    "    assert equal(tab.mat[row][col], 1.)\n",
    "\n",
    "    for i in range(tab.m):\n",
    "        if i == row:\n",
    "            continue\n",
    "        multiplier = tab.mat[i][col]\n",
    "        tab.mat[i] -= multiplier * tab.mat[row]\n",
    "\n",
    "def find_pivot_column(tab):\n",
    "    pivot_col = 1\n",
    "    lowest = tab.mat[0][pivot_col]\n",
    "    for j in range(1, tab.n):\n",
    "        if tab.mat[0][j] < lowest:\n",
    "            lowest = tab.mat[0][j]\n",
    "            pivot_col = j\n",
    "    print(f\"Минимальное отрицательное значение в row[0] это col[{pivot_col}] = {lowest}.\\n\")\n",
    "    if lowest >= 0:\n",
    "        return -1\n",
    "    return pivot_col\n",
    "\n",
    "def find_pivot_row(tab, pivot_col):\n",
    "    pivot_row = 0\n",
    "    min_ratio = -1\n",
    "    print(f\"Частные по ограничениям A[row_i,0]/A[row_i,{pivot_col}] = [\", end='')\n",
    "    for i in range(1, tab.m):\n",
    "        ratio = tab.mat[i][0] / tab.mat[i][pivot_col]\n",
    "        print(f\"{ratio:8f}, \", end='')\n",
    "        if ((ratio > 0 and ratio < min_ratio) or min_ratio < 0) and tab.mat[i][pivot_col]>0:\n",
    "            min_ratio = ratio\n",
    "            pivot_row = i\n",
    "    print(\"].\\n\")\n",
    "    if min_ratio == -1:\n",
    "        return -1\n",
    "    print(f\"Найдено целевое значение A[{pivot_row},{pivot_col}], минимальное положительное={min_ratio} в ряду={pivot_row}.\\n\")\n",
    "    return pivot_row\n",
    "\n",
    "def add_slack_variables(tab):\n",
    "    slack_vars = np.eye(tab.m - 1)\n",
    "    new_mat = np.zeros((tab.m, tab.n + tab.m - 1))\n",
    "    new_mat[:, :tab.n] = tab.mat\n",
    "    new_mat[1:, tab.n:] = slack_vars\n",
    "    tab.mat = new_mat\n",
    "    tab.n = tab.n + tab.m - 1\n",
    "\n",
    "def check_b_positive(tab):\n",
    "    assert all(tab.mat[i][0] >= 0 for i in range(1, tab.m))\n",
    "\n",
    "def find_basis_variable(tab, col):\n",
    "    xi = -1\n",
    "    for i in range(1, tab.m):\n",
    "        if equal(tab.mat[i][col], 1):\n",
    "            if xi == -1:\n",
    "                xi = i\n",
    "            else:\n",
    "                return -1\n",
    "        elif not equal(tab.mat[i][col], 0):\n",
    "            return -1\n",
    "    return xi\n",
    "\n",
    "def print_optimal_vector(tab, message):\n",
    "    print(f\"{message}: \", end='')\n",
    "    for j in range(1, tab.n):\n",
    "        xi = find_basis_variable(tab, j)\n",
    "        if xi != -1:\n",
    "            print(f\"x{j}={tab.mat[xi][0]:8f}, \", end='')\n",
    "        else:\n",
    "            print(f\"x{j}=0, \", end='')\n",
    "    print('\\n')\n",
    "\n",
    "def simplex(tab):\n",
    "    add_slack_variables(tab)\n",
    "    check_b_positive(tab)\n",
    "    print_tableau(tab, \"Базис с добавленными дополнительными переменными\")\n",
    "\n",
    "    loop = 0\n",
    "    while True:\n",
    "        loop += 1\n",
    "        pivot_col = find_pivot_column(tab)\n",
    "        if pivot_col < 0:\n",
    "            print(f\"Найдено оптимальное значение=A[0,0]={tab.mat[0][0]:8f} (нет негативных в ряду 0).\\n\")\n",
    "            print_optimal_vector(tab, \"Оптимальный вектор\")\n",
    "            break\n",
    "        print(f\"Переменная x{pivot_col} будет базовой, целевая колонка={pivot_col}.\\n\")\n",
    "\n",
    "        pivot_row = find_pivot_row(tab, pivot_col)\n",
    "        if pivot_row < 0:\n",
    "            print(\"Неограничена (нет целевого ряда).\\n\")\n",
    "            break\n",
    "        print(f\"Выбираем переменную x{pivot_row}, Целевая колонка={pivot_row}\\n\")\n",
    "\n",
    "        pivot_on(tab, pivot_row, pivot_col)\n",
    "        print_tableau(tab, \"После преобразования\")\n",
    "        print_optimal_vector(tab, \"Возможное базовое решение\")\n",
    "\n",
    "        if loop > 50:\n",
    "            print(f\"Слишком много итераций > {loop}.\\n\")\n",
    "            break"
   ],
   "metadata": {
    "collapsed": false,
    "ExecuteTime": {
     "end_time": "2023-12-13T17:36:54.963746100Z",
     "start_time": "2023-12-13T17:36:54.960300900Z"
    }
   },
   "id": "a65269a1231b391c"
  },
  {
   "cell_type": "code",
   "execution_count": 110,
   "outputs": [],
   "source": [
    "def is_float(element: any) -> bool:\n",
    "    if element is None: \n",
    "        return False\n",
    "    try:\n",
    "        float(element)\n",
    "        return True\n",
    "    except ValueError:\n",
    "        return False\n",
    "    \n",
    "def read_from_file(inputfile):\n",
    "    file =  open(inputfile)\n",
    "    data = file.read().splitlines()\n",
    "    allowed_signs = {'<=','>='}\n",
    "    if data[0] == 'min':\n",
    "        min_max_multiplicator = 1\n",
    "    elif data[0] == 'max':\n",
    "        min_max_multiplicator = -1\n",
    "    else:\n",
    "        raise AssertionError('Введите направление оптимизации в первой строке файла')\n",
    "    c = list(map(float, data[1].split()))\n",
    "    A = []\n",
    "    b = []\n",
    "    for row in data[2:]:\n",
    "        cur_row = []\n",
    "        cur_sign = 0 \n",
    "        for val in row.split():\n",
    "            if is_float(val):\n",
    "                cur_row.append(float(val))\n",
    "            elif val in allowed_signs and cur_sign == 0:\n",
    "                if val == '<=':\n",
    "                    cur_sign = 1\n",
    "                else:\n",
    "                    cur_sign = -1\n",
    "            else:\n",
    "                raise AssertionError(f'Неправильный формат строки {row}')\n",
    "        if cur_sign != 0:\n",
    "            cur_row = np.array(cur_row) * cur_sign\n",
    "        else:\n",
    "            raise AssertionError(f'Неправильный формат строки, знак неравенства не найден {row} \\n Допустимые форматы знаков неравенств: {allowed_signs}')\n",
    "        A.append(cur_row[:-1])\n",
    "        b.append(cur_row[-1])\n",
    "    A = np.array(A)\n",
    "    b = np.array(b).reshape(-1,1)\n",
    "    c = np.array(c).reshape(1, -1) * min_max_multiplicator\n",
    "    \n",
    "    return A, b, c    "
   ],
   "metadata": {
    "collapsed": false,
    "ExecuteTime": {
     "end_time": "2023-12-13T17:36:55.618303500Z",
     "start_time": "2023-12-13T17:36:55.616309Z"
    }
   },
   "id": "a524d21d8debdcad"
  },
  {
   "cell_type": "code",
   "execution_count": 111,
   "outputs": [],
   "source": [
    "inputfile = 'test.txt'"
   ],
   "metadata": {
    "collapsed": false,
    "ExecuteTime": {
     "end_time": "2023-12-13T17:36:56.263767600Z",
     "start_time": "2023-12-13T17:36:56.260775600Z"
    }
   },
   "id": "b860f4a360f4d49e"
  },
  {
   "cell_type": "markdown",
   "source": [
    "Переменные решения:\n",
    "$ x_1 $ - количество шкафов  \n",
    "$ x_2 $ - количество тумб \n",
    "\n",
    "Целевая функция:\n",
    "$$ 200*x_1 + 100*x_2 $$\n",
    "\n",
    "Ограничения:\n",
    "\n",
    "$$ \n",
    "\\begin{cases} \n",
    "3.5*x_1 + x_2 <= 350\\\\ \n",
    "x_1 + 2*x_2 <= 240\\\\\n",
    "x_1 + x_2 <= 150\\\\\n",
    "x_1 >= 0\\\\\n",
    "x_2 >= 0\\\\\n",
    "\\end{cases}$$"
   ],
   "metadata": {
    "collapsed": false
   },
   "id": "8557530519cd98d4"
  },
  {
   "cell_type": "code",
   "execution_count": 112,
   "outputs": [
    {
     "name": "stdout",
     "output_type": "stream",
     "text": [
      "\n",
      "1. Базис Базис с добавленными дополнительными переменными:\n",
      "\n",
      "----------------------------------------------------------------------\n",
      "   col:      b[i]        x1        x2        x3        x4        x5        x6  \\\n",
      "0  max:      0.00   -200.00   -100.00      0.00      0.00      0.00      0.00   \n",
      "1   b1:    350.00      3.50      1.00      1.00      0.00      0.00      0.00   \n",
      "2   b2:    240.00      1.00      2.00      0.00      1.00      0.00      0.00   \n",
      "3   b3:    150.00      1.00      1.00      0.00      0.00      1.00      0.00   \n",
      "4   b4:     -0.00     -1.00     -0.00      0.00      0.00      0.00      1.00   \n",
      "5   b5:     -0.00     -0.00     -1.00      0.00      0.00      0.00      0.00   \n",
      "\n",
      "         x7  \n",
      "0      0.00  \n",
      "1      0.00  \n",
      "2      0.00  \n",
      "3      0.00  \n",
      "4      0.00  \n",
      "5      1.00  \n",
      "----------------------------------------------------------------------\n",
      "Минимальное отрицательное значение в row[0] это col[1] = -200.0.\n",
      "\n",
      "Переменная x1 будет базовой, целевая колонка=1.\n",
      "\n",
      "Частные по ограничениям A[row_i,0]/A[row_i,1] = [100.000000, 240.000000, 150.000000, 0.000000,      nan, ].\n",
      "\n",
      "Найдено целевое значение A[1,1], минимальное положительное=100.0 в ряду=1.\n",
      "\n",
      "Выбираем переменную x1, Целевая колонка=1\n",
      "\n",
      "\n",
      "2. Базис После преобразования:\n",
      "\n",
      "----------------------------------------------------------------------\n",
      "   col:      b[i]        x1        x2        x3        x4        x5        x6  \\\n",
      "0  max:  20000.00      0.00    -42.86     57.14      0.00      0.00      0.00   \n",
      "1   b1:    100.00      1.00      0.29      0.29      0.00      0.00      0.00   \n",
      "2   b2:    140.00      0.00      1.71     -0.29      1.00      0.00      0.00   \n",
      "3   b3:     50.00      0.00      0.71     -0.29      0.00      1.00      0.00   \n",
      "4   b4:    100.00      0.00      0.29      0.29      0.00      0.00      1.00   \n",
      "5   b5:      0.00      0.00     -1.00      0.00      0.00      0.00      0.00   \n",
      "\n",
      "         x7  \n",
      "0      0.00  \n",
      "1      0.00  \n",
      "2      0.00  \n",
      "3      0.00  \n",
      "4      0.00  \n",
      "5      1.00  \n",
      "----------------------------------------------------------------------\n",
      "Возможное базовое решение: x1=100.000000, x2=0, x3=0, x4=140.000000, x5=50.000000, x6=100.000000, x7=0.000000, \n",
      "\n",
      "Минимальное отрицательное значение в row[0] это col[2] = -42.85714285714286.\n",
      "\n",
      "Переменная x2 будет базовой, целевая колонка=2.\n",
      "\n",
      "Частные по ограничениям A[row_i,0]/A[row_i,2] = [350.000000, 81.666667, 70.000000, 350.000000, -0.000000, ].\n",
      "\n",
      "Найдено целевое значение A[3,2], минимальное положительное=70.0 в ряду=3.\n",
      "\n",
      "Выбираем переменную x3, Целевая колонка=3\n",
      "\n",
      "\n",
      "3. Базис После преобразования:\n",
      "\n",
      "----------------------------------------------------------------------\n",
      "   col:      b[i]        x1        x2        x3        x4        x5        x6  \\\n",
      "0  max:  23000.00      0.00      0.00     40.00      0.00     60.00      0.00   \n",
      "1   b1:     80.00      1.00      0.00      0.40      0.00     -0.40      0.00   \n",
      "2   b2:     20.00      0.00      0.00      0.40      1.00     -2.40      0.00   \n",
      "3   b3:     70.00      0.00      1.00     -0.40      0.00      1.40      0.00   \n",
      "4   b4:     80.00      0.00      0.00      0.40      0.00     -0.40      1.00   \n",
      "5   b5:     70.00      0.00      0.00     -0.40      0.00      1.40      0.00   \n",
      "\n",
      "         x7  \n",
      "0      0.00  \n",
      "1      0.00  \n",
      "2      0.00  \n",
      "3      0.00  \n",
      "4      0.00  \n",
      "5      1.00  \n",
      "----------------------------------------------------------------------\n",
      "Возможное базовое решение: x1=80.000000, x2=70.000000, x3=0, x4=20.000000, x5=0, x6=80.000000, x7=70.000000, \n",
      "\n",
      "Минимальное отрицательное значение в row[0] это col[1] = 0.0.\n",
      "\n",
      "Найдено оптимальное значение=A[0,0]=23000.000000 (нет негативных в ряду 0).\n",
      "\n",
      "Оптимальный вектор: x1=80.000000, x2=70.000000, x3=0, x4=20.000000, x5=0, x6=80.000000, x7=70.000000, \n"
     ]
    }
   ],
   "source": [
    "A,b,c = read_from_file(inputfile)\n",
    "simplex(Tableau(A, b, c))"
   ],
   "metadata": {
    "collapsed": false,
    "ExecuteTime": {
     "end_time": "2023-12-13T17:36:56.644576900Z",
     "start_time": "2023-12-13T17:36:56.634610Z"
    }
   },
   "id": "11f8efa18ae88577"
  },
  {
   "cell_type": "markdown",
   "source": [
    "# Попробуем использовать языковую модель для формирования математической постановки задачи"
   ],
   "metadata": {
    "collapsed": false
   },
   "id": "c47a3b3dab97182d"
  },
  {
   "cell_type": "code",
   "execution_count": 22,
   "outputs": [],
   "source": [
    "from gigachat import GigaChat\n",
    "\n",
    "\n",
    "giga = GigaChat(credentials=..., scope=\"GIGACHAT_API_PERS\", verify_ssl_certs=False)"
   ],
   "metadata": {
    "collapsed": false,
    "ExecuteTime": {
     "end_time": "2023-12-13T16:21:09.653266400Z",
     "start_time": "2023-12-13T16:21:09.646271600Z"
    }
   },
   "id": "63a1bd99e7a2acdd"
  },
  {
   "cell_type": "code",
   "execution_count": 26,
   "outputs": [],
   "source": [
    "text = \"Запиши в математической постановке задачи линейного программирования: \\\n",
    "Цех может выпускать два вида продукции: шкафы и тумбы для\\\n",
    "телевизора. На каждый шкаф расходуется 3,5 кв. м стандартных ДСП, 1 кв. м\\\n",
    "листового стекла и 1 человеко-день трудозатрат. На тумбу – 1кв. м ДСП,\\\n",
    "2 кв. м стекла и 1 человеко-день трудозатрат. Прибыль от продажи 1 шкафа\\\n",
    "составляет 200 у.е., а 1 тумбы – 100 у.е.\\\n",
    "Материальные и трудовые ресурсы ограничены: в цехе работают\\\n",
    "150 рабочих, в день нельзя израсходовать больше 350 кв. м ДСП и более\\\n",
    "240 кв. м стекла.\\\n",
    "Какое количество шкафов и тумб должен выпускать цех, чтобы\\\n",
    "сделать прибыль максимальной?\""
   ],
   "metadata": {
    "collapsed": false,
    "ExecuteTime": {
     "end_time": "2023-12-13T16:22:39.607932700Z",
     "start_time": "2023-12-13T16:22:39.604951900Z"
    }
   },
   "id": "94f4cd4ee6759755"
  },
  {
   "cell_type": "code",
   "execution_count": 27,
   "outputs": [],
   "source": [
    "response = giga.chat(text)"
   ],
   "metadata": {
    "collapsed": false,
    "ExecuteTime": {
     "end_time": "2023-12-13T16:22:42.382923300Z",
     "start_time": "2023-12-13T16:22:40.132829400Z"
    }
   },
   "id": "896144cd9ff93d2e"
  },
  {
   "cell_type": "markdown",
   "source": [
    "К сожлению, на запросы к API модель выдает достаточно слабые ответы. В сравнении с ответами из веб-интерфейса Чат-бота. Подробнее в отчете."
   ],
   "metadata": {
    "collapsed": false
   },
   "id": "54922ae716c9d024"
  },
  {
   "cell_type": "code",
   "execution_count": 38,
   "outputs": [
    {
     "name": "stdout",
     "output_type": "stream",
     "text": [
      "Минимальная прибыль будет при выпуске только тумб, так как на тумбу расходуется меньше ресурсов, чем на шкаф. Максимальная прибыль будет при выпуске только шкафов, так как на шкаф расходуется меньше ресурсов, чем на тумбу. \n",
      "Минимум по ресурсам будет при выпуске только шкафов, так как на шкаф расходуется меньше ресурсов, чем на тумбу. \n",
      "Максимум по времени будет при выпуске только тумб, так как на тумбу расходуется меньше ресурсов, чем на шкаф. \n",
      "Таким образом, оптимальным решением будет выпуск только шкафов.\n"
     ]
    }
   ],
   "source": [
    "print(response.choices[0].message.content)"
   ],
   "metadata": {
    "collapsed": false,
    "ExecuteTime": {
     "end_time": "2023-12-13T16:26:12.331356500Z",
     "start_time": "2023-12-13T16:26:12.324751Z"
    }
   },
   "id": "9cb189540a480c2e"
  },
  {
   "cell_type": "markdown",
   "source": [
    "Попытка использовать prompt, интерфейс которых предусмотрен в API, для формирования ответов не увенчалась успехом."
   ],
   "metadata": {
    "collapsed": false
   },
   "id": "e4320887664f367c"
  },
  {
   "cell_type": "code",
   "execution_count": 20,
   "outputs": [
    {
     "name": "stdout",
     "output_type": "stream",
     "text": [
      "Bot:  Максимальная прибыль будет тогда, когда выпускается товар с наибольшей стоимостью. Для шкафов это 200 у.е., для тумб — 100 у.е. Таким образом, цех должен выпускать тумбы.\n"
     ]
    }
   ],
   "source": [
    "from langchain.schema import HumanMessage, SystemMessage\n",
    "from langchain.chat_models.gigachat import GigaChat\n",
    "\n",
    "# Авторизация в сервисе GigaChat\n",
    "chat = GigaChat(credentials=..., verify_ssl_certs=False)\n",
    "\n",
    "messages = [\n",
    "    SystemMessage(\n",
    "        content=\"Ты бот-математик, который текстовые условия задачи записывает в виде математических формулировок задач линейного программирования.\"\n",
    "    )\n",
    "]\n",
    "\n",
    "while(True):\n",
    "    user_input = input(\"User: \")\n",
    "    messages.append(HumanMessage(content=user_input))\n",
    "    res = chat(messages)\n",
    "    messages.append(res)\n",
    "    print(\"Bot: \", res.content)\n",
    "    break"
   ],
   "metadata": {
    "collapsed": false,
    "ExecuteTime": {
     "end_time": "2023-12-13T16:18:22.658679500Z",
     "start_time": "2023-12-13T16:18:19.394480600Z"
    }
   },
   "id": "7fba157ac6c901c4"
  }
 ],
 "metadata": {
  "kernelspec": {
   "display_name": "Python 3",
   "language": "python",
   "name": "python3"
  },
  "language_info": {
   "codemirror_mode": {
    "name": "ipython",
    "version": 2
   },
   "file_extension": ".py",
   "mimetype": "text/x-python",
   "name": "python",
   "nbconvert_exporter": "python",
   "pygments_lexer": "ipython2",
   "version": "2.7.6"
  }
 },
 "nbformat": 4,
 "nbformat_minor": 5
}
