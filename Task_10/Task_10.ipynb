{
 "cells": [
  {
   "cell_type": "code",
   "execution_count": 1,
   "metadata": {
    "ExecuteTime": {
     "end_time": "2024-01-14T20:20:37.776903500Z",
     "start_time": "2024-01-14T20:20:37.566795600Z"
    }
   },
   "outputs": [],
   "source": [
    "%matplotlib inline\n",
    "%config InlineBackend.figure_format = 'svg'\n",
    "\n",
    "import warnings\n",
    "warnings.filterwarnings('ignore')\n",
    "import numpy as np\n",
    "import pandas as pd   \n",
    "import matplotlib.pyplot as plt\n",
    "import itertools\n",
    "\n",
    "from sklearn.model_selection import train_test_split"
   ]
  },
  {
   "cell_type": "code",
   "execution_count": 2,
   "metadata": {
    "ExecuteTime": {
     "end_time": "2024-01-14T20:20:38.559923900Z",
     "start_time": "2024-01-14T20:20:37.921294700Z"
    }
   },
   "outputs": [],
   "source": [
    "data = pd.read_csv(\"application_record.csv\", encoding = 'utf-8') \n",
    "record = pd.read_csv(\"credit_record.csv\", encoding = 'utf-8')  "
   ]
  },
  {
   "cell_type": "code",
   "execution_count": 3,
   "metadata": {
    "ExecuteTime": {
     "end_time": "2024-01-14T20:20:38.566810Z",
     "start_time": "2024-01-14T20:20:38.561320600Z"
    }
   },
   "outputs": [],
   "source": [
    "plt.rcParams['figure.facecolor'] = 'white'"
   ]
  },
  {
   "cell_type": "markdown",
   "metadata": {},
   "source": [
    "# Feature Engineering"
   ]
  },
  {
   "cell_type": "code",
   "execution_count": 4,
   "metadata": {
    "ExecuteTime": {
     "end_time": "2024-01-14T20:20:39.373747Z",
     "start_time": "2024-01-14T20:20:39.242172100Z"
    }
   },
   "outputs": [],
   "source": [
    "# find all users' account open month.\n",
    "begin_month=pd.DataFrame(record.groupby([\"ID\"])[\"MONTHS_BALANCE\"].agg(min))\n",
    "begin_month=begin_month.rename(columns={'MONTHS_BALANCE':'begin_month'}) \n",
    "new_data=pd.merge(data,begin_month,how=\"left\",on=\"ID\") #merge to record data"
   ]
  },
  {
   "cell_type": "code",
   "execution_count": 5,
   "metadata": {
    "ExecuteTime": {
     "end_time": "2024-01-14T20:20:39.649789900Z",
     "start_time": "2024-01-14T20:20:39.462046400Z"
    }
   },
   "outputs": [],
   "source": [
    "record['dep_value'] = None\n",
    "record['dep_value'][record['STATUS'] =='2']='Yes' \n",
    "record['dep_value'][record['STATUS'] =='3']='Yes' \n",
    "record['dep_value'][record['STATUS'] =='4']='Yes' \n",
    "record['dep_value'][record['STATUS'] =='5']='Yes' "
   ]
  },
  {
   "cell_type": "code",
   "execution_count": 6,
   "metadata": {
    "ExecuteTime": {
     "end_time": "2024-01-14T20:20:39.924198100Z",
     "start_time": "2024-01-14T20:20:39.679833400Z"
    }
   },
   "outputs": [],
   "source": [
    "cpunt=record.groupby('ID').count()\n",
    "cpunt['dep_value'][cpunt['dep_value'] > 0]='Yes' \n",
    "cpunt['dep_value'][cpunt['dep_value'] == 0]='No' \n",
    "cpunt = cpunt[['dep_value']]\n",
    "new_data=pd.merge(new_data,cpunt,how='inner',on='ID')\n",
    "new_data['target']=new_data['dep_value']\n",
    "new_data.loc[new_data['target']=='Yes','target']=1\n",
    "new_data.loc[new_data['target']=='No','target']=0"
   ]
  },
  {
   "cell_type": "code",
   "execution_count": 7,
   "metadata": {
    "ExecuteTime": {
     "end_time": "2024-01-14T20:20:39.925195500Z",
     "start_time": "2024-01-14T20:20:39.906767200Z"
    }
   },
   "outputs": [
    {
     "name": "stdout",
     "output_type": "stream",
     "text": [
      "No     45318\n",
      "Yes      667\n",
      "Name: dep_value, dtype: int64\n"
     ]
    },
    {
     "data": {
      "text/plain": "No     0.985495\nYes    0.014505\nName: dep_value, dtype: float64"
     },
     "execution_count": 7,
     "metadata": {},
     "output_type": "execute_result"
    }
   ],
   "source": [
    "print(cpunt['dep_value'].value_counts())\n",
    "cpunt['dep_value'].value_counts(normalize=True)"
   ]
  },
  {
   "cell_type": "markdown",
   "metadata": {},
   "source": [
    "## Features"
   ]
  },
  {
   "cell_type": "code",
   "execution_count": 8,
   "metadata": {
    "ExecuteTime": {
     "end_time": "2024-01-14T20:20:40.282176900Z",
     "start_time": "2024-01-14T20:20:40.276185600Z"
    }
   },
   "outputs": [],
   "source": [
    "new_data.rename(columns={'CODE_GENDER':'Gender','FLAG_OWN_CAR':'Car','FLAG_OWN_REALTY':'Reality',\n",
    "                         'CNT_CHILDREN':'ChldNo','AMT_INCOME_TOTAL':'inc',\n",
    "                         'NAME_EDUCATION_TYPE':'edutp','NAME_FAMILY_STATUS':'famtp',\n",
    "                        'NAME_HOUSING_TYPE':'houtp','FLAG_EMAIL':'email',\n",
    "                         'NAME_INCOME_TYPE':'inctp','FLAG_WORK_PHONE':'wkphone',\n",
    "                         'FLAG_PHONE':'phone','CNT_FAM_MEMBERS':'famsize',\n",
    "                        'OCCUPATION_TYPE':'occyp'\n",
    "                        },inplace=True)"
   ]
  },
  {
   "cell_type": "code",
   "execution_count": 9,
   "metadata": {
    "ExecuteTime": {
     "end_time": "2024-01-14T20:20:40.545028100Z",
     "start_time": "2024-01-14T20:20:40.455582Z"
    }
   },
   "outputs": [],
   "source": [
    "new_data.dropna()\n",
    "new_data = new_data.mask(new_data == 'NULL').dropna()"
   ]
  },
  {
   "cell_type": "code",
   "execution_count": 10,
   "metadata": {
    "ExecuteTime": {
     "end_time": "2024-01-14T20:20:40.647835Z",
     "start_time": "2024-01-14T20:20:40.622598100Z"
    }
   },
   "outputs": [],
   "source": [
    "ivtable=pd.DataFrame(new_data.columns,columns=['variable'])\n",
    "ivtable['IV']=None\n",
    "namelist = ['FLAG_MOBIL','begin_month','dep_value','target','ID']\n",
    "\n",
    "for i in namelist:\n",
    "    ivtable.drop(ivtable[ivtable['variable'] == i].index, inplace=True)"
   ]
  },
  {
   "cell_type": "markdown",
   "metadata": {},
   "source": [
    "### Binary Features"
   ]
  },
  {
   "cell_type": "code",
   "execution_count": 11,
   "metadata": {
    "ExecuteTime": {
     "end_time": "2024-01-14T20:20:40.960162600Z",
     "start_time": "2024-01-14T20:20:40.950091400Z"
    }
   },
   "outputs": [],
   "source": [
    "# Calculate information value\n",
    "def calc_iv(df, feature, target, pr=False):\n",
    "    lst = []\n",
    "    df[feature] = df[feature].fillna(\"NULL\")\n",
    "\n",
    "    for i in range(df[feature].nunique()):\n",
    "        val = list(df[feature].unique())[i]\n",
    "        lst.append([feature,                                                        # Variable\n",
    "                    val,                                                            # Value\n",
    "                    df[df[feature] == val].count()[feature],                        # All\n",
    "                    df[(df[feature] == val) & (df[target] == 0)].count()[feature],  # Good (think: Fraud == 0)\n",
    "                    df[(df[feature] == val) & (df[target] == 1)].count()[feature]]) # Bad (think: Fraud == 1)\n",
    "\n",
    "    data = pd.DataFrame(lst, columns=['Variable', 'Value', 'All', 'Good', 'Bad'])\n",
    "    data['Share'] = data['All'] / data['All'].sum()\n",
    "    data['Bad Rate'] = data['Bad'] / data['All']\n",
    "    data['Distribution Good'] = (data['All'] - data['Bad']) / (data['All'].sum() - data['Bad'].sum())\n",
    "    data['Distribution Bad'] = data['Bad'] / data['Bad'].sum()\n",
    "    data['WoE'] = np.log(data['Distribution Good'] / data['Distribution Bad'])\n",
    "    \n",
    "    data = data.replace({'WoE': {np.inf: 0, -np.inf: 0}})\n",
    "\n",
    "    data['IV'] = data['WoE'] * (data['Distribution Good'] - data['Distribution Bad'])\n",
    "\n",
    "    data = data.sort_values(by=['Variable', 'Value'], ascending=[True, True])\n",
    "    data.index = range(len(data.index))\n",
    "\n",
    "    if pr:\n",
    "        print(data)\n",
    "        print('IV = ', data['IV'].sum())\n",
    "\n",
    "    iv = data['IV'].sum()\n",
    "    print('This variable\\'s IV is:',iv)\n",
    "    print(df[feature].value_counts())\n",
    "    return iv, data"
   ]
  },
  {
   "cell_type": "code",
   "execution_count": 12,
   "metadata": {
    "ExecuteTime": {
     "end_time": "2024-01-14T20:20:41.159232500Z",
     "start_time": "2024-01-14T20:20:41.152168800Z"
    }
   },
   "outputs": [],
   "source": [
    "def convert_dummy(df, feature,rank=0):\n",
    "    pos = pd.get_dummies(df[feature], prefix=feature)\n",
    "    mode = df[feature].value_counts().index[rank]\n",
    "    biggest = feature + '_' + str(mode)\n",
    "    pos.drop([biggest],axis=1,inplace=True)\n",
    "    df.drop([feature],axis=1,inplace=True)\n",
    "    df=df.join(pos)\n",
    "    return df"
   ]
  },
  {
   "cell_type": "code",
   "execution_count": 13,
   "metadata": {
    "ExecuteTime": {
     "end_time": "2024-01-14T20:20:41.352259800Z",
     "start_time": "2024-01-14T20:20:41.329625300Z"
    }
   },
   "outputs": [],
   "source": [
    "def get_category(df, col, binsnum, labels, qcut = False):\n",
    "    if qcut:\n",
    "        localdf = pd.qcut(df[col], q = binsnum, labels = labels) # quantile cut\n",
    "    else:\n",
    "        localdf = pd.cut(df[col], bins = binsnum, labels = labels) # equal-length cut\n",
    "        \n",
    "    localdf = pd.DataFrame(localdf)\n",
    "    name = 'gp' + '_' + col\n",
    "    localdf[name] = localdf[col]\n",
    "    df = df.join(localdf[name])\n",
    "    df[name] = df[name].astype(object)\n",
    "    return df"
   ]
  },
  {
   "cell_type": "code",
   "execution_count": 14,
   "metadata": {
    "ExecuteTime": {
     "end_time": "2024-01-14T20:20:41.519640Z",
     "start_time": "2024-01-14T20:20:41.507244800Z"
    }
   },
   "outputs": [],
   "source": [
    "def plot_confusion_matrix(cm, classes,\n",
    "                          normalize=False,\n",
    "                          title='Confusion matrix',\n",
    "                          cmap=plt.cm.Blues):\n",
    "    if normalize:\n",
    "        cm = cm.astype('float') / cm.sum(axis=1)[:, np.newaxis]\n",
    "        \n",
    "    print(cm)\n",
    "\n",
    "    plt.imshow(cm, interpolation='nearest', cmap=cmap)\n",
    "    plt.title(title)\n",
    "    plt.colorbar()\n",
    "    tick_marks = np.arange(len(classes))\n",
    "    plt.xticks(tick_marks, classes)\n",
    "    plt.yticks(tick_marks, classes)\n",
    "\n",
    "    fmt = '.2f' if normalize else 'd'\n",
    "    thresh = cm.max() / 2.\n",
    "    for i, j in itertools.product(range(cm.shape[0]), range(cm.shape[1])):\n",
    "        plt.text(j, i, format(cm[i, j], fmt),\n",
    "                 horizontalalignment=\"center\",\n",
    "                 color=\"white\" if cm[i, j] > thresh else \"black\")\n",
    "\n",
    "    plt.tight_layout()\n",
    "    plt.ylabel('True label')\n",
    "    plt.xlabel('Predicted label')"
   ]
  },
  {
   "cell_type": "markdown",
   "metadata": {},
   "source": [
    "#### Gender"
   ]
  },
  {
   "cell_type": "code",
   "execution_count": 15,
   "metadata": {
    "ExecuteTime": {
     "end_time": "2024-01-14T20:20:41.922066300Z",
     "start_time": "2024-01-14T20:20:41.845794Z"
    }
   },
   "outputs": [
    {
     "name": "stdout",
     "output_type": "stream",
     "text": [
      "0    15630\n",
      "1     9504\n",
      "Name: Gender, dtype: int64\n",
      "This variable's IV is: 0.02520350452745081\n",
      "0    15630\n",
      "1     9504\n",
      "Name: Gender, dtype: int64\n"
     ]
    },
    {
     "data": {
      "text/plain": "  Variable  Value    All   Good  Bad     Share  Bad Rate  Distribution Good  \\\n0   Gender      0  15630  15400  230  0.621867  0.014715           0.623179   \n1   Gender      1   9504   9312  192  0.378133  0.020202           0.376821   \n\n   Distribution Bad       WoE        IV  \n0          0.545024  0.134005  0.010473  \n1          0.454976 -0.188475  0.014730  ",
      "text/html": "<div>\n<style scoped>\n    .dataframe tbody tr th:only-of-type {\n        vertical-align: middle;\n    }\n\n    .dataframe tbody tr th {\n        vertical-align: top;\n    }\n\n    .dataframe thead th {\n        text-align: right;\n    }\n</style>\n<table border=\"1\" class=\"dataframe\">\n  <thead>\n    <tr style=\"text-align: right;\">\n      <th></th>\n      <th>Variable</th>\n      <th>Value</th>\n      <th>All</th>\n      <th>Good</th>\n      <th>Bad</th>\n      <th>Share</th>\n      <th>Bad Rate</th>\n      <th>Distribution Good</th>\n      <th>Distribution Bad</th>\n      <th>WoE</th>\n      <th>IV</th>\n    </tr>\n  </thead>\n  <tbody>\n    <tr>\n      <th>0</th>\n      <td>Gender</td>\n      <td>0</td>\n      <td>15630</td>\n      <td>15400</td>\n      <td>230</td>\n      <td>0.621867</td>\n      <td>0.014715</td>\n      <td>0.623179</td>\n      <td>0.545024</td>\n      <td>0.134005</td>\n      <td>0.010473</td>\n    </tr>\n    <tr>\n      <th>1</th>\n      <td>Gender</td>\n      <td>1</td>\n      <td>9504</td>\n      <td>9312</td>\n      <td>192</td>\n      <td>0.378133</td>\n      <td>0.020202</td>\n      <td>0.376821</td>\n      <td>0.454976</td>\n      <td>-0.188475</td>\n      <td>0.014730</td>\n    </tr>\n  </tbody>\n</table>\n</div>"
     },
     "execution_count": 15,
     "metadata": {},
     "output_type": "execute_result"
    }
   ],
   "source": [
    "new_data['Gender'] = new_data['Gender'].replace(['F','M'],[0,1])\n",
    "print(new_data['Gender'].value_counts())\n",
    "iv, data = calc_iv(new_data,'Gender','target')\n",
    "ivtable.loc[ivtable['variable']=='Gender','IV']=iv\n",
    "data.head()"
   ]
  },
  {
   "cell_type": "markdown",
   "metadata": {},
   "source": [
    "#### Having a car or not"
   ]
  },
  {
   "cell_type": "code",
   "execution_count": 16,
   "metadata": {
    "ExecuteTime": {
     "end_time": "2024-01-14T20:20:42.297749Z",
     "start_time": "2024-01-14T20:20:42.227512300Z"
    }
   },
   "outputs": [
    {
     "name": "stdout",
     "output_type": "stream",
     "text": [
      "0    14618\n",
      "1    10516\n",
      "Name: Car, dtype: int64\n",
      "This variable's IV is: 4.54248124999671e-06\n",
      "0    14618\n",
      "1    10516\n",
      "Name: Car, dtype: int64\n"
     ]
    },
    {
     "data": {
      "text/plain": "  Variable  Value    All   Good  Bad     Share  Bad Rate  Distribution Good  \\\n0      Car      0  14618  14373  245  0.581603  0.016760            0.58162   \n1      Car      1  10516  10339  177  0.418397  0.016831            0.41838   \n\n   Distribution Bad      WoE        IV  \n0          0.580569  0.00181  0.000002  \n1          0.419431 -0.00251  0.000003  ",
      "text/html": "<div>\n<style scoped>\n    .dataframe tbody tr th:only-of-type {\n        vertical-align: middle;\n    }\n\n    .dataframe tbody tr th {\n        vertical-align: top;\n    }\n\n    .dataframe thead th {\n        text-align: right;\n    }\n</style>\n<table border=\"1\" class=\"dataframe\">\n  <thead>\n    <tr style=\"text-align: right;\">\n      <th></th>\n      <th>Variable</th>\n      <th>Value</th>\n      <th>All</th>\n      <th>Good</th>\n      <th>Bad</th>\n      <th>Share</th>\n      <th>Bad Rate</th>\n      <th>Distribution Good</th>\n      <th>Distribution Bad</th>\n      <th>WoE</th>\n      <th>IV</th>\n    </tr>\n  </thead>\n  <tbody>\n    <tr>\n      <th>0</th>\n      <td>Car</td>\n      <td>0</td>\n      <td>14618</td>\n      <td>14373</td>\n      <td>245</td>\n      <td>0.581603</td>\n      <td>0.016760</td>\n      <td>0.58162</td>\n      <td>0.580569</td>\n      <td>0.00181</td>\n      <td>0.000002</td>\n    </tr>\n    <tr>\n      <th>1</th>\n      <td>Car</td>\n      <td>1</td>\n      <td>10516</td>\n      <td>10339</td>\n      <td>177</td>\n      <td>0.418397</td>\n      <td>0.016831</td>\n      <td>0.41838</td>\n      <td>0.419431</td>\n      <td>-0.00251</td>\n      <td>0.000003</td>\n    </tr>\n  </tbody>\n</table>\n</div>"
     },
     "execution_count": 16,
     "metadata": {},
     "output_type": "execute_result"
    }
   ],
   "source": [
    "new_data['Car'] = new_data['Car'].replace(['N','Y'],[0,1])\n",
    "print(new_data['Car'].value_counts())\n",
    "iv, data=calc_iv(new_data,'Car','target')\n",
    "ivtable.loc[ivtable['variable']=='Car','IV']=iv\n",
    "data.head()"
   ]
  },
  {
   "cell_type": "markdown",
   "metadata": {},
   "source": [
    "#### Having house reality or not"
   ]
  },
  {
   "cell_type": "code",
   "execution_count": 17,
   "metadata": {
    "ExecuteTime": {
     "end_time": "2024-01-14T20:20:42.959844100Z",
     "start_time": "2024-01-14T20:20:42.902760600Z"
    }
   },
   "outputs": [
    {
     "name": "stdout",
     "output_type": "stream",
     "text": [
      "1    16461\n",
      "0     8673\n",
      "Name: Reality, dtype: int64\n",
      "This variable's IV is: 0.02744070350168343\n",
      "1    16461\n",
      "0     8673\n",
      "Name: Reality, dtype: int64\n"
     ]
    },
    {
     "data": {
      "text/plain": "  Variable  Value    All   Good  Bad    Share  Bad Rate  Distribution Good  \\\n0  Reality      0   8673   8494  179  0.34507  0.020639            0.34372   \n1  Reality      1  16461  16218  243  0.65493  0.014762            0.65628   \n\n   Distribution Bad       WoE        IV  \n0          0.424171 -0.210309  0.016920  \n1          0.575829  0.130777  0.010521  ",
      "text/html": "<div>\n<style scoped>\n    .dataframe tbody tr th:only-of-type {\n        vertical-align: middle;\n    }\n\n    .dataframe tbody tr th {\n        vertical-align: top;\n    }\n\n    .dataframe thead th {\n        text-align: right;\n    }\n</style>\n<table border=\"1\" class=\"dataframe\">\n  <thead>\n    <tr style=\"text-align: right;\">\n      <th></th>\n      <th>Variable</th>\n      <th>Value</th>\n      <th>All</th>\n      <th>Good</th>\n      <th>Bad</th>\n      <th>Share</th>\n      <th>Bad Rate</th>\n      <th>Distribution Good</th>\n      <th>Distribution Bad</th>\n      <th>WoE</th>\n      <th>IV</th>\n    </tr>\n  </thead>\n  <tbody>\n    <tr>\n      <th>0</th>\n      <td>Reality</td>\n      <td>0</td>\n      <td>8673</td>\n      <td>8494</td>\n      <td>179</td>\n      <td>0.34507</td>\n      <td>0.020639</td>\n      <td>0.34372</td>\n      <td>0.424171</td>\n      <td>-0.210309</td>\n      <td>0.016920</td>\n    </tr>\n    <tr>\n      <th>1</th>\n      <td>Reality</td>\n      <td>1</td>\n      <td>16461</td>\n      <td>16218</td>\n      <td>243</td>\n      <td>0.65493</td>\n      <td>0.014762</td>\n      <td>0.65628</td>\n      <td>0.575829</td>\n      <td>0.130777</td>\n      <td>0.010521</td>\n    </tr>\n  </tbody>\n</table>\n</div>"
     },
     "execution_count": 17,
     "metadata": {},
     "output_type": "execute_result"
    }
   ],
   "source": [
    "new_data['Reality'] = new_data['Reality'].replace(['N','Y'],[0,1])\n",
    "print(new_data['Reality'].value_counts())\n",
    "iv, data=calc_iv(new_data,'Reality','target')\n",
    "ivtable.loc[ivtable['variable']=='Reality','IV']=iv\n",
    "data.head()"
   ]
  },
  {
   "cell_type": "markdown",
   "metadata": {},
   "source": [
    "#### Having a phone or not"
   ]
  },
  {
   "cell_type": "code",
   "execution_count": 18,
   "metadata": {
    "ExecuteTime": {
     "end_time": "2024-01-14T20:20:43.361841600Z",
     "start_time": "2024-01-14T20:20:43.281640500Z"
    }
   },
   "outputs": [
    {
     "name": "stdout",
     "output_type": "stream",
     "text": [
      "0    0.707209\n",
      "1    0.292791\n",
      "Name: phone, dtype: float64\n",
      "This variable's IV is: 0.0005480495762639297\n",
      "0    17775\n",
      "1     7359\n",
      "Name: phone, dtype: int64\n"
     ]
    },
    {
     "data": {
      "text/plain": "  Variable Value    All   Good  Bad     Share  Bad Rate  Distribution Good  \\\n0    phone     0  17775  17481  294  0.707209  0.016540           0.707389   \n1    phone     1   7359   7231  128  0.292791  0.017394           0.292611   \n\n   Distribution Bad       WoE        IV  \n0          0.696682  0.015251  0.000163  \n1          0.303318 -0.035937  0.000385  ",
      "text/html": "<div>\n<style scoped>\n    .dataframe tbody tr th:only-of-type {\n        vertical-align: middle;\n    }\n\n    .dataframe tbody tr th {\n        vertical-align: top;\n    }\n\n    .dataframe thead th {\n        text-align: right;\n    }\n</style>\n<table border=\"1\" class=\"dataframe\">\n  <thead>\n    <tr style=\"text-align: right;\">\n      <th></th>\n      <th>Variable</th>\n      <th>Value</th>\n      <th>All</th>\n      <th>Good</th>\n      <th>Bad</th>\n      <th>Share</th>\n      <th>Bad Rate</th>\n      <th>Distribution Good</th>\n      <th>Distribution Bad</th>\n      <th>WoE</th>\n      <th>IV</th>\n    </tr>\n  </thead>\n  <tbody>\n    <tr>\n      <th>0</th>\n      <td>phone</td>\n      <td>0</td>\n      <td>17775</td>\n      <td>17481</td>\n      <td>294</td>\n      <td>0.707209</td>\n      <td>0.016540</td>\n      <td>0.707389</td>\n      <td>0.696682</td>\n      <td>0.015251</td>\n      <td>0.000163</td>\n    </tr>\n    <tr>\n      <th>1</th>\n      <td>phone</td>\n      <td>1</td>\n      <td>7359</td>\n      <td>7231</td>\n      <td>128</td>\n      <td>0.292791</td>\n      <td>0.017394</td>\n      <td>0.292611</td>\n      <td>0.303318</td>\n      <td>-0.035937</td>\n      <td>0.000385</td>\n    </tr>\n  </tbody>\n</table>\n</div>"
     },
     "execution_count": 18,
     "metadata": {},
     "output_type": "execute_result"
    }
   ],
   "source": [
    "new_data['phone']=new_data['phone'].astype(str)\n",
    "print(new_data['phone'].value_counts(normalize=True,sort=False))\n",
    "new_data.drop(new_data[new_data['phone'] == 'nan' ].index, inplace=True)\n",
    "iv, data=calc_iv(new_data,'phone','target')\n",
    "ivtable.loc[ivtable['variable']=='phone','IV']=iv\n",
    "data.head()"
   ]
  },
  {
   "cell_type": "markdown",
   "metadata": {},
   "source": [
    "#### Having an email or not"
   ]
  },
  {
   "cell_type": "code",
   "execution_count": 19,
   "metadata": {
    "ExecuteTime": {
     "end_time": "2024-01-14T20:20:44.009709900Z",
     "start_time": "2024-01-14T20:20:43.930719Z"
    }
   },
   "outputs": [
    {
     "name": "stdout",
     "output_type": "stream",
     "text": [
      "0    0.89934\n",
      "1    0.10066\n",
      "Name: email, dtype: float64\n",
      "This variable's IV is: 1.7343581493999816e-05\n",
      "0    22604\n",
      "1     2530\n",
      "Name: email, dtype: int64\n"
     ]
    },
    {
     "data": {
      "text/plain": "  Variable Value    All   Good  Bad    Share  Bad Rate  Distribution Good  \\\n0    email     0  22604  22225  379  0.89934  0.016767           0.899361   \n1    email     1   2530   2487   43  0.10066  0.016996           0.100639   \n\n   Distribution Bad       WoE        IV  \n0          0.898104  0.001398  0.000002  \n1          0.101896 -0.012407  0.000016  ",
      "text/html": "<div>\n<style scoped>\n    .dataframe tbody tr th:only-of-type {\n        vertical-align: middle;\n    }\n\n    .dataframe tbody tr th {\n        vertical-align: top;\n    }\n\n    .dataframe thead th {\n        text-align: right;\n    }\n</style>\n<table border=\"1\" class=\"dataframe\">\n  <thead>\n    <tr style=\"text-align: right;\">\n      <th></th>\n      <th>Variable</th>\n      <th>Value</th>\n      <th>All</th>\n      <th>Good</th>\n      <th>Bad</th>\n      <th>Share</th>\n      <th>Bad Rate</th>\n      <th>Distribution Good</th>\n      <th>Distribution Bad</th>\n      <th>WoE</th>\n      <th>IV</th>\n    </tr>\n  </thead>\n  <tbody>\n    <tr>\n      <th>0</th>\n      <td>email</td>\n      <td>0</td>\n      <td>22604</td>\n      <td>22225</td>\n      <td>379</td>\n      <td>0.89934</td>\n      <td>0.016767</td>\n      <td>0.899361</td>\n      <td>0.898104</td>\n      <td>0.001398</td>\n      <td>0.000002</td>\n    </tr>\n    <tr>\n      <th>1</th>\n      <td>email</td>\n      <td>1</td>\n      <td>2530</td>\n      <td>2487</td>\n      <td>43</td>\n      <td>0.10066</td>\n      <td>0.016996</td>\n      <td>0.100639</td>\n      <td>0.101896</td>\n      <td>-0.012407</td>\n      <td>0.000016</td>\n    </tr>\n  </tbody>\n</table>\n</div>"
     },
     "execution_count": 19,
     "metadata": {},
     "output_type": "execute_result"
    }
   ],
   "source": [
    "print(new_data['email'].value_counts(normalize=True,sort=False))\n",
    "new_data['email']=new_data['email'].astype(str)\n",
    "iv, data=calc_iv(new_data,'email','target')\n",
    "ivtable.loc[ivtable['variable']=='email','IV']=iv\n",
    "data.head()"
   ]
  },
  {
   "cell_type": "markdown",
   "metadata": {},
   "source": [
    "#### Having a Work Phone or not"
   ]
  },
  {
   "cell_type": "code",
   "execution_count": 20,
   "metadata": {
    "ExecuteTime": {
     "end_time": "2024-01-14T20:20:44.413062100Z",
     "start_time": "2024-01-14T20:20:44.331544200Z"
    }
   },
   "outputs": [
    {
     "name": "stdout",
     "output_type": "stream",
     "text": [
      "This variable's IV is: 0.002042429795148461\n",
      "0    18252\n",
      "1     6882\n",
      "Name: wkphone, dtype: int64\n"
     ]
    },
    {
     "data": {
      "text/plain": "  Variable Value    All   Good  Bad     Share  Bad Rate  Distribution Good  \\\n0  wkphone     0  18252  17954  298  0.726188  0.016327            0.72653   \n1  wkphone     1   6882   6758  124  0.273812  0.018018            0.27347   \n\n   Distribution Bad       WoE        IV  \n0          0.706161  0.028436  0.000579  \n1          0.293839 -0.071838  0.001463  ",
      "text/html": "<div>\n<style scoped>\n    .dataframe tbody tr th:only-of-type {\n        vertical-align: middle;\n    }\n\n    .dataframe tbody tr th {\n        vertical-align: top;\n    }\n\n    .dataframe thead th {\n        text-align: right;\n    }\n</style>\n<table border=\"1\" class=\"dataframe\">\n  <thead>\n    <tr style=\"text-align: right;\">\n      <th></th>\n      <th>Variable</th>\n      <th>Value</th>\n      <th>All</th>\n      <th>Good</th>\n      <th>Bad</th>\n      <th>Share</th>\n      <th>Bad Rate</th>\n      <th>Distribution Good</th>\n      <th>Distribution Bad</th>\n      <th>WoE</th>\n      <th>IV</th>\n    </tr>\n  </thead>\n  <tbody>\n    <tr>\n      <th>0</th>\n      <td>wkphone</td>\n      <td>0</td>\n      <td>18252</td>\n      <td>17954</td>\n      <td>298</td>\n      <td>0.726188</td>\n      <td>0.016327</td>\n      <td>0.72653</td>\n      <td>0.706161</td>\n      <td>0.028436</td>\n      <td>0.000579</td>\n    </tr>\n    <tr>\n      <th>1</th>\n      <td>wkphone</td>\n      <td>1</td>\n      <td>6882</td>\n      <td>6758</td>\n      <td>124</td>\n      <td>0.273812</td>\n      <td>0.018018</td>\n      <td>0.27347</td>\n      <td>0.293839</td>\n      <td>-0.071838</td>\n      <td>0.001463</td>\n    </tr>\n  </tbody>\n</table>\n</div>"
     },
     "execution_count": 20,
     "metadata": {},
     "output_type": "execute_result"
    }
   ],
   "source": [
    "new_data['wkphone']=new_data['wkphone'].astype(str)\n",
    "iv, data = calc_iv(new_data,'wkphone','target')\n",
    "new_data.drop(new_data[new_data['wkphone'] == 'nan' ].index, inplace=True)\n",
    "ivtable.loc[ivtable['variable']=='wkphone','IV']=iv\n",
    "data.head()"
   ]
  },
  {
   "cell_type": "markdown",
   "metadata": {},
   "source": [
    "### Continuous Variables\n",
    "\n",
    "#### Children Numbers"
   ]
  },
  {
   "cell_type": "code",
   "execution_count": 21,
   "metadata": {
    "ExecuteTime": {
     "end_time": "2024-01-14T20:20:44.759843300Z",
     "start_time": "2024-01-14T20:20:44.752964100Z"
    }
   },
   "outputs": [
    {
     "name": "stdout",
     "output_type": "stream",
     "text": [
      "0        15908\n",
      "2More     3108\n",
      "1         6118\n",
      "Name: ChldNo, dtype: int64\n"
     ]
    }
   ],
   "source": [
    "new_data.loc[new_data['ChldNo'] >= 2,'ChldNo']='2More'\n",
    "print(new_data['ChldNo'].value_counts(sort=False))"
   ]
  },
  {
   "cell_type": "code",
   "execution_count": 22,
   "metadata": {
    "ExecuteTime": {
     "end_time": "2024-01-14T20:20:45.078332200Z",
     "start_time": "2024-01-14T20:20:44.989122500Z"
    }
   },
   "outputs": [
    {
     "name": "stdout",
     "output_type": "stream",
     "text": [
      "This variable's IV is: 0.0011214542503301935\n",
      "0        15908\n",
      "1         6118\n",
      "2More     3108\n",
      "Name: ChldNo, dtype: int64\n"
     ]
    },
    {
     "data": {
      "text/plain": "  Variable  Value    All   Good  Bad     Share  Bad Rate  Distribution Good  \\\n0   ChldNo      0  15908  15635  273  0.632928  0.017161           0.632689   \n1   ChldNo      1   6118   6021   97  0.243415  0.015855           0.243647   \n2   ChldNo  2More   3108   3056   52  0.123657  0.016731           0.123665   \n\n   Distribution Bad       WoE        IV  \n0          0.646919 -0.022243  0.000317  \n1          0.229858  0.058259  0.000803  \n2          0.123223  0.003580  0.000002  ",
      "text/html": "<div>\n<style scoped>\n    .dataframe tbody tr th:only-of-type {\n        vertical-align: middle;\n    }\n\n    .dataframe tbody tr th {\n        vertical-align: top;\n    }\n\n    .dataframe thead th {\n        text-align: right;\n    }\n</style>\n<table border=\"1\" class=\"dataframe\">\n  <thead>\n    <tr style=\"text-align: right;\">\n      <th></th>\n      <th>Variable</th>\n      <th>Value</th>\n      <th>All</th>\n      <th>Good</th>\n      <th>Bad</th>\n      <th>Share</th>\n      <th>Bad Rate</th>\n      <th>Distribution Good</th>\n      <th>Distribution Bad</th>\n      <th>WoE</th>\n      <th>IV</th>\n    </tr>\n  </thead>\n  <tbody>\n    <tr>\n      <th>0</th>\n      <td>ChldNo</td>\n      <td>0</td>\n      <td>15908</td>\n      <td>15635</td>\n      <td>273</td>\n      <td>0.632928</td>\n      <td>0.017161</td>\n      <td>0.632689</td>\n      <td>0.646919</td>\n      <td>-0.022243</td>\n      <td>0.000317</td>\n    </tr>\n    <tr>\n      <th>1</th>\n      <td>ChldNo</td>\n      <td>1</td>\n      <td>6118</td>\n      <td>6021</td>\n      <td>97</td>\n      <td>0.243415</td>\n      <td>0.015855</td>\n      <td>0.243647</td>\n      <td>0.229858</td>\n      <td>0.058259</td>\n      <td>0.000803</td>\n    </tr>\n    <tr>\n      <th>2</th>\n      <td>ChldNo</td>\n      <td>2More</td>\n      <td>3108</td>\n      <td>3056</td>\n      <td>52</td>\n      <td>0.123657</td>\n      <td>0.016731</td>\n      <td>0.123665</td>\n      <td>0.123223</td>\n      <td>0.003580</td>\n      <td>0.000002</td>\n    </tr>\n  </tbody>\n</table>\n</div>"
     },
     "execution_count": 22,
     "metadata": {},
     "output_type": "execute_result"
    }
   ],
   "source": [
    "iv, data=calc_iv(new_data,'ChldNo','target')\n",
    "ivtable.loc[ivtable['variable']=='ChldNo','IV']=iv\n",
    "data.head()"
   ]
  },
  {
   "cell_type": "code",
   "execution_count": 23,
   "metadata": {
    "ExecuteTime": {
     "end_time": "2024-01-14T20:20:45.261291900Z",
     "start_time": "2024-01-14T20:20:45.229220600Z"
    }
   },
   "outputs": [],
   "source": [
    "new_data = convert_dummy(new_data,'ChldNo')"
   ]
  },
  {
   "cell_type": "markdown",
   "metadata": {},
   "source": [
    "#### Annual Income"
   ]
  },
  {
   "cell_type": "code",
   "execution_count": 24,
   "metadata": {
    "ExecuteTime": {
     "end_time": "2024-01-14T20:20:46.241808600Z",
     "start_time": "2024-01-14T20:20:46.013865600Z"
    }
   },
   "outputs": [
    {
     "name": "stdout",
     "output_type": "stream",
     "text": [
      "(2.544, 18.18]      14663\n",
      "(18.18, 33.66]       8464\n",
      "(33.66, 49.14]       1637\n",
      "(49.14, 64.62]        175\n",
      "(64.62, 80.1]         124\n",
      "(80.1, 95.58]          50\n",
      "(95.58, 111.06]         4\n",
      "(111.06, 126.54]        3\n",
      "(126.54, 142.02]        6\n",
      "(142.02, 157.5]         8\n",
      "Name: inc, dtype: int64\n"
     ]
    },
    {
     "data": {
      "text/plain": "<Axes: ylabel='Frequency'>"
     },
     "execution_count": 24,
     "metadata": {},
     "output_type": "execute_result"
    },
    {
     "data": {
      "text/plain": "<Figure size 640x480 with 1 Axes>",
      "image/svg+xml": "<?xml version=\"1.0\" encoding=\"utf-8\" standalone=\"no\"?>\n<!DOCTYPE svg PUBLIC \"-//W3C//DTD SVG 1.1//EN\"\n  \"http://www.w3.org/Graphics/SVG/1.1/DTD/svg11.dtd\">\n<svg xmlns:xlink=\"http://www.w3.org/1999/xlink\" width=\"411.243437pt\" height=\"296.657312pt\" viewBox=\"0 0 411.243437 296.657312\" xmlns=\"http://www.w3.org/2000/svg\" version=\"1.1\">\n <metadata>\n  <rdf:RDF xmlns:dc=\"http://purl.org/dc/elements/1.1/\" xmlns:cc=\"http://creativecommons.org/ns#\" xmlns:rdf=\"http://www.w3.org/1999/02/22-rdf-syntax-ns#\">\n   <cc:Work>\n    <dc:type rdf:resource=\"http://purl.org/dc/dcmitype/StillImage\"/>\n    <dc:date>2024-01-14T23:20:46.207447</dc:date>\n    <dc:format>image/svg+xml</dc:format>\n    <dc:creator>\n     <cc:Agent>\n      <dc:title>Matplotlib v3.7.1, https://matplotlib.org/</dc:title>\n     </cc:Agent>\n    </dc:creator>\n   </cc:Work>\n  </rdf:RDF>\n </metadata>\n <defs>\n  <style type=\"text/css\">*{stroke-linejoin: round; stroke-linecap: butt}</style>\n </defs>\n <g id=\"figure_1\">\n  <g id=\"patch_1\">\n   <path d=\"M 0 296.657312 \nL 411.243437 296.657312 \nL 411.243437 0 \nL 0 0 \nz\n\" style=\"fill: #ffffff\"/>\n  </g>\n  <g id=\"axes_1\">\n   <g id=\"patch_2\">\n    <path d=\"M 46.923438 273.312 \nL 404.043437 273.312 \nL 404.043437 7.2 \nL 46.923438 7.2 \nz\n\" style=\"fill: #eaeaf2\"/>\n   </g>\n   <g id=\"matplotlib.axis_1\">\n    <g id=\"xtick_1\">\n     <g id=\"line2d_1\">\n      <path d=\"M 57.493585 273.312 \nL 57.493585 7.2 \n\" clip-path=\"url(#p88f8154bbb)\" style=\"fill: none; stroke: #ffffff; stroke-width: 0.8; stroke-linecap: round\"/>\n     </g>\n     <g id=\"text_1\">\n      <!-- 0 -->\n      <g style=\"fill: #262626\" transform=\"translate(54.713117 287.469812) scale(0.1 -0.1)\">\n       <defs>\n        <path id=\"ArialMT-30\" d=\"M 266 2259 \nQ 266 3072 433 3567 \nQ 600 4063 929 4331 \nQ 1259 4600 1759 4600 \nQ 2128 4600 2406 4451 \nQ 2684 4303 2865 4023 \nQ 3047 3744 3150 3342 \nQ 3253 2941 3253 2259 \nQ 3253 1453 3087 958 \nQ 2922 463 2592 192 \nQ 2263 -78 1759 -78 \nQ 1097 -78 719 397 \nQ 266 969 266 2259 \nz\nM 844 2259 \nQ 844 1131 1108 757 \nQ 1372 384 1759 384 \nQ 2147 384 2411 759 \nQ 2675 1134 2675 2259 \nQ 2675 3391 2411 3762 \nQ 2147 4134 1753 4134 \nQ 1366 4134 1134 3806 \nQ 844 3388 844 2259 \nz\n\" transform=\"scale(0.015625)\"/>\n       </defs>\n       <use xlink:href=\"#ArialMT-30\"/>\n      </g>\n     </g>\n    </g>\n    <g id=\"xtick_2\">\n     <g id=\"line2d_2\">\n      <path d=\"M 99.438617 273.312 \nL 99.438617 7.2 \n\" clip-path=\"url(#p88f8154bbb)\" style=\"fill: none; stroke: #ffffff; stroke-width: 0.8; stroke-linecap: round\"/>\n     </g>\n     <g id=\"text_2\">\n      <!-- 20 -->\n      <g style=\"fill: #262626\" transform=\"translate(93.87768 287.469812) scale(0.1 -0.1)\">\n       <defs>\n        <path id=\"ArialMT-32\" d=\"M 3222 541 \nL 3222 0 \nL 194 0 \nQ 188 203 259 391 \nQ 375 700 629 1000 \nQ 884 1300 1366 1694 \nQ 2113 2306 2375 2664 \nQ 2638 3022 2638 3341 \nQ 2638 3675 2398 3904 \nQ 2159 4134 1775 4134 \nQ 1369 4134 1125 3890 \nQ 881 3647 878 3216 \nL 300 3275 \nQ 359 3922 746 4261 \nQ 1134 4600 1788 4600 \nQ 2447 4600 2831 4234 \nQ 3216 3869 3216 3328 \nQ 3216 3053 3103 2787 \nQ 2991 2522 2730 2228 \nQ 2469 1934 1863 1422 \nQ 1356 997 1212 845 \nQ 1069 694 975 541 \nL 3222 541 \nz\n\" transform=\"scale(0.015625)\"/>\n       </defs>\n       <use xlink:href=\"#ArialMT-32\"/>\n       <use xlink:href=\"#ArialMT-30\" x=\"55.615234\"/>\n      </g>\n     </g>\n    </g>\n    <g id=\"xtick_3\">\n     <g id=\"line2d_3\">\n      <path d=\"M 141.383649 273.312 \nL 141.383649 7.2 \n\" clip-path=\"url(#p88f8154bbb)\" style=\"fill: none; stroke: #ffffff; stroke-width: 0.8; stroke-linecap: round\"/>\n     </g>\n     <g id=\"text_3\">\n      <!-- 40 -->\n      <g style=\"fill: #262626\" transform=\"translate(135.822711 287.469812) scale(0.1 -0.1)\">\n       <defs>\n        <path id=\"ArialMT-34\" d=\"M 2069 0 \nL 2069 1097 \nL 81 1097 \nL 81 1613 \nL 2172 4581 \nL 2631 4581 \nL 2631 1613 \nL 3250 1613 \nL 3250 1097 \nL 2631 1097 \nL 2631 0 \nL 2069 0 \nz\nM 2069 1613 \nL 2069 3678 \nL 634 1613 \nL 2069 1613 \nz\n\" transform=\"scale(0.015625)\"/>\n       </defs>\n       <use xlink:href=\"#ArialMT-34\"/>\n       <use xlink:href=\"#ArialMT-30\" x=\"55.615234\"/>\n      </g>\n     </g>\n    </g>\n    <g id=\"xtick_4\">\n     <g id=\"line2d_4\">\n      <path d=\"M 183.328681 273.312 \nL 183.328681 7.2 \n\" clip-path=\"url(#p88f8154bbb)\" style=\"fill: none; stroke: #ffffff; stroke-width: 0.8; stroke-linecap: round\"/>\n     </g>\n     <g id=\"text_4\">\n      <!-- 60 -->\n      <g style=\"fill: #262626\" transform=\"translate(177.767743 287.469812) scale(0.1 -0.1)\">\n       <defs>\n        <path id=\"ArialMT-36\" d=\"M 3184 3459 \nL 2625 3416 \nQ 2550 3747 2413 3897 \nQ 2184 4138 1850 4138 \nQ 1581 4138 1378 3988 \nQ 1113 3794 959 3422 \nQ 806 3050 800 2363 \nQ 1003 2672 1297 2822 \nQ 1591 2972 1913 2972 \nQ 2475 2972 2870 2558 \nQ 3266 2144 3266 1488 \nQ 3266 1056 3080 686 \nQ 2894 316 2569 119 \nQ 2244 -78 1831 -78 \nQ 1128 -78 684 439 \nQ 241 956 241 2144 \nQ 241 3472 731 4075 \nQ 1159 4600 1884 4600 \nQ 2425 4600 2770 4297 \nQ 3116 3994 3184 3459 \nz\nM 888 1484 \nQ 888 1194 1011 928 \nQ 1134 663 1356 523 \nQ 1578 384 1822 384 \nQ 2178 384 2434 671 \nQ 2691 959 2691 1453 \nQ 2691 1928 2437 2201 \nQ 2184 2475 1800 2475 \nQ 1419 2475 1153 2201 \nQ 888 1928 888 1484 \nz\n\" transform=\"scale(0.015625)\"/>\n       </defs>\n       <use xlink:href=\"#ArialMT-36\"/>\n       <use xlink:href=\"#ArialMT-30\" x=\"55.615234\"/>\n      </g>\n     </g>\n    </g>\n    <g id=\"xtick_5\">\n     <g id=\"line2d_5\">\n      <path d=\"M 225.273712 273.312 \nL 225.273712 7.2 \n\" clip-path=\"url(#p88f8154bbb)\" style=\"fill: none; stroke: #ffffff; stroke-width: 0.8; stroke-linecap: round\"/>\n     </g>\n     <g id=\"text_5\">\n      <!-- 80 -->\n      <g style=\"fill: #262626\" transform=\"translate(219.712775 287.469812) scale(0.1 -0.1)\">\n       <defs>\n        <path id=\"ArialMT-38\" d=\"M 1131 2484 \nQ 781 2613 612 2850 \nQ 444 3088 444 3419 \nQ 444 3919 803 4259 \nQ 1163 4600 1759 4600 \nQ 2359 4600 2725 4251 \nQ 3091 3903 3091 3403 \nQ 3091 3084 2923 2848 \nQ 2756 2613 2416 2484 \nQ 2838 2347 3058 2040 \nQ 3278 1734 3278 1309 \nQ 3278 722 2862 322 \nQ 2447 -78 1769 -78 \nQ 1091 -78 675 323 \nQ 259 725 259 1325 \nQ 259 1772 486 2073 \nQ 713 2375 1131 2484 \nz\nM 1019 3438 \nQ 1019 3113 1228 2906 \nQ 1438 2700 1772 2700 \nQ 2097 2700 2305 2904 \nQ 2513 3109 2513 3406 \nQ 2513 3716 2298 3927 \nQ 2084 4138 1766 4138 \nQ 1444 4138 1231 3931 \nQ 1019 3725 1019 3438 \nz\nM 838 1322 \nQ 838 1081 952 856 \nQ 1066 631 1291 507 \nQ 1516 384 1775 384 \nQ 2178 384 2440 643 \nQ 2703 903 2703 1303 \nQ 2703 1709 2433 1975 \nQ 2163 2241 1756 2241 \nQ 1359 2241 1098 1978 \nQ 838 1716 838 1322 \nz\n\" transform=\"scale(0.015625)\"/>\n       </defs>\n       <use xlink:href=\"#ArialMT-38\"/>\n       <use xlink:href=\"#ArialMT-30\" x=\"55.615234\"/>\n      </g>\n     </g>\n    </g>\n    <g id=\"xtick_6\">\n     <g id=\"line2d_6\">\n      <path d=\"M 267.218744 273.312 \nL 267.218744 7.2 \n\" clip-path=\"url(#p88f8154bbb)\" style=\"fill: none; stroke: #ffffff; stroke-width: 0.8; stroke-linecap: round\"/>\n     </g>\n     <g id=\"text_6\">\n      <!-- 100 -->\n      <g style=\"fill: #262626\" transform=\"translate(258.877338 287.469812) scale(0.1 -0.1)\">\n       <defs>\n        <path id=\"ArialMT-31\" d=\"M 2384 0 \nL 1822 0 \nL 1822 3584 \nQ 1619 3391 1289 3197 \nQ 959 3003 697 2906 \nL 697 3450 \nQ 1169 3672 1522 3987 \nQ 1875 4303 2022 4600 \nL 2384 4600 \nL 2384 0 \nz\n\" transform=\"scale(0.015625)\"/>\n       </defs>\n       <use xlink:href=\"#ArialMT-31\"/>\n       <use xlink:href=\"#ArialMT-30\" x=\"55.615234\"/>\n       <use xlink:href=\"#ArialMT-30\" x=\"111.230469\"/>\n      </g>\n     </g>\n    </g>\n    <g id=\"xtick_7\">\n     <g id=\"line2d_7\">\n      <path d=\"M 309.163776 273.312 \nL 309.163776 7.2 \n\" clip-path=\"url(#p88f8154bbb)\" style=\"fill: none; stroke: #ffffff; stroke-width: 0.8; stroke-linecap: round\"/>\n     </g>\n     <g id=\"text_7\">\n      <!-- 120 -->\n      <g style=\"fill: #262626\" transform=\"translate(300.82237 287.469812) scale(0.1 -0.1)\">\n       <use xlink:href=\"#ArialMT-31\"/>\n       <use xlink:href=\"#ArialMT-32\" x=\"55.615234\"/>\n       <use xlink:href=\"#ArialMT-30\" x=\"111.230469\"/>\n      </g>\n     </g>\n    </g>\n    <g id=\"xtick_8\">\n     <g id=\"line2d_8\">\n      <path d=\"M 351.108807 273.312 \nL 351.108807 7.2 \n\" clip-path=\"url(#p88f8154bbb)\" style=\"fill: none; stroke: #ffffff; stroke-width: 0.8; stroke-linecap: round\"/>\n     </g>\n     <g id=\"text_8\">\n      <!-- 140 -->\n      <g style=\"fill: #262626\" transform=\"translate(342.767401 287.469812) scale(0.1 -0.1)\">\n       <use xlink:href=\"#ArialMT-31\"/>\n       <use xlink:href=\"#ArialMT-34\" x=\"55.615234\"/>\n       <use xlink:href=\"#ArialMT-30\" x=\"111.230469\"/>\n      </g>\n     </g>\n    </g>\n    <g id=\"xtick_9\">\n     <g id=\"line2d_9\">\n      <path d=\"M 393.053839 273.312 \nL 393.053839 7.2 \n\" clip-path=\"url(#p88f8154bbb)\" style=\"fill: none; stroke: #ffffff; stroke-width: 0.8; stroke-linecap: round\"/>\n     </g>\n     <g id=\"text_9\">\n      <!-- 160 -->\n      <g style=\"fill: #262626\" transform=\"translate(384.712433 287.469812) scale(0.1 -0.1)\">\n       <use xlink:href=\"#ArialMT-31\"/>\n       <use xlink:href=\"#ArialMT-36\" x=\"55.615234\"/>\n       <use xlink:href=\"#ArialMT-30\" x=\"111.230469\"/>\n      </g>\n     </g>\n    </g>\n   </g>\n   <g id=\"matplotlib.axis_2\">\n    <g id=\"ytick_1\">\n     <g id=\"line2d_10\">\n      <path d=\"M 46.923438 273.312 \nL 404.043437 273.312 \n\" clip-path=\"url(#p88f8154bbb)\" style=\"fill: none; stroke: #ffffff; stroke-width: 0.8; stroke-linecap: round\"/>\n     </g>\n     <g id=\"text_10\">\n      <!-- 0.00 -->\n      <g style=\"fill: #262626\" transform=\"translate(20.4625 276.890906) scale(0.1 -0.1)\">\n       <defs>\n        <path id=\"ArialMT-2e\" d=\"M 581 0 \nL 581 641 \nL 1222 641 \nL 1222 0 \nL 581 0 \nz\n\" transform=\"scale(0.015625)\"/>\n       </defs>\n       <use xlink:href=\"#ArialMT-30\"/>\n       <use xlink:href=\"#ArialMT-2e\" x=\"55.615234\"/>\n       <use xlink:href=\"#ArialMT-30\" x=\"83.398438\"/>\n       <use xlink:href=\"#ArialMT-30\" x=\"139.013672\"/>\n      </g>\n     </g>\n    </g>\n    <g id=\"ytick_2\">\n     <g id=\"line2d_11\">\n      <path d=\"M 46.923438 234.846232 \nL 404.043437 234.846232 \n\" clip-path=\"url(#p88f8154bbb)\" style=\"fill: none; stroke: #ffffff; stroke-width: 0.8; stroke-linecap: round\"/>\n     </g>\n     <g id=\"text_11\">\n      <!-- 0.01 -->\n      <g style=\"fill: #262626\" transform=\"translate(20.4625 238.425138) scale(0.1 -0.1)\">\n       <use xlink:href=\"#ArialMT-30\"/>\n       <use xlink:href=\"#ArialMT-2e\" x=\"55.615234\"/>\n       <use xlink:href=\"#ArialMT-30\" x=\"83.398438\"/>\n       <use xlink:href=\"#ArialMT-31\" x=\"139.013672\"/>\n      </g>\n     </g>\n    </g>\n    <g id=\"ytick_3\">\n     <g id=\"line2d_12\">\n      <path d=\"M 46.923438 196.380464 \nL 404.043437 196.380464 \n\" clip-path=\"url(#p88f8154bbb)\" style=\"fill: none; stroke: #ffffff; stroke-width: 0.8; stroke-linecap: round\"/>\n     </g>\n     <g id=\"text_12\">\n      <!-- 0.02 -->\n      <g style=\"fill: #262626\" transform=\"translate(20.4625 199.959371) scale(0.1 -0.1)\">\n       <use xlink:href=\"#ArialMT-30\"/>\n       <use xlink:href=\"#ArialMT-2e\" x=\"55.615234\"/>\n       <use xlink:href=\"#ArialMT-30\" x=\"83.398438\"/>\n       <use xlink:href=\"#ArialMT-32\" x=\"139.013672\"/>\n      </g>\n     </g>\n    </g>\n    <g id=\"ytick_4\">\n     <g id=\"line2d_13\">\n      <path d=\"M 46.923438 157.914697 \nL 404.043437 157.914697 \n\" clip-path=\"url(#p88f8154bbb)\" style=\"fill: none; stroke: #ffffff; stroke-width: 0.8; stroke-linecap: round\"/>\n     </g>\n     <g id=\"text_13\">\n      <!-- 0.03 -->\n      <g style=\"fill: #262626\" transform=\"translate(20.4625 161.493603) scale(0.1 -0.1)\">\n       <defs>\n        <path id=\"ArialMT-33\" d=\"M 269 1209 \nL 831 1284 \nQ 928 806 1161 595 \nQ 1394 384 1728 384 \nQ 2125 384 2398 659 \nQ 2672 934 2672 1341 \nQ 2672 1728 2419 1979 \nQ 2166 2231 1775 2231 \nQ 1616 2231 1378 2169 \nL 1441 2663 \nQ 1497 2656 1531 2656 \nQ 1891 2656 2178 2843 \nQ 2466 3031 2466 3422 \nQ 2466 3731 2256 3934 \nQ 2047 4138 1716 4138 \nQ 1388 4138 1169 3931 \nQ 950 3725 888 3313 \nL 325 3413 \nQ 428 3978 793 4289 \nQ 1159 4600 1703 4600 \nQ 2078 4600 2393 4439 \nQ 2709 4278 2876 4000 \nQ 3044 3722 3044 3409 \nQ 3044 3113 2884 2869 \nQ 2725 2625 2413 2481 \nQ 2819 2388 3044 2092 \nQ 3269 1797 3269 1353 \nQ 3269 753 2831 336 \nQ 2394 -81 1725 -81 \nQ 1122 -81 723 278 \nQ 325 638 269 1209 \nz\n\" transform=\"scale(0.015625)\"/>\n       </defs>\n       <use xlink:href=\"#ArialMT-30\"/>\n       <use xlink:href=\"#ArialMT-2e\" x=\"55.615234\"/>\n       <use xlink:href=\"#ArialMT-30\" x=\"83.398438\"/>\n       <use xlink:href=\"#ArialMT-33\" x=\"139.013672\"/>\n      </g>\n     </g>\n    </g>\n    <g id=\"ytick_5\">\n     <g id=\"line2d_14\">\n      <path d=\"M 46.923438 119.448929 \nL 404.043437 119.448929 \n\" clip-path=\"url(#p88f8154bbb)\" style=\"fill: none; stroke: #ffffff; stroke-width: 0.8; stroke-linecap: round\"/>\n     </g>\n     <g id=\"text_14\">\n      <!-- 0.04 -->\n      <g style=\"fill: #262626\" transform=\"translate(20.4625 123.027835) scale(0.1 -0.1)\">\n       <use xlink:href=\"#ArialMT-30\"/>\n       <use xlink:href=\"#ArialMT-2e\" x=\"55.615234\"/>\n       <use xlink:href=\"#ArialMT-30\" x=\"83.398438\"/>\n       <use xlink:href=\"#ArialMT-34\" x=\"139.013672\"/>\n      </g>\n     </g>\n    </g>\n    <g id=\"ytick_6\">\n     <g id=\"line2d_15\">\n      <path d=\"M 46.923438 80.983161 \nL 404.043437 80.983161 \n\" clip-path=\"url(#p88f8154bbb)\" style=\"fill: none; stroke: #ffffff; stroke-width: 0.8; stroke-linecap: round\"/>\n     </g>\n     <g id=\"text_15\">\n      <!-- 0.05 -->\n      <g style=\"fill: #262626\" transform=\"translate(20.4625 84.562067) scale(0.1 -0.1)\">\n       <defs>\n        <path id=\"ArialMT-35\" d=\"M 266 1200 \nL 856 1250 \nQ 922 819 1161 601 \nQ 1400 384 1738 384 \nQ 2144 384 2425 690 \nQ 2706 997 2706 1503 \nQ 2706 1984 2436 2262 \nQ 2166 2541 1728 2541 \nQ 1456 2541 1237 2417 \nQ 1019 2294 894 2097 \nL 366 2166 \nL 809 4519 \nL 3088 4519 \nL 3088 3981 \nL 1259 3981 \nL 1013 2750 \nQ 1425 3038 1878 3038 \nQ 2478 3038 2890 2622 \nQ 3303 2206 3303 1553 \nQ 3303 931 2941 478 \nQ 2500 -78 1738 -78 \nQ 1113 -78 717 272 \nQ 322 622 266 1200 \nz\n\" transform=\"scale(0.015625)\"/>\n       </defs>\n       <use xlink:href=\"#ArialMT-30\"/>\n       <use xlink:href=\"#ArialMT-2e\" x=\"55.615234\"/>\n       <use xlink:href=\"#ArialMT-30\" x=\"83.398438\"/>\n       <use xlink:href=\"#ArialMT-35\" x=\"139.013672\"/>\n      </g>\n     </g>\n    </g>\n    <g id=\"ytick_7\">\n     <g id=\"line2d_16\">\n      <path d=\"M 46.923438 42.517393 \nL 404.043437 42.517393 \n\" clip-path=\"url(#p88f8154bbb)\" style=\"fill: none; stroke: #ffffff; stroke-width: 0.8; stroke-linecap: round\"/>\n     </g>\n     <g id=\"text_16\">\n      <!-- 0.06 -->\n      <g style=\"fill: #262626\" transform=\"translate(20.4625 46.0963) scale(0.1 -0.1)\">\n       <use xlink:href=\"#ArialMT-30\"/>\n       <use xlink:href=\"#ArialMT-2e\" x=\"55.615234\"/>\n       <use xlink:href=\"#ArialMT-30\" x=\"83.398438\"/>\n       <use xlink:href=\"#ArialMT-36\" x=\"139.013672\"/>\n      </g>\n     </g>\n    </g>\n    <g id=\"text_17\">\n     <!-- Frequency -->\n     <g style=\"fill: #262626\" transform=\"translate(14.357813 163.877094) rotate(-90) scale(0.1 -0.1)\">\n      <defs>\n       <path id=\"ArialMT-46\" d=\"M 525 0 \nL 525 4581 \nL 3616 4581 \nL 3616 4041 \nL 1131 4041 \nL 1131 2622 \nL 3281 2622 \nL 3281 2081 \nL 1131 2081 \nL 1131 0 \nL 525 0 \nz\n\" transform=\"scale(0.015625)\"/>\n       <path id=\"ArialMT-72\" d=\"M 416 0 \nL 416 3319 \nL 922 3319 \nL 922 2816 \nQ 1116 3169 1280 3281 \nQ 1444 3394 1641 3394 \nQ 1925 3394 2219 3213 \nL 2025 2691 \nQ 1819 2813 1613 2813 \nQ 1428 2813 1281 2702 \nQ 1134 2591 1072 2394 \nQ 978 2094 978 1738 \nL 978 0 \nL 416 0 \nz\n\" transform=\"scale(0.015625)\"/>\n       <path id=\"ArialMT-65\" d=\"M 2694 1069 \nL 3275 997 \nQ 3138 488 2766 206 \nQ 2394 -75 1816 -75 \nQ 1088 -75 661 373 \nQ 234 822 234 1631 \nQ 234 2469 665 2931 \nQ 1097 3394 1784 3394 \nQ 2450 3394 2872 2941 \nQ 3294 2488 3294 1666 \nQ 3294 1616 3291 1516 \nL 816 1516 \nQ 847 969 1125 678 \nQ 1403 388 1819 388 \nQ 2128 388 2347 550 \nQ 2566 713 2694 1069 \nz\nM 847 1978 \nL 2700 1978 \nQ 2663 2397 2488 2606 \nQ 2219 2931 1791 2931 \nQ 1403 2931 1139 2672 \nQ 875 2413 847 1978 \nz\n\" transform=\"scale(0.015625)\"/>\n       <path id=\"ArialMT-71\" d=\"M 2538 -1272 \nL 2538 353 \nQ 2406 169 2170 47 \nQ 1934 -75 1669 -75 \nQ 1078 -75 651 397 \nQ 225 869 225 1691 \nQ 225 2191 398 2587 \nQ 572 2984 901 3189 \nQ 1231 3394 1625 3394 \nQ 2241 3394 2594 2875 \nL 2594 3319 \nL 3100 3319 \nL 3100 -1272 \nL 2538 -1272 \nz\nM 803 1669 \nQ 803 1028 1072 708 \nQ 1341 388 1716 388 \nQ 2075 388 2334 692 \nQ 2594 997 2594 1619 \nQ 2594 2281 2320 2615 \nQ 2047 2950 1678 2950 \nQ 1313 2950 1058 2639 \nQ 803 2328 803 1669 \nz\n\" transform=\"scale(0.015625)\"/>\n       <path id=\"ArialMT-75\" d=\"M 2597 0 \nL 2597 488 \nQ 2209 -75 1544 -75 \nQ 1250 -75 995 37 \nQ 741 150 617 320 \nQ 494 491 444 738 \nQ 409 903 409 1263 \nL 409 3319 \nL 972 3319 \nL 972 1478 \nQ 972 1038 1006 884 \nQ 1059 663 1231 536 \nQ 1403 409 1656 409 \nQ 1909 409 2131 539 \nQ 2353 669 2445 892 \nQ 2538 1116 2538 1541 \nL 2538 3319 \nL 3100 3319 \nL 3100 0 \nL 2597 0 \nz\n\" transform=\"scale(0.015625)\"/>\n       <path id=\"ArialMT-6e\" d=\"M 422 0 \nL 422 3319 \nL 928 3319 \nL 928 2847 \nQ 1294 3394 1984 3394 \nQ 2284 3394 2536 3286 \nQ 2788 3178 2913 3003 \nQ 3038 2828 3088 2588 \nQ 3119 2431 3119 2041 \nL 3119 0 \nL 2556 0 \nL 2556 2019 \nQ 2556 2363 2490 2533 \nQ 2425 2703 2258 2804 \nQ 2091 2906 1866 2906 \nQ 1506 2906 1245 2678 \nQ 984 2450 984 1813 \nL 984 0 \nL 422 0 \nz\n\" transform=\"scale(0.015625)\"/>\n       <path id=\"ArialMT-63\" d=\"M 2588 1216 \nL 3141 1144 \nQ 3050 572 2676 248 \nQ 2303 -75 1759 -75 \nQ 1078 -75 664 370 \nQ 250 816 250 1647 \nQ 250 2184 428 2587 \nQ 606 2991 970 3192 \nQ 1334 3394 1763 3394 \nQ 2303 3394 2647 3120 \nQ 2991 2847 3088 2344 \nL 2541 2259 \nQ 2463 2594 2264 2762 \nQ 2066 2931 1784 2931 \nQ 1359 2931 1093 2626 \nQ 828 2322 828 1663 \nQ 828 994 1084 691 \nQ 1341 388 1753 388 \nQ 2084 388 2306 591 \nQ 2528 794 2588 1216 \nz\n\" transform=\"scale(0.015625)\"/>\n       <path id=\"ArialMT-79\" d=\"M 397 -1278 \nL 334 -750 \nQ 519 -800 656 -800 \nQ 844 -800 956 -737 \nQ 1069 -675 1141 -563 \nQ 1194 -478 1313 -144 \nQ 1328 -97 1363 -6 \nL 103 3319 \nL 709 3319 \nL 1400 1397 \nQ 1534 1031 1641 628 \nQ 1738 1016 1872 1384 \nL 2581 3319 \nL 3144 3319 \nL 1881 -56 \nQ 1678 -603 1566 -809 \nQ 1416 -1088 1222 -1217 \nQ 1028 -1347 759 -1347 \nQ 597 -1347 397 -1278 \nz\n\" transform=\"scale(0.015625)\"/>\n      </defs>\n      <use xlink:href=\"#ArialMT-46\"/>\n      <use xlink:href=\"#ArialMT-72\" x=\"61.083984\"/>\n      <use xlink:href=\"#ArialMT-65\" x=\"94.384766\"/>\n      <use xlink:href=\"#ArialMT-71\" x=\"150\"/>\n      <use xlink:href=\"#ArialMT-75\" x=\"205.615234\"/>\n      <use xlink:href=\"#ArialMT-65\" x=\"261.230469\"/>\n      <use xlink:href=\"#ArialMT-6e\" x=\"316.845703\"/>\n      <use xlink:href=\"#ArialMT-63\" x=\"372.460938\"/>\n      <use xlink:href=\"#ArialMT-79\" x=\"422.460938\"/>\n     </g>\n    </g>\n   </g>\n   <g id=\"patch_3\">\n    <path d=\"M 63.156165 273.312 \nL 69.649256 273.312 \nL 69.649256 265.106219 \nL 63.156165 265.106219 \nz\n\" clip-path=\"url(#p88f8154bbb)\" style=\"fill: #1f77b4; stroke: #ffffff; stroke-linejoin: miter\"/>\n   </g>\n   <g id=\"patch_4\">\n    <path d=\"M 69.649256 273.312 \nL 76.142347 273.312 \nL 76.142347 214.042532 \nL 69.649256 214.042532 \nz\n\" clip-path=\"url(#p88f8154bbb)\" style=\"fill: #1f77b4; stroke: #ffffff; stroke-linejoin: miter\"/>\n   </g>\n   <g id=\"patch_5\">\n    <path d=\"M 76.142347 273.312 \nL 82.635438 273.312 \nL 82.635438 85.963141 \nL 76.142347 85.963141 \nz\n\" clip-path=\"url(#p88f8154bbb)\" style=\"fill: #1f77b4; stroke: #ffffff; stroke-linejoin: miter\"/>\n   </g>\n   <g id=\"patch_6\">\n    <path d=\"M 82.635438 273.312 \nL 89.128528 273.312 \nL 89.128528 56.748583 \nL 82.635438 56.748583 \nz\n\" clip-path=\"url(#p88f8154bbb)\" style=\"fill: #1f77b4; stroke: #ffffff; stroke-linejoin: miter\"/>\n   </g>\n   <g id=\"patch_7\">\n    <path d=\"M 89.128528 273.312 \nL 95.621619 273.312 \nL 95.621619 19.872 \nL 89.128528 19.872 \nz\n\" clip-path=\"url(#p88f8154bbb)\" style=\"fill: #1f77b4; stroke: #ffffff; stroke-linejoin: miter\"/>\n   </g>\n   <g id=\"patch_8\">\n    <path d=\"M 95.621619 273.312 \nL 102.11471 273.312 \nL 102.11471 173.804545 \nL 95.621619 173.804545 \nz\n\" clip-path=\"url(#p88f8154bbb)\" style=\"fill: #1f77b4; stroke: #ffffff; stroke-linejoin: miter\"/>\n   </g>\n   <g id=\"patch_9\">\n    <path d=\"M 102.11471 273.312 \nL 108.607801 273.312 \nL 108.607801 141.030853 \nL 102.11471 141.030853 \nz\n\" clip-path=\"url(#p88f8154bbb)\" style=\"fill: #1f77b4; stroke: #ffffff; stroke-linejoin: miter\"/>\n   </g>\n   <g id=\"patch_10\">\n    <path d=\"M 108.607801 273.312 \nL 115.100892 273.312 \nL 115.100892 160.754387 \nL 108.607801 160.754387 \nz\n\" clip-path=\"url(#p88f8154bbb)\" style=\"fill: #1f77b4; stroke: #ffffff; stroke-linejoin: miter\"/>\n   </g>\n   <g id=\"patch_11\">\n    <path d=\"M 115.100892 273.312 \nL 121.593983 273.312 \nL 121.593983 246.173603 \nL 115.100892 246.173603 \nz\n\" clip-path=\"url(#p88f8154bbb)\" style=\"fill: #1f77b4; stroke: #ffffff; stroke-linejoin: miter\"/>\n   </g>\n   <g id=\"patch_12\">\n    <path d=\"M 121.593983 273.312 \nL 128.087074 273.312 \nL 128.087074 226.400637 \nL 121.593983 226.400637 \nz\n\" clip-path=\"url(#p88f8154bbb)\" style=\"fill: #1f77b4; stroke: #ffffff; stroke-linejoin: miter\"/>\n   </g>\n   <g id=\"patch_13\">\n    <path d=\"M 128.087074 273.312 \nL 134.580165 273.312 \nL 134.580165 232.134797 \nL 128.087074 232.134797 \nz\n\" clip-path=\"url(#p88f8154bbb)\" style=\"fill: #1f77b4; stroke: #ffffff; stroke-linejoin: miter\"/>\n   </g>\n   <g id=\"patch_14\">\n    <path d=\"M 134.580165 273.312 \nL 141.073256 273.312 \nL 141.073256 262.980625 \nL 134.580165 262.980625 \nz\n\" clip-path=\"url(#p88f8154bbb)\" style=\"fill: #1f77b4; stroke: #ffffff; stroke-linejoin: miter\"/>\n   </g>\n   <g id=\"patch_15\">\n    <path d=\"M 141.073256 273.312 \nL 147.566347 273.312 \nL 147.566347 260.756166 \nL 141.073256 260.756166 \nz\n\" clip-path=\"url(#p88f8154bbb)\" style=\"fill: #1f77b4; stroke: #ffffff; stroke-linejoin: miter\"/>\n   </g>\n   <g id=\"patch_16\">\n    <path d=\"M 147.566347 273.312 \nL 154.059438 273.312 \nL 154.059438 257.543059 \nL 147.566347 257.543059 \nz\n\" clip-path=\"url(#p88f8154bbb)\" style=\"fill: #1f77b4; stroke: #ffffff; stroke-linejoin: miter\"/>\n   </g>\n   <g id=\"patch_17\">\n    <path d=\"M 154.059438 273.312 \nL 160.552528 273.312 \nL 160.552528 272.224487 \nL 154.059438 272.224487 \nz\n\" clip-path=\"url(#p88f8154bbb)\" style=\"fill: #1f77b4; stroke: #ffffff; stroke-linejoin: miter\"/>\n   </g>\n   <g id=\"patch_18\">\n    <path d=\"M 160.552528 273.312 \nL 167.045619 273.312 \nL 167.045619 271.186406 \nL 160.552528 271.186406 \nz\n\" clip-path=\"url(#p88f8154bbb)\" style=\"fill: #1f77b4; stroke: #ffffff; stroke-linejoin: miter\"/>\n   </g>\n   <g id=\"patch_19\">\n    <path d=\"M 167.045619 273.312 \nL 173.53871 273.312 \nL 173.53871 270.889812 \nL 167.045619 270.889812 \nz\n\" clip-path=\"url(#p88f8154bbb)\" style=\"fill: #1f77b4; stroke: #ffffff; stroke-linejoin: miter\"/>\n   </g>\n   <g id=\"patch_20\">\n    <path d=\"M 173.53871 273.312 \nL 180.031801 273.312 \nL 180.031801 272.125622 \nL 173.53871 272.125622 \nz\n\" clip-path=\"url(#p88f8154bbb)\" style=\"fill: #1f77b4; stroke: #ffffff; stroke-linejoin: miter\"/>\n   </g>\n   <g id=\"patch_21\">\n    <path d=\"M 180.031801 273.312 \nL 186.524892 273.312 \nL 186.524892 271.68073 \nL 180.031801 271.68073 \nz\n\" clip-path=\"url(#p88f8154bbb)\" style=\"fill: #1f77b4; stroke: #ffffff; stroke-linejoin: miter\"/>\n   </g>\n   <g id=\"patch_22\">\n    <path d=\"M 186.524892 273.312 \nL 193.017983 273.312 \nL 193.017983 272.026757 \nL 186.524892 272.026757 \nz\n\" clip-path=\"url(#p88f8154bbb)\" style=\"fill: #1f77b4; stroke: #ffffff; stroke-linejoin: miter\"/>\n   </g>\n   <g id=\"patch_23\">\n    <path d=\"M 193.017983 273.312 \nL 199.511074 273.312 \nL 199.511074 269.01138 \nL 193.017983 269.01138 \nz\n\" clip-path=\"url(#p88f8154bbb)\" style=\"fill: #1f77b4; stroke: #ffffff; stroke-linejoin: miter\"/>\n   </g>\n   <g id=\"patch_24\">\n    <path d=\"M 199.511074 273.312 \nL 206.004165 273.312 \nL 206.004165 273.213135 \nL 199.511074 273.213135 \nz\n\" clip-path=\"url(#p88f8154bbb)\" style=\"fill: #1f77b4; stroke: #ffffff; stroke-linejoin: miter\"/>\n   </g>\n   <g id=\"patch_25\">\n    <path d=\"M 206.004165 273.312 \nL 212.497256 273.312 \nL 212.497256 272.273919 \nL 206.004165 272.273919 \nz\n\" clip-path=\"url(#p88f8154bbb)\" style=\"fill: #1f77b4; stroke: #ffffff; stroke-linejoin: miter\"/>\n   </g>\n   <g id=\"patch_26\">\n    <path d=\"M 212.497256 273.312 \nL 218.990347 273.312 \nL 218.990347 272.867108 \nL 212.497256 272.867108 \nz\n\" clip-path=\"url(#p88f8154bbb)\" style=\"fill: #1f77b4; stroke: #ffffff; stroke-linejoin: miter\"/>\n   </g>\n   <g id=\"patch_27\">\n    <path d=\"M 218.990347 273.312 \nL 225.483438 273.312 \nL 225.483438 273.064838 \nL 218.990347 273.064838 \nz\n\" clip-path=\"url(#p88f8154bbb)\" style=\"fill: #1f77b4; stroke: #ffffff; stroke-linejoin: miter\"/>\n   </g>\n   <g id=\"patch_28\">\n    <path d=\"M 225.483438 273.312 \nL 231.976528 273.312 \nL 231.976528 272.916541 \nL 225.483438 272.916541 \nz\n\" clip-path=\"url(#p88f8154bbb)\" style=\"fill: #1f77b4; stroke: #ffffff; stroke-linejoin: miter\"/>\n   </g>\n   <g id=\"patch_29\">\n    <path d=\"M 231.976528 273.312 \nL 238.469619 273.312 \nL 238.469619 273.312 \nL 231.976528 273.312 \nz\n\" clip-path=\"url(#p88f8154bbb)\" style=\"fill: #1f77b4; stroke: #ffffff; stroke-linejoin: miter\"/>\n   </g>\n   <g id=\"patch_30\">\n    <path d=\"M 238.469619 273.312 \nL 244.96271 273.312 \nL 244.96271 273.312 \nL 238.469619 273.312 \nz\n\" clip-path=\"url(#p88f8154bbb)\" style=\"fill: #1f77b4; stroke: #ffffff; stroke-linejoin: miter\"/>\n   </g>\n   <g id=\"patch_31\">\n    <path d=\"M 244.96271 273.312 \nL 251.455801 273.312 \nL 251.455801 271.433568 \nL 244.96271 271.433568 \nz\n\" clip-path=\"url(#p88f8154bbb)\" style=\"fill: #1f77b4; stroke: #ffffff; stroke-linejoin: miter\"/>\n   </g>\n   <g id=\"patch_32\">\n    <path d=\"M 251.455801 273.312 \nL 257.948892 273.312 \nL 257.948892 273.11427 \nL 251.455801 273.11427 \nz\n\" clip-path=\"url(#p88f8154bbb)\" style=\"fill: #1f77b4; stroke: #ffffff; stroke-linejoin: miter\"/>\n   </g>\n   <g id=\"patch_33\">\n    <path d=\"M 257.948892 273.312 \nL 264.441983 273.312 \nL 264.441983 273.312 \nL 257.948892 273.312 \nz\n\" clip-path=\"url(#p88f8154bbb)\" style=\"fill: #1f77b4; stroke: #ffffff; stroke-linejoin: miter\"/>\n   </g>\n   <g id=\"patch_34\">\n    <path d=\"M 264.441983 273.312 \nL 270.935074 273.312 \nL 270.935074 273.11427 \nL 264.441983 273.11427 \nz\n\" clip-path=\"url(#p88f8154bbb)\" style=\"fill: #1f77b4; stroke: #ffffff; stroke-linejoin: miter\"/>\n   </g>\n   <g id=\"patch_35\">\n    <path d=\"M 270.935074 273.312 \nL 277.428165 273.312 \nL 277.428165 273.312 \nL 270.935074 273.312 \nz\n\" clip-path=\"url(#p88f8154bbb)\" style=\"fill: #1f77b4; stroke: #ffffff; stroke-linejoin: miter\"/>\n   </g>\n   <g id=\"patch_36\">\n    <path d=\"M 277.428165 273.312 \nL 283.921256 273.312 \nL 283.921256 273.312 \nL 277.428165 273.312 \nz\n\" clip-path=\"url(#p88f8154bbb)\" style=\"fill: #1f77b4; stroke: #ffffff; stroke-linejoin: miter\"/>\n   </g>\n   <g id=\"patch_37\">\n    <path d=\"M 283.921256 273.312 \nL 290.414347 273.312 \nL 290.414347 273.312 \nL 283.921256 273.312 \nz\n\" clip-path=\"url(#p88f8154bbb)\" style=\"fill: #1f77b4; stroke: #ffffff; stroke-linejoin: miter\"/>\n   </g>\n   <g id=\"patch_38\">\n    <path d=\"M 290.414347 273.312 \nL 296.907438 273.312 \nL 296.907438 273.163703 \nL 290.414347 273.163703 \nz\n\" clip-path=\"url(#p88f8154bbb)\" style=\"fill: #1f77b4; stroke: #ffffff; stroke-linejoin: miter\"/>\n   </g>\n   <g id=\"patch_39\">\n    <path d=\"M 296.907438 273.312 \nL 303.400528 273.312 \nL 303.400528 273.312 \nL 296.907438 273.312 \nz\n\" clip-path=\"url(#p88f8154bbb)\" style=\"fill: #1f77b4; stroke: #ffffff; stroke-linejoin: miter\"/>\n   </g>\n   <g id=\"patch_40\">\n    <path d=\"M 303.400528 273.312 \nL 309.893619 273.312 \nL 309.893619 273.312 \nL 303.400528 273.312 \nz\n\" clip-path=\"url(#p88f8154bbb)\" style=\"fill: #1f77b4; stroke: #ffffff; stroke-linejoin: miter\"/>\n   </g>\n   <g id=\"patch_41\">\n    <path d=\"M 309.893619 273.312 \nL 316.38671 273.312 \nL 316.38671 273.312 \nL 309.893619 273.312 \nz\n\" clip-path=\"url(#p88f8154bbb)\" style=\"fill: #1f77b4; stroke: #ffffff; stroke-linejoin: miter\"/>\n   </g>\n   <g id=\"patch_42\">\n    <path d=\"M 316.38671 273.312 \nL 322.879801 273.312 \nL 322.879801 273.312 \nL 316.38671 273.312 \nz\n\" clip-path=\"url(#p88f8154bbb)\" style=\"fill: #1f77b4; stroke: #ffffff; stroke-linejoin: miter\"/>\n   </g>\n   <g id=\"patch_43\">\n    <path d=\"M 322.879801 273.312 \nL 329.372892 273.312 \nL 329.372892 273.312 \nL 322.879801 273.312 \nz\n\" clip-path=\"url(#p88f8154bbb)\" style=\"fill: #1f77b4; stroke: #ffffff; stroke-linejoin: miter\"/>\n   </g>\n   <g id=\"patch_44\">\n    <path d=\"M 329.372892 273.312 \nL 335.865983 273.312 \nL 335.865983 273.312 \nL 329.372892 273.312 \nz\n\" clip-path=\"url(#p88f8154bbb)\" style=\"fill: #1f77b4; stroke: #ffffff; stroke-linejoin: miter\"/>\n   </g>\n   <g id=\"patch_45\">\n    <path d=\"M 335.865983 273.312 \nL 342.359074 273.312 \nL 342.359074 273.015406 \nL 335.865983 273.015406 \nz\n\" clip-path=\"url(#p88f8154bbb)\" style=\"fill: #1f77b4; stroke: #ffffff; stroke-linejoin: miter\"/>\n   </g>\n   <g id=\"patch_46\">\n    <path d=\"M 342.359074 273.312 \nL 348.852165 273.312 \nL 348.852165 273.312 \nL 342.359074 273.312 \nz\n\" clip-path=\"url(#p88f8154bbb)\" style=\"fill: #1f77b4; stroke: #ffffff; stroke-linejoin: miter\"/>\n   </g>\n   <g id=\"patch_47\">\n    <path d=\"M 348.852165 273.312 \nL 355.345256 273.312 \nL 355.345256 273.312 \nL 348.852165 273.312 \nz\n\" clip-path=\"url(#p88f8154bbb)\" style=\"fill: #1f77b4; stroke: #ffffff; stroke-linejoin: miter\"/>\n   </g>\n   <g id=\"patch_48\">\n    <path d=\"M 355.345256 273.312 \nL 361.838347 273.312 \nL 361.838347 273.312 \nL 355.345256 273.312 \nz\n\" clip-path=\"url(#p88f8154bbb)\" style=\"fill: #1f77b4; stroke: #ffffff; stroke-linejoin: miter\"/>\n   </g>\n   <g id=\"patch_49\">\n    <path d=\"M 361.838347 273.312 \nL 368.331437 273.312 \nL 368.331437 273.312 \nL 361.838347 273.312 \nz\n\" clip-path=\"url(#p88f8154bbb)\" style=\"fill: #1f77b4; stroke: #ffffff; stroke-linejoin: miter\"/>\n   </g>\n   <g id=\"patch_50\">\n    <path d=\"M 368.331437 273.312 \nL 374.824528 273.312 \nL 374.824528 273.312 \nL 368.331437 273.312 \nz\n\" clip-path=\"url(#p88f8154bbb)\" style=\"fill: #1f77b4; stroke: #ffffff; stroke-linejoin: miter\"/>\n   </g>\n   <g id=\"patch_51\">\n    <path d=\"M 374.824528 273.312 \nL 381.317619 273.312 \nL 381.317619 273.312 \nL 374.824528 273.312 \nz\n\" clip-path=\"url(#p88f8154bbb)\" style=\"fill: #1f77b4; stroke: #ffffff; stroke-linejoin: miter\"/>\n   </g>\n   <g id=\"patch_52\">\n    <path d=\"M 381.317619 273.312 \nL 387.81071 273.312 \nL 387.81071 272.916541 \nL 381.317619 272.916541 \nz\n\" clip-path=\"url(#p88f8154bbb)\" style=\"fill: #1f77b4; stroke: #ffffff; stroke-linejoin: miter\"/>\n   </g>\n   <g id=\"patch_53\">\n    <path d=\"M 46.923438 273.312 \nL 46.923438 7.2 \n\" style=\"fill: none; stroke: #ffffff; stroke-width: 0.8; stroke-linejoin: miter; stroke-linecap: square\"/>\n   </g>\n   <g id=\"patch_54\">\n    <path d=\"M 404.043437 273.312 \nL 404.043437 7.2 \n\" style=\"fill: none; stroke: #ffffff; stroke-width: 0.8; stroke-linejoin: miter; stroke-linecap: square\"/>\n   </g>\n   <g id=\"patch_55\">\n    <path d=\"M 46.923438 273.312 \nL 404.043437 273.312 \n\" style=\"fill: none; stroke: #ffffff; stroke-width: 0.8; stroke-linejoin: miter; stroke-linecap: square\"/>\n   </g>\n   <g id=\"patch_56\">\n    <path d=\"M 46.923438 7.2 \nL 404.043437 7.2 \n\" style=\"fill: none; stroke: #ffffff; stroke-width: 0.8; stroke-linejoin: miter; stroke-linecap: square\"/>\n   </g>\n  </g>\n </g>\n <defs>\n  <clipPath id=\"p88f8154bbb\">\n   <rect x=\"46.923438\" y=\"7.2\" width=\"357.12\" height=\"266.112\"/>\n  </clipPath>\n </defs>\n</svg>\n"
     },
     "metadata": {},
     "output_type": "display_data"
    }
   ],
   "source": [
    "new_data['inc']=new_data['inc'].astype(object)\n",
    "new_data['inc'] = new_data['inc']/10000 \n",
    "print(new_data['inc'].value_counts(bins=10,sort=False))\n",
    "new_data['inc'].plot(kind='hist',bins=50,density=True)"
   ]
  },
  {
   "cell_type": "code",
   "execution_count": 25,
   "metadata": {
    "ExecuteTime": {
     "end_time": "2024-01-14T20:20:46.489898400Z",
     "start_time": "2024-01-14T20:20:46.482339600Z"
    }
   },
   "outputs": [],
   "source": [
    "# new_data = get_category(new_data,'inc', 3, [\"low\",\"medium\", \"high\"], qcut = True)\n",
    "# iv, data = calc_iv(new_data,'gp_inc','target')\n",
    "# ivtable.loc[ivtable['variable']=='inc','IV']=iv\n",
    "# data.head()"
   ]
  },
  {
   "cell_type": "code",
   "execution_count": 26,
   "metadata": {
    "ExecuteTime": {
     "end_time": "2024-01-14T20:20:46.778688100Z",
     "start_time": "2024-01-14T20:20:46.772631700Z"
    }
   },
   "outputs": [],
   "source": [
    "# new_data = convert_dummy(new_data,'gp_inc')"
   ]
  },
  {
   "cell_type": "markdown",
   "metadata": {},
   "source": [
    "#### Age"
   ]
  },
  {
   "cell_type": "code",
   "execution_count": 27,
   "metadata": {
    "ExecuteTime": {
     "end_time": "2024-01-14T20:20:47.342625Z",
     "start_time": "2024-01-14T20:20:47.206570700Z"
    }
   },
   "outputs": [
    {
     "name": "stdout",
     "output_type": "stream",
     "text": [
      "(19.951999999999998, 24.7]    0.025066\n",
      "(24.7, 29.4]                  0.134280\n",
      "(29.4, 34.1]                  0.169770\n",
      "(34.1, 38.8]                  0.140805\n",
      "(38.8, 43.5]                  0.173072\n",
      "(43.5, 48.2]                  0.141880\n",
      "(48.2, 52.9]                  0.099069\n",
      "(52.9, 57.6]                  0.076550\n",
      "(57.6, 62.3]                  0.032585\n",
      "(62.3, 67.0]                  0.006923\n",
      "Name: Age, dtype: float64\n"
     ]
    },
    {
     "data": {
      "text/plain": "<Axes: ylabel='Frequency'>"
     },
     "execution_count": 27,
     "metadata": {},
     "output_type": "execute_result"
    },
    {
     "data": {
      "text/plain": "<Figure size 640x480 with 1 Axes>",
      "image/svg+xml": "<?xml version=\"1.0\" encoding=\"utf-8\" standalone=\"no\"?>\n<!DOCTYPE svg PUBLIC \"-//W3C//DTD SVG 1.1//EN\"\n  \"http://www.w3.org/Graphics/SVG/1.1/DTD/svg11.dtd\">\n<svg xmlns:xlink=\"http://www.w3.org/1999/xlink\" width=\"411.243437pt\" height=\"296.657312pt\" viewBox=\"0 0 411.243437 296.657312\" xmlns=\"http://www.w3.org/2000/svg\" version=\"1.1\">\n <metadata>\n  <rdf:RDF xmlns:dc=\"http://purl.org/dc/elements/1.1/\" xmlns:cc=\"http://creativecommons.org/ns#\" xmlns:rdf=\"http://www.w3.org/1999/02/22-rdf-syntax-ns#\">\n   <cc:Work>\n    <dc:type rdf:resource=\"http://purl.org/dc/dcmitype/StillImage\"/>\n    <dc:date>2024-01-14T23:20:47.317414</dc:date>\n    <dc:format>image/svg+xml</dc:format>\n    <dc:creator>\n     <cc:Agent>\n      <dc:title>Matplotlib v3.7.1, https://matplotlib.org/</dc:title>\n     </cc:Agent>\n    </dc:creator>\n   </cc:Work>\n  </rdf:RDF>\n </metadata>\n <defs>\n  <style type=\"text/css\">*{stroke-linejoin: round; stroke-linecap: butt}</style>\n </defs>\n <g id=\"figure_1\">\n  <g id=\"patch_1\">\n   <path d=\"M 0 296.657312 \nL 411.243437 296.657312 \nL 411.243437 0 \nL 0 0 \nz\n\" style=\"fill: #ffffff\"/>\n  </g>\n  <g id=\"axes_1\">\n   <g id=\"patch_2\">\n    <path d=\"M 46.923438 273.312 \nL 404.043437 273.312 \nL 404.043437 7.2 \nL 46.923438 7.2 \nz\n\" style=\"fill: #eaeaf2\"/>\n   </g>\n   <g id=\"matplotlib.axis_1\">\n    <g id=\"xtick_1\">\n     <g id=\"line2d_1\">\n      <path d=\"M 63.156165 273.312 \nL 63.156165 7.2 \n\" clip-path=\"url(#p81d73d6fd8)\" style=\"fill: none; stroke: #ffffff; stroke-width: 0.8; stroke-linecap: round\"/>\n     </g>\n     <g id=\"text_1\">\n      <!-- 20 -->\n      <g style=\"fill: #262626\" transform=\"translate(57.595227 287.469812) scale(0.1 -0.1)\">\n       <defs>\n        <path id=\"ArialMT-32\" d=\"M 3222 541 \nL 3222 0 \nL 194 0 \nQ 188 203 259 391 \nQ 375 700 629 1000 \nQ 884 1300 1366 1694 \nQ 2113 2306 2375 2664 \nQ 2638 3022 2638 3341 \nQ 2638 3675 2398 3904 \nQ 2159 4134 1775 4134 \nQ 1369 4134 1125 3890 \nQ 881 3647 878 3216 \nL 300 3275 \nQ 359 3922 746 4261 \nQ 1134 4600 1788 4600 \nQ 2447 4600 2831 4234 \nQ 3216 3869 3216 3328 \nQ 3216 3053 3103 2787 \nQ 2991 2522 2730 2228 \nQ 2469 1934 1863 1422 \nQ 1356 997 1212 845 \nQ 1069 694 975 541 \nL 3222 541 \nz\n\" transform=\"scale(0.015625)\"/>\n        <path id=\"ArialMT-30\" d=\"M 266 2259 \nQ 266 3072 433 3567 \nQ 600 4063 929 4331 \nQ 1259 4600 1759 4600 \nQ 2128 4600 2406 4451 \nQ 2684 4303 2865 4023 \nQ 3047 3744 3150 3342 \nQ 3253 2941 3253 2259 \nQ 3253 1453 3087 958 \nQ 2922 463 2592 192 \nQ 2263 -78 1759 -78 \nQ 1097 -78 719 397 \nQ 266 969 266 2259 \nz\nM 844 2259 \nQ 844 1131 1108 757 \nQ 1372 384 1759 384 \nQ 2147 384 2411 759 \nQ 2675 1134 2675 2259 \nQ 2675 3391 2411 3762 \nQ 2147 4134 1753 4134 \nQ 1366 4134 1134 3806 \nQ 844 3388 844 2259 \nz\n\" transform=\"scale(0.015625)\"/>\n       </defs>\n       <use xlink:href=\"#ArialMT-32\"/>\n       <use xlink:href=\"#ArialMT-30\" x=\"55.615234\"/>\n      </g>\n     </g>\n    </g>\n    <g id=\"xtick_2\">\n     <g id=\"line2d_2\">\n      <path d=\"M 132.2316 273.312 \nL 132.2316 7.2 \n\" clip-path=\"url(#p81d73d6fd8)\" style=\"fill: none; stroke: #ffffff; stroke-width: 0.8; stroke-linecap: round\"/>\n     </g>\n     <g id=\"text_2\">\n      <!-- 30 -->\n      <g style=\"fill: #262626\" transform=\"translate(126.670662 287.469812) scale(0.1 -0.1)\">\n       <defs>\n        <path id=\"ArialMT-33\" d=\"M 269 1209 \nL 831 1284 \nQ 928 806 1161 595 \nQ 1394 384 1728 384 \nQ 2125 384 2398 659 \nQ 2672 934 2672 1341 \nQ 2672 1728 2419 1979 \nQ 2166 2231 1775 2231 \nQ 1616 2231 1378 2169 \nL 1441 2663 \nQ 1497 2656 1531 2656 \nQ 1891 2656 2178 2843 \nQ 2466 3031 2466 3422 \nQ 2466 3731 2256 3934 \nQ 2047 4138 1716 4138 \nQ 1388 4138 1169 3931 \nQ 950 3725 888 3313 \nL 325 3413 \nQ 428 3978 793 4289 \nQ 1159 4600 1703 4600 \nQ 2078 4600 2393 4439 \nQ 2709 4278 2876 4000 \nQ 3044 3722 3044 3409 \nQ 3044 3113 2884 2869 \nQ 2725 2625 2413 2481 \nQ 2819 2388 3044 2092 \nQ 3269 1797 3269 1353 \nQ 3269 753 2831 336 \nQ 2394 -81 1725 -81 \nQ 1122 -81 723 278 \nQ 325 638 269 1209 \nz\n\" transform=\"scale(0.015625)\"/>\n       </defs>\n       <use xlink:href=\"#ArialMT-33\"/>\n       <use xlink:href=\"#ArialMT-30\" x=\"55.615234\"/>\n      </g>\n     </g>\n    </g>\n    <g id=\"xtick_3\">\n     <g id=\"line2d_3\">\n      <path d=\"M 201.307035 273.312 \nL 201.307035 7.2 \n\" clip-path=\"url(#p81d73d6fd8)\" style=\"fill: none; stroke: #ffffff; stroke-width: 0.8; stroke-linecap: round\"/>\n     </g>\n     <g id=\"text_3\">\n      <!-- 40 -->\n      <g style=\"fill: #262626\" transform=\"translate(195.746098 287.469812) scale(0.1 -0.1)\">\n       <defs>\n        <path id=\"ArialMT-34\" d=\"M 2069 0 \nL 2069 1097 \nL 81 1097 \nL 81 1613 \nL 2172 4581 \nL 2631 4581 \nL 2631 1613 \nL 3250 1613 \nL 3250 1097 \nL 2631 1097 \nL 2631 0 \nL 2069 0 \nz\nM 2069 1613 \nL 2069 3678 \nL 634 1613 \nL 2069 1613 \nz\n\" transform=\"scale(0.015625)\"/>\n       </defs>\n       <use xlink:href=\"#ArialMT-34\"/>\n       <use xlink:href=\"#ArialMT-30\" x=\"55.615234\"/>\n      </g>\n     </g>\n    </g>\n    <g id=\"xtick_4\">\n     <g id=\"line2d_4\">\n      <path d=\"M 270.38247 273.312 \nL 270.38247 7.2 \n\" clip-path=\"url(#p81d73d6fd8)\" style=\"fill: none; stroke: #ffffff; stroke-width: 0.8; stroke-linecap: round\"/>\n     </g>\n     <g id=\"text_4\">\n      <!-- 50 -->\n      <g style=\"fill: #262626\" transform=\"translate(264.821533 287.469812) scale(0.1 -0.1)\">\n       <defs>\n        <path id=\"ArialMT-35\" d=\"M 266 1200 \nL 856 1250 \nQ 922 819 1161 601 \nQ 1400 384 1738 384 \nQ 2144 384 2425 690 \nQ 2706 997 2706 1503 \nQ 2706 1984 2436 2262 \nQ 2166 2541 1728 2541 \nQ 1456 2541 1237 2417 \nQ 1019 2294 894 2097 \nL 366 2166 \nL 809 4519 \nL 3088 4519 \nL 3088 3981 \nL 1259 3981 \nL 1013 2750 \nQ 1425 3038 1878 3038 \nQ 2478 3038 2890 2622 \nQ 3303 2206 3303 1553 \nQ 3303 931 2941 478 \nQ 2500 -78 1738 -78 \nQ 1113 -78 717 272 \nQ 322 622 266 1200 \nz\n\" transform=\"scale(0.015625)\"/>\n       </defs>\n       <use xlink:href=\"#ArialMT-35\"/>\n       <use xlink:href=\"#ArialMT-30\" x=\"55.615234\"/>\n      </g>\n     </g>\n    </g>\n    <g id=\"xtick_5\">\n     <g id=\"line2d_5\">\n      <path d=\"M 339.457906 273.312 \nL 339.457906 7.2 \n\" clip-path=\"url(#p81d73d6fd8)\" style=\"fill: none; stroke: #ffffff; stroke-width: 0.8; stroke-linecap: round\"/>\n     </g>\n     <g id=\"text_5\">\n      <!-- 60 -->\n      <g style=\"fill: #262626\" transform=\"translate(333.896968 287.469812) scale(0.1 -0.1)\">\n       <defs>\n        <path id=\"ArialMT-36\" d=\"M 3184 3459 \nL 2625 3416 \nQ 2550 3747 2413 3897 \nQ 2184 4138 1850 4138 \nQ 1581 4138 1378 3988 \nQ 1113 3794 959 3422 \nQ 806 3050 800 2363 \nQ 1003 2672 1297 2822 \nQ 1591 2972 1913 2972 \nQ 2475 2972 2870 2558 \nQ 3266 2144 3266 1488 \nQ 3266 1056 3080 686 \nQ 2894 316 2569 119 \nQ 2244 -78 1831 -78 \nQ 1128 -78 684 439 \nQ 241 956 241 2144 \nQ 241 3472 731 4075 \nQ 1159 4600 1884 4600 \nQ 2425 4600 2770 4297 \nQ 3116 3994 3184 3459 \nz\nM 888 1484 \nQ 888 1194 1011 928 \nQ 1134 663 1356 523 \nQ 1578 384 1822 384 \nQ 2178 384 2434 671 \nQ 2691 959 2691 1453 \nQ 2691 1928 2437 2201 \nQ 2184 2475 1800 2475 \nQ 1419 2475 1153 2201 \nQ 888 1928 888 1484 \nz\n\" transform=\"scale(0.015625)\"/>\n       </defs>\n       <use xlink:href=\"#ArialMT-36\"/>\n       <use xlink:href=\"#ArialMT-30\" x=\"55.615234\"/>\n      </g>\n     </g>\n    </g>\n   </g>\n   <g id=\"matplotlib.axis_2\">\n    <g id=\"ytick_1\">\n     <g id=\"line2d_6\">\n      <path d=\"M 46.923438 273.312 \nL 404.043437 273.312 \n\" clip-path=\"url(#p81d73d6fd8)\" style=\"fill: none; stroke: #ffffff; stroke-width: 0.8; stroke-linecap: round\"/>\n     </g>\n     <g id=\"text_6\">\n      <!-- 0.00 -->\n      <g style=\"fill: #262626\" transform=\"translate(20.4625 276.890906) scale(0.1 -0.1)\">\n       <defs>\n        <path id=\"ArialMT-2e\" d=\"M 581 0 \nL 581 641 \nL 1222 641 \nL 1222 0 \nL 581 0 \nz\n\" transform=\"scale(0.015625)\"/>\n       </defs>\n       <use xlink:href=\"#ArialMT-30\"/>\n       <use xlink:href=\"#ArialMT-2e\" x=\"55.615234\"/>\n       <use xlink:href=\"#ArialMT-30\" x=\"83.398438\"/>\n       <use xlink:href=\"#ArialMT-30\" x=\"139.013672\"/>\n      </g>\n     </g>\n    </g>\n    <g id=\"ytick_2\">\n     <g id=\"line2d_7\">\n      <path d=\"M 46.923438 217.601512 \nL 404.043437 217.601512 \n\" clip-path=\"url(#p81d73d6fd8)\" style=\"fill: none; stroke: #ffffff; stroke-width: 0.8; stroke-linecap: round\"/>\n     </g>\n     <g id=\"text_7\">\n      <!-- 0.01 -->\n      <g style=\"fill: #262626\" transform=\"translate(20.4625 221.180418) scale(0.1 -0.1)\">\n       <defs>\n        <path id=\"ArialMT-31\" d=\"M 2384 0 \nL 1822 0 \nL 1822 3584 \nQ 1619 3391 1289 3197 \nQ 959 3003 697 2906 \nL 697 3450 \nQ 1169 3672 1522 3987 \nQ 1875 4303 2022 4600 \nL 2384 4600 \nL 2384 0 \nz\n\" transform=\"scale(0.015625)\"/>\n       </defs>\n       <use xlink:href=\"#ArialMT-30\"/>\n       <use xlink:href=\"#ArialMT-2e\" x=\"55.615234\"/>\n       <use xlink:href=\"#ArialMT-30\" x=\"83.398438\"/>\n       <use xlink:href=\"#ArialMT-31\" x=\"139.013672\"/>\n      </g>\n     </g>\n    </g>\n    <g id=\"ytick_3\">\n     <g id=\"line2d_8\">\n      <path d=\"M 46.923438 161.891023 \nL 404.043437 161.891023 \n\" clip-path=\"url(#p81d73d6fd8)\" style=\"fill: none; stroke: #ffffff; stroke-width: 0.8; stroke-linecap: round\"/>\n     </g>\n     <g id=\"text_8\">\n      <!-- 0.02 -->\n      <g style=\"fill: #262626\" transform=\"translate(20.4625 165.469929) scale(0.1 -0.1)\">\n       <use xlink:href=\"#ArialMT-30\"/>\n       <use xlink:href=\"#ArialMT-2e\" x=\"55.615234\"/>\n       <use xlink:href=\"#ArialMT-30\" x=\"83.398438\"/>\n       <use xlink:href=\"#ArialMT-32\" x=\"139.013672\"/>\n      </g>\n     </g>\n    </g>\n    <g id=\"ytick_4\">\n     <g id=\"line2d_9\">\n      <path d=\"M 46.923438 106.180535 \nL 404.043437 106.180535 \n\" clip-path=\"url(#p81d73d6fd8)\" style=\"fill: none; stroke: #ffffff; stroke-width: 0.8; stroke-linecap: round\"/>\n     </g>\n     <g id=\"text_9\">\n      <!-- 0.03 -->\n      <g style=\"fill: #262626\" transform=\"translate(20.4625 109.759441) scale(0.1 -0.1)\">\n       <use xlink:href=\"#ArialMT-30\"/>\n       <use xlink:href=\"#ArialMT-2e\" x=\"55.615234\"/>\n       <use xlink:href=\"#ArialMT-30\" x=\"83.398438\"/>\n       <use xlink:href=\"#ArialMT-33\" x=\"139.013672\"/>\n      </g>\n     </g>\n    </g>\n    <g id=\"ytick_5\">\n     <g id=\"line2d_10\">\n      <path d=\"M 46.923438 50.470046 \nL 404.043437 50.470046 \n\" clip-path=\"url(#p81d73d6fd8)\" style=\"fill: none; stroke: #ffffff; stroke-width: 0.8; stroke-linecap: round\"/>\n     </g>\n     <g id=\"text_10\">\n      <!-- 0.04 -->\n      <g style=\"fill: #262626\" transform=\"translate(20.4625 54.048952) scale(0.1 -0.1)\">\n       <use xlink:href=\"#ArialMT-30\"/>\n       <use xlink:href=\"#ArialMT-2e\" x=\"55.615234\"/>\n       <use xlink:href=\"#ArialMT-30\" x=\"83.398438\"/>\n       <use xlink:href=\"#ArialMT-34\" x=\"139.013672\"/>\n      </g>\n     </g>\n    </g>\n    <g id=\"text_11\">\n     <!-- Frequency -->\n     <g style=\"fill: #262626\" transform=\"translate(14.357813 163.877094) rotate(-90) scale(0.1 -0.1)\">\n      <defs>\n       <path id=\"ArialMT-46\" d=\"M 525 0 \nL 525 4581 \nL 3616 4581 \nL 3616 4041 \nL 1131 4041 \nL 1131 2622 \nL 3281 2622 \nL 3281 2081 \nL 1131 2081 \nL 1131 0 \nL 525 0 \nz\n\" transform=\"scale(0.015625)\"/>\n       <path id=\"ArialMT-72\" d=\"M 416 0 \nL 416 3319 \nL 922 3319 \nL 922 2816 \nQ 1116 3169 1280 3281 \nQ 1444 3394 1641 3394 \nQ 1925 3394 2219 3213 \nL 2025 2691 \nQ 1819 2813 1613 2813 \nQ 1428 2813 1281 2702 \nQ 1134 2591 1072 2394 \nQ 978 2094 978 1738 \nL 978 0 \nL 416 0 \nz\n\" transform=\"scale(0.015625)\"/>\n       <path id=\"ArialMT-65\" d=\"M 2694 1069 \nL 3275 997 \nQ 3138 488 2766 206 \nQ 2394 -75 1816 -75 \nQ 1088 -75 661 373 \nQ 234 822 234 1631 \nQ 234 2469 665 2931 \nQ 1097 3394 1784 3394 \nQ 2450 3394 2872 2941 \nQ 3294 2488 3294 1666 \nQ 3294 1616 3291 1516 \nL 816 1516 \nQ 847 969 1125 678 \nQ 1403 388 1819 388 \nQ 2128 388 2347 550 \nQ 2566 713 2694 1069 \nz\nM 847 1978 \nL 2700 1978 \nQ 2663 2397 2488 2606 \nQ 2219 2931 1791 2931 \nQ 1403 2931 1139 2672 \nQ 875 2413 847 1978 \nz\n\" transform=\"scale(0.015625)\"/>\n       <path id=\"ArialMT-71\" d=\"M 2538 -1272 \nL 2538 353 \nQ 2406 169 2170 47 \nQ 1934 -75 1669 -75 \nQ 1078 -75 651 397 \nQ 225 869 225 1691 \nQ 225 2191 398 2587 \nQ 572 2984 901 3189 \nQ 1231 3394 1625 3394 \nQ 2241 3394 2594 2875 \nL 2594 3319 \nL 3100 3319 \nL 3100 -1272 \nL 2538 -1272 \nz\nM 803 1669 \nQ 803 1028 1072 708 \nQ 1341 388 1716 388 \nQ 2075 388 2334 692 \nQ 2594 997 2594 1619 \nQ 2594 2281 2320 2615 \nQ 2047 2950 1678 2950 \nQ 1313 2950 1058 2639 \nQ 803 2328 803 1669 \nz\n\" transform=\"scale(0.015625)\"/>\n       <path id=\"ArialMT-75\" d=\"M 2597 0 \nL 2597 488 \nQ 2209 -75 1544 -75 \nQ 1250 -75 995 37 \nQ 741 150 617 320 \nQ 494 491 444 738 \nQ 409 903 409 1263 \nL 409 3319 \nL 972 3319 \nL 972 1478 \nQ 972 1038 1006 884 \nQ 1059 663 1231 536 \nQ 1403 409 1656 409 \nQ 1909 409 2131 539 \nQ 2353 669 2445 892 \nQ 2538 1116 2538 1541 \nL 2538 3319 \nL 3100 3319 \nL 3100 0 \nL 2597 0 \nz\n\" transform=\"scale(0.015625)\"/>\n       <path id=\"ArialMT-6e\" d=\"M 422 0 \nL 422 3319 \nL 928 3319 \nL 928 2847 \nQ 1294 3394 1984 3394 \nQ 2284 3394 2536 3286 \nQ 2788 3178 2913 3003 \nQ 3038 2828 3088 2588 \nQ 3119 2431 3119 2041 \nL 3119 0 \nL 2556 0 \nL 2556 2019 \nQ 2556 2363 2490 2533 \nQ 2425 2703 2258 2804 \nQ 2091 2906 1866 2906 \nQ 1506 2906 1245 2678 \nQ 984 2450 984 1813 \nL 984 0 \nL 422 0 \nz\n\" transform=\"scale(0.015625)\"/>\n       <path id=\"ArialMT-63\" d=\"M 2588 1216 \nL 3141 1144 \nQ 3050 572 2676 248 \nQ 2303 -75 1759 -75 \nQ 1078 -75 664 370 \nQ 250 816 250 1647 \nQ 250 2184 428 2587 \nQ 606 2991 970 3192 \nQ 1334 3394 1763 3394 \nQ 2303 3394 2647 3120 \nQ 2991 2847 3088 2344 \nL 2541 2259 \nQ 2463 2594 2264 2762 \nQ 2066 2931 1784 2931 \nQ 1359 2931 1093 2626 \nQ 828 2322 828 1663 \nQ 828 994 1084 691 \nQ 1341 388 1753 388 \nQ 2084 388 2306 591 \nQ 2528 794 2588 1216 \nz\n\" transform=\"scale(0.015625)\"/>\n       <path id=\"ArialMT-79\" d=\"M 397 -1278 \nL 334 -750 \nQ 519 -800 656 -800 \nQ 844 -800 956 -737 \nQ 1069 -675 1141 -563 \nQ 1194 -478 1313 -144 \nQ 1328 -97 1363 -6 \nL 103 3319 \nL 709 3319 \nL 1400 1397 \nQ 1534 1031 1641 628 \nQ 1738 1016 1872 1384 \nL 2581 3319 \nL 3144 3319 \nL 1881 -56 \nQ 1678 -603 1566 -809 \nQ 1416 -1088 1222 -1217 \nQ 1028 -1347 759 -1347 \nQ 597 -1347 397 -1278 \nz\n\" transform=\"scale(0.015625)\"/>\n      </defs>\n      <use xlink:href=\"#ArialMT-46\"/>\n      <use xlink:href=\"#ArialMT-72\" x=\"61.083984\"/>\n      <use xlink:href=\"#ArialMT-65\" x=\"94.384766\"/>\n      <use xlink:href=\"#ArialMT-71\" x=\"150\"/>\n      <use xlink:href=\"#ArialMT-75\" x=\"205.615234\"/>\n      <use xlink:href=\"#ArialMT-65\" x=\"261.230469\"/>\n      <use xlink:href=\"#ArialMT-6e\" x=\"316.845703\"/>\n      <use xlink:href=\"#ArialMT-63\" x=\"372.460938\"/>\n      <use xlink:href=\"#ArialMT-79\" x=\"422.460938\"/>\n     </g>\n    </g>\n   </g>\n   <g id=\"patch_3\">\n    <path d=\"M 63.156165 273.312 \nL 79.388892 273.312 \nL 79.388892 261.050295 \nL 63.156165 261.050295 \nz\n\" clip-path=\"url(#p81d73d6fd8)\" style=\"fill: #1f77b4; stroke: #ffffff; stroke-linejoin: miter\"/>\n   </g>\n   <g id=\"patch_4\">\n    <path d=\"M 79.388892 273.312 \nL 95.621619 273.312 \nL 95.621619 226.151598 \nL 79.388892 226.151598 \nz\n\" clip-path=\"url(#p81d73d6fd8)\" style=\"fill: #1f77b4; stroke: #ffffff; stroke-linejoin: miter\"/>\n   </g>\n   <g id=\"patch_5\">\n    <path d=\"M 95.621619 273.312 \nL 111.854347 273.312 \nL 111.854347 115.041691 \nL 95.621619 115.041691 \nz\n\" clip-path=\"url(#p81d73d6fd8)\" style=\"fill: #1f77b4; stroke: #ffffff; stroke-linejoin: miter\"/>\n   </g>\n   <g id=\"patch_6\">\n    <path d=\"M 111.854347 273.312 \nL 128.087074 273.312 \nL 128.087074 113.249596 \nL 111.854347 113.249596 \nz\n\" clip-path=\"url(#p81d73d6fd8)\" style=\"fill: #1f77b4; stroke: #ffffff; stroke-linejoin: miter\"/>\n   </g>\n   <g id=\"patch_7\">\n    <path d=\"M 128.087074 273.312 \nL 144.319801 273.312 \nL 144.319801 119.66341 \nL 128.087074 119.66341 \nz\n\" clip-path=\"url(#p81d73d6fd8)\" style=\"fill: #1f77b4; stroke: #ffffff; stroke-linejoin: miter\"/>\n   </g>\n   <g id=\"patch_8\">\n    <path d=\"M 144.319801 273.312 \nL 160.552528 273.312 \nL 160.552528 24.493719 \nL 144.319801 24.493719 \nz\n\" clip-path=\"url(#p81d73d6fd8)\" style=\"fill: #1f77b4; stroke: #ffffff; stroke-linejoin: miter\"/>\n   </g>\n   <g id=\"patch_9\">\n    <path d=\"M 160.552528 273.312 \nL 176.785256 273.312 \nL 176.785256 121.832789 \nL 160.552528 121.832789 \nz\n\" clip-path=\"url(#p81d73d6fd8)\" style=\"fill: #1f77b4; stroke: #ffffff; stroke-linejoin: miter\"/>\n   </g>\n   <g id=\"patch_10\">\n    <path d=\"M 176.785256 273.312 \nL 193.017983 273.312 \nL 193.017983 90.989886 \nL 176.785256 90.989886 \nz\n\" clip-path=\"url(#p81d73d6fd8)\" style=\"fill: #1f77b4; stroke: #ffffff; stroke-linejoin: miter\"/>\n   </g>\n   <g id=\"patch_11\">\n    <path d=\"M 193.017983 273.312 \nL 209.25071 273.312 \nL 209.25071 19.872 \nL 193.017983 19.872 \nz\n\" clip-path=\"url(#p81d73d6fd8)\" style=\"fill: #1f77b4; stroke: #ffffff; stroke-linejoin: miter\"/>\n   </g>\n   <g id=\"patch_12\">\n    <path d=\"M 209.25071 273.312 \nL 225.483438 273.312 \nL 225.483438 116.456503 \nL 209.25071 116.456503 \nz\n\" clip-path=\"url(#p81d73d6fd8)\" style=\"fill: #1f77b4; stroke: #ffffff; stroke-linejoin: miter\"/>\n   </g>\n   <g id=\"patch_13\">\n    <path d=\"M 225.483438 273.312 \nL 241.716165 273.312 \nL 241.716165 139.187817 \nL 225.483438 139.187817 \nz\n\" clip-path=\"url(#p81d73d6fd8)\" style=\"fill: #1f77b4; stroke: #ffffff; stroke-linejoin: miter\"/>\n   </g>\n   <g id=\"patch_14\">\n    <path d=\"M 241.716165 273.312 \nL 257.948892 273.312 \nL 257.948892 71.088197 \nL 241.716165 71.088197 \nz\n\" clip-path=\"url(#p81d73d6fd8)\" style=\"fill: #1f77b4; stroke: #ffffff; stroke-linejoin: miter\"/>\n   </g>\n   <g id=\"patch_15\">\n    <path d=\"M 257.948892 273.312 \nL 274.181619 273.312 \nL 274.181619 151.921125 \nL 257.948892 151.921125 \nz\n\" clip-path=\"url(#p81d73d6fd8)\" style=\"fill: #1f77b4; stroke: #ffffff; stroke-linejoin: miter\"/>\n   </g>\n   <g id=\"patch_16\">\n    <path d=\"M 274.181619 273.312 \nL 290.414347 273.312 \nL 290.414347 159.844073 \nL 274.181619 159.844073 \nz\n\" clip-path=\"url(#p81d73d6fd8)\" style=\"fill: #1f77b4; stroke: #ffffff; stroke-linejoin: miter\"/>\n   </g>\n   <g id=\"patch_17\">\n    <path d=\"M 290.414347 273.312 \nL 306.647074 273.312 \nL 306.647074 146.450519 \nL 290.414347 146.450519 \nz\n\" clip-path=\"url(#p81d73d6fd8)\" style=\"fill: #1f77b4; stroke: #ffffff; stroke-linejoin: miter\"/>\n   </g>\n   <g id=\"patch_18\">\n    <path d=\"M 306.647074 273.312 \nL 322.879801 273.312 \nL 322.879801 218.700255 \nL 306.647074 218.700255 \nz\n\" clip-path=\"url(#p81d73d6fd8)\" style=\"fill: #1f77b4; stroke: #ffffff; stroke-linejoin: miter\"/>\n   </g>\n   <g id=\"patch_19\">\n    <path d=\"M 322.879801 273.312 \nL 339.112528 273.312 \nL 339.112528 230.773317 \nL 322.879801 230.773317 \nz\n\" clip-path=\"url(#p81d73d6fd8)\" style=\"fill: #1f77b4; stroke: #ffffff; stroke-linejoin: miter\"/>\n   </g>\n   <g id=\"patch_20\">\n    <path d=\"M 339.112528 273.312 \nL 355.345256 273.312 \nL 355.345256 238.601944 \nL 339.112528 238.601944 \nz\n\" clip-path=\"url(#p81d73d6fd8)\" style=\"fill: #1f77b4; stroke: #ffffff; stroke-linejoin: miter\"/>\n   </g>\n   <g id=\"patch_21\">\n    <path d=\"M 355.345256 273.312 \nL 371.577983 273.312 \nL 371.577983 260.201408 \nL 355.345256 260.201408 \nz\n\" clip-path=\"url(#p81d73d6fd8)\" style=\"fill: #1f77b4; stroke: #ffffff; stroke-linejoin: miter\"/>\n   </g>\n   <g id=\"patch_22\">\n    <path d=\"M 371.577983 273.312 \nL 387.81071 273.312 \nL 387.81071 270.010772 \nL 371.577983 270.010772 \nz\n\" clip-path=\"url(#p81d73d6fd8)\" style=\"fill: #1f77b4; stroke: #ffffff; stroke-linejoin: miter\"/>\n   </g>\n   <g id=\"patch_23\">\n    <path d=\"M 46.923438 273.312 \nL 46.923438 7.2 \n\" style=\"fill: none; stroke: #ffffff; stroke-width: 0.8; stroke-linejoin: miter; stroke-linecap: square\"/>\n   </g>\n   <g id=\"patch_24\">\n    <path d=\"M 404.043437 273.312 \nL 404.043437 7.2 \n\" style=\"fill: none; stroke: #ffffff; stroke-width: 0.8; stroke-linejoin: miter; stroke-linecap: square\"/>\n   </g>\n   <g id=\"patch_25\">\n    <path d=\"M 46.923438 273.312 \nL 404.043438 273.312 \n\" style=\"fill: none; stroke: #ffffff; stroke-width: 0.8; stroke-linejoin: miter; stroke-linecap: square\"/>\n   </g>\n   <g id=\"patch_26\">\n    <path d=\"M 46.923438 7.2 \nL 404.043438 7.2 \n\" style=\"fill: none; stroke: #ffffff; stroke-width: 0.8; stroke-linejoin: miter; stroke-linecap: square\"/>\n   </g>\n  </g>\n </g>\n <defs>\n  <clipPath id=\"p81d73d6fd8\">\n   <rect x=\"46.923438\" y=\"7.2\" width=\"357.12\" height=\"266.112\"/>\n  </clipPath>\n </defs>\n</svg>\n"
     },
     "metadata": {},
     "output_type": "display_data"
    }
   ],
   "source": [
    "new_data['Age']=-(new_data['DAYS_BIRTH'])//365\t\n",
    "print(new_data['Age'].value_counts(bins=10,normalize=True,sort=False))\n",
    "new_data['Age'].plot(kind='hist',bins=20,density=True)"
   ]
  },
  {
   "cell_type": "code",
   "execution_count": 28,
   "metadata": {
    "ExecuteTime": {
     "end_time": "2024-01-14T20:20:47.529152200Z",
     "start_time": "2024-01-14T20:20:47.405693400Z"
    }
   },
   "outputs": [
    {
     "name": "stdout",
     "output_type": "stream",
     "text": [
      "This variable's IV is: 0.06593513858884348\n",
      "medium     7916\n",
      "low        7806\n",
      "high       4414\n",
      "lowest     4005\n",
      "highest     993\n",
      "Name: gp_Age, dtype: int64\n"
     ]
    },
    {
     "data": {
      "text/plain": "  Variable    Value   All  Good  Bad     Share  Bad Rate  Distribution Good  \\\n0   gp_Age     high  4414  4323   91  0.175619  0.020616           0.174935   \n1   gp_Age  highest   993   989    4  0.039508  0.004028           0.040021   \n2   gp_Age      low  7806  7686  120  0.310575  0.015373           0.311023   \n3   gp_Age   lowest  4005  3921   84  0.159346  0.020974           0.158668   \n4   gp_Age   medium  7916  7793  123  0.314952  0.015538           0.315353   \n\n   Distribution Bad       WoE        IV  \n0          0.215640 -0.209194  0.008515  \n1          0.009479  1.440361  0.043992  \n2          0.284360  0.089625  0.002390  \n3          0.199052 -0.226754  0.009157  \n4          0.291469  0.078758  0.001881  ",
      "text/html": "<div>\n<style scoped>\n    .dataframe tbody tr th:only-of-type {\n        vertical-align: middle;\n    }\n\n    .dataframe tbody tr th {\n        vertical-align: top;\n    }\n\n    .dataframe thead th {\n        text-align: right;\n    }\n</style>\n<table border=\"1\" class=\"dataframe\">\n  <thead>\n    <tr style=\"text-align: right;\">\n      <th></th>\n      <th>Variable</th>\n      <th>Value</th>\n      <th>All</th>\n      <th>Good</th>\n      <th>Bad</th>\n      <th>Share</th>\n      <th>Bad Rate</th>\n      <th>Distribution Good</th>\n      <th>Distribution Bad</th>\n      <th>WoE</th>\n      <th>IV</th>\n    </tr>\n  </thead>\n  <tbody>\n    <tr>\n      <th>0</th>\n      <td>gp_Age</td>\n      <td>high</td>\n      <td>4414</td>\n      <td>4323</td>\n      <td>91</td>\n      <td>0.175619</td>\n      <td>0.020616</td>\n      <td>0.174935</td>\n      <td>0.215640</td>\n      <td>-0.209194</td>\n      <td>0.008515</td>\n    </tr>\n    <tr>\n      <th>1</th>\n      <td>gp_Age</td>\n      <td>highest</td>\n      <td>993</td>\n      <td>989</td>\n      <td>4</td>\n      <td>0.039508</td>\n      <td>0.004028</td>\n      <td>0.040021</td>\n      <td>0.009479</td>\n      <td>1.440361</td>\n      <td>0.043992</td>\n    </tr>\n    <tr>\n      <th>2</th>\n      <td>gp_Age</td>\n      <td>low</td>\n      <td>7806</td>\n      <td>7686</td>\n      <td>120</td>\n      <td>0.310575</td>\n      <td>0.015373</td>\n      <td>0.311023</td>\n      <td>0.284360</td>\n      <td>0.089625</td>\n      <td>0.002390</td>\n    </tr>\n    <tr>\n      <th>3</th>\n      <td>gp_Age</td>\n      <td>lowest</td>\n      <td>4005</td>\n      <td>3921</td>\n      <td>84</td>\n      <td>0.159346</td>\n      <td>0.020974</td>\n      <td>0.158668</td>\n      <td>0.199052</td>\n      <td>-0.226754</td>\n      <td>0.009157</td>\n    </tr>\n    <tr>\n      <th>4</th>\n      <td>gp_Age</td>\n      <td>medium</td>\n      <td>7916</td>\n      <td>7793</td>\n      <td>123</td>\n      <td>0.314952</td>\n      <td>0.015538</td>\n      <td>0.315353</td>\n      <td>0.291469</td>\n      <td>0.078758</td>\n      <td>0.001881</td>\n    </tr>\n  </tbody>\n</table>\n</div>"
     },
     "execution_count": 28,
     "metadata": {},
     "output_type": "execute_result"
    }
   ],
   "source": [
    "new_data = get_category(new_data,'Age',5, [\"lowest\",\"low\",\"medium\",\"high\",\"highest\"])\n",
    "iv, data = calc_iv(new_data,'gp_Age','target')\n",
    "ivtable.loc[ivtable['variable']=='DAYS_BIRTH','IV'] = iv\n",
    "data.head()"
   ]
  },
  {
   "cell_type": "code",
   "execution_count": 29,
   "metadata": {
    "ExecuteTime": {
     "end_time": "2024-01-14T20:20:47.952089Z",
     "start_time": "2024-01-14T20:20:47.937536700Z"
    }
   },
   "outputs": [],
   "source": [
    "new_data = convert_dummy(new_data,'gp_Age')"
   ]
  },
  {
   "cell_type": "markdown",
   "metadata": {},
   "source": [
    "#### Working Years"
   ]
  },
  {
   "cell_type": "code",
   "execution_count": 30,
   "metadata": {
    "ExecuteTime": {
     "end_time": "2024-01-14T20:20:48.919509600Z",
     "start_time": "2024-01-14T20:20:48.782236100Z"
    }
   },
   "outputs": [
    {
     "data": {
      "text/plain": "<Axes: ylabel='Frequency'>"
     },
     "execution_count": 30,
     "metadata": {},
     "output_type": "execute_result"
    },
    {
     "data": {
      "text/plain": "<Figure size 640x480 with 1 Axes>",
      "image/svg+xml": "<?xml version=\"1.0\" encoding=\"utf-8\" standalone=\"no\"?>\n<!DOCTYPE svg PUBLIC \"-//W3C//DTD SVG 1.1//EN\"\n  \"http://www.w3.org/Graphics/SVG/1.1/DTD/svg11.dtd\">\n<svg xmlns:xlink=\"http://www.w3.org/1999/xlink\" width=\"411.243437pt\" height=\"296.657312pt\" viewBox=\"0 0 411.243437 296.657312\" xmlns=\"http://www.w3.org/2000/svg\" version=\"1.1\">\n <metadata>\n  <rdf:RDF xmlns:dc=\"http://purl.org/dc/elements/1.1/\" xmlns:cc=\"http://creativecommons.org/ns#\" xmlns:rdf=\"http://www.w3.org/1999/02/22-rdf-syntax-ns#\">\n   <cc:Work>\n    <dc:type rdf:resource=\"http://purl.org/dc/dcmitype/StillImage\"/>\n    <dc:date>2024-01-14T23:20:48.892812</dc:date>\n    <dc:format>image/svg+xml</dc:format>\n    <dc:creator>\n     <cc:Agent>\n      <dc:title>Matplotlib v3.7.1, https://matplotlib.org/</dc:title>\n     </cc:Agent>\n    </dc:creator>\n   </cc:Work>\n  </rdf:RDF>\n </metadata>\n <defs>\n  <style type=\"text/css\">*{stroke-linejoin: round; stroke-linecap: butt}</style>\n </defs>\n <g id=\"figure_1\">\n  <g id=\"patch_1\">\n   <path d=\"M 0 296.657312 \nL 411.243437 296.657312 \nL 411.243437 0 \nL 0 0 \nz\n\" style=\"fill: #ffffff\"/>\n  </g>\n  <g id=\"axes_1\">\n   <g id=\"patch_2\">\n    <path d=\"M 46.923438 273.312 \nL 404.043437 273.312 \nL 404.043437 7.2 \nL 46.923438 7.2 \nz\n\" style=\"fill: #eaeaf2\"/>\n   </g>\n   <g id=\"matplotlib.axis_1\">\n    <g id=\"xtick_1\">\n     <g id=\"line2d_1\">\n      <path d=\"M 63.156165 273.312 \nL 63.156165 7.2 \n\" clip-path=\"url(#p21a764a551)\" style=\"fill: none; stroke: #ffffff; stroke-width: 0.8; stroke-linecap: round\"/>\n     </g>\n     <g id=\"text_1\">\n      <!-- 0 -->\n      <g style=\"fill: #262626\" transform=\"translate(60.375696 287.469812) scale(0.1 -0.1)\">\n       <defs>\n        <path id=\"ArialMT-30\" d=\"M 266 2259 \nQ 266 3072 433 3567 \nQ 600 4063 929 4331 \nQ 1259 4600 1759 4600 \nQ 2128 4600 2406 4451 \nQ 2684 4303 2865 4023 \nQ 3047 3744 3150 3342 \nQ 3253 2941 3253 2259 \nQ 3253 1453 3087 958 \nQ 2922 463 2592 192 \nQ 2263 -78 1759 -78 \nQ 1097 -78 719 397 \nQ 266 969 266 2259 \nz\nM 844 2259 \nQ 844 1131 1108 757 \nQ 1372 384 1759 384 \nQ 2147 384 2411 759 \nQ 2675 1134 2675 2259 \nQ 2675 3391 2411 3762 \nQ 2147 4134 1753 4134 \nQ 1366 4134 1134 3806 \nQ 844 3388 844 2259 \nz\n\" transform=\"scale(0.015625)\"/>\n       </defs>\n       <use xlink:href=\"#ArialMT-30\"/>\n      </g>\n     </g>\n    </g>\n    <g id=\"xtick_2\">\n     <g id=\"line2d_2\">\n      <path d=\"M 138.657222 273.312 \nL 138.657222 7.2 \n\" clip-path=\"url(#p21a764a551)\" style=\"fill: none; stroke: #ffffff; stroke-width: 0.8; stroke-linecap: round\"/>\n     </g>\n     <g id=\"text_2\">\n      <!-- 10 -->\n      <g style=\"fill: #262626\" transform=\"translate(133.096284 287.469812) scale(0.1 -0.1)\">\n       <defs>\n        <path id=\"ArialMT-31\" d=\"M 2384 0 \nL 1822 0 \nL 1822 3584 \nQ 1619 3391 1289 3197 \nQ 959 3003 697 2906 \nL 697 3450 \nQ 1169 3672 1522 3987 \nQ 1875 4303 2022 4600 \nL 2384 4600 \nL 2384 0 \nz\n\" transform=\"scale(0.015625)\"/>\n       </defs>\n       <use xlink:href=\"#ArialMT-31\"/>\n       <use xlink:href=\"#ArialMT-30\" x=\"55.615234\"/>\n      </g>\n     </g>\n    </g>\n    <g id=\"xtick_3\">\n     <g id=\"line2d_3\">\n      <path d=\"M 214.158279 273.312 \nL 214.158279 7.2 \n\" clip-path=\"url(#p21a764a551)\" style=\"fill: none; stroke: #ffffff; stroke-width: 0.8; stroke-linecap: round\"/>\n     </g>\n     <g id=\"text_3\">\n      <!-- 20 -->\n      <g style=\"fill: #262626\" transform=\"translate(208.597341 287.469812) scale(0.1 -0.1)\">\n       <defs>\n        <path id=\"ArialMT-32\" d=\"M 3222 541 \nL 3222 0 \nL 194 0 \nQ 188 203 259 391 \nQ 375 700 629 1000 \nQ 884 1300 1366 1694 \nQ 2113 2306 2375 2664 \nQ 2638 3022 2638 3341 \nQ 2638 3675 2398 3904 \nQ 2159 4134 1775 4134 \nQ 1369 4134 1125 3890 \nQ 881 3647 878 3216 \nL 300 3275 \nQ 359 3922 746 4261 \nQ 1134 4600 1788 4600 \nQ 2447 4600 2831 4234 \nQ 3216 3869 3216 3328 \nQ 3216 3053 3103 2787 \nQ 2991 2522 2730 2228 \nQ 2469 1934 1863 1422 \nQ 1356 997 1212 845 \nQ 1069 694 975 541 \nL 3222 541 \nz\n\" transform=\"scale(0.015625)\"/>\n       </defs>\n       <use xlink:href=\"#ArialMT-32\"/>\n       <use xlink:href=\"#ArialMT-30\" x=\"55.615234\"/>\n      </g>\n     </g>\n    </g>\n    <g id=\"xtick_4\">\n     <g id=\"line2d_4\">\n      <path d=\"M 289.659336 273.312 \nL 289.659336 7.2 \n\" clip-path=\"url(#p21a764a551)\" style=\"fill: none; stroke: #ffffff; stroke-width: 0.8; stroke-linecap: round\"/>\n     </g>\n     <g id=\"text_4\">\n      <!-- 30 -->\n      <g style=\"fill: #262626\" transform=\"translate(284.098399 287.469812) scale(0.1 -0.1)\">\n       <defs>\n        <path id=\"ArialMT-33\" d=\"M 269 1209 \nL 831 1284 \nQ 928 806 1161 595 \nQ 1394 384 1728 384 \nQ 2125 384 2398 659 \nQ 2672 934 2672 1341 \nQ 2672 1728 2419 1979 \nQ 2166 2231 1775 2231 \nQ 1616 2231 1378 2169 \nL 1441 2663 \nQ 1497 2656 1531 2656 \nQ 1891 2656 2178 2843 \nQ 2466 3031 2466 3422 \nQ 2466 3731 2256 3934 \nQ 2047 4138 1716 4138 \nQ 1388 4138 1169 3931 \nQ 950 3725 888 3313 \nL 325 3413 \nQ 428 3978 793 4289 \nQ 1159 4600 1703 4600 \nQ 2078 4600 2393 4439 \nQ 2709 4278 2876 4000 \nQ 3044 3722 3044 3409 \nQ 3044 3113 2884 2869 \nQ 2725 2625 2413 2481 \nQ 2819 2388 3044 2092 \nQ 3269 1797 3269 1353 \nQ 3269 753 2831 336 \nQ 2394 -81 1725 -81 \nQ 1122 -81 723 278 \nQ 325 638 269 1209 \nz\n\" transform=\"scale(0.015625)\"/>\n       </defs>\n       <use xlink:href=\"#ArialMT-33\"/>\n       <use xlink:href=\"#ArialMT-30\" x=\"55.615234\"/>\n      </g>\n     </g>\n    </g>\n    <g id=\"xtick_5\">\n     <g id=\"line2d_5\">\n      <path d=\"M 365.160393 273.312 \nL 365.160393 7.2 \n\" clip-path=\"url(#p21a764a551)\" style=\"fill: none; stroke: #ffffff; stroke-width: 0.8; stroke-linecap: round\"/>\n     </g>\n     <g id=\"text_5\">\n      <!-- 40 -->\n      <g style=\"fill: #262626\" transform=\"translate(359.599456 287.469812) scale(0.1 -0.1)\">\n       <defs>\n        <path id=\"ArialMT-34\" d=\"M 2069 0 \nL 2069 1097 \nL 81 1097 \nL 81 1613 \nL 2172 4581 \nL 2631 4581 \nL 2631 1613 \nL 3250 1613 \nL 3250 1097 \nL 2631 1097 \nL 2631 0 \nL 2069 0 \nz\nM 2069 1613 \nL 2069 3678 \nL 634 1613 \nL 2069 1613 \nz\n\" transform=\"scale(0.015625)\"/>\n       </defs>\n       <use xlink:href=\"#ArialMT-34\"/>\n       <use xlink:href=\"#ArialMT-30\" x=\"55.615234\"/>\n      </g>\n     </g>\n    </g>\n   </g>\n   <g id=\"matplotlib.axis_2\">\n    <g id=\"ytick_1\">\n     <g id=\"line2d_6\">\n      <path d=\"M 46.923438 273.312 \nL 404.043437 273.312 \n\" clip-path=\"url(#p21a764a551)\" style=\"fill: none; stroke: #ffffff; stroke-width: 0.8; stroke-linecap: round\"/>\n     </g>\n     <g id=\"text_6\">\n      <!-- 0.00 -->\n      <g style=\"fill: #262626\" transform=\"translate(20.4625 276.890906) scale(0.1 -0.1)\">\n       <defs>\n        <path id=\"ArialMT-2e\" d=\"M 581 0 \nL 581 641 \nL 1222 641 \nL 1222 0 \nL 581 0 \nz\n\" transform=\"scale(0.015625)\"/>\n       </defs>\n       <use xlink:href=\"#ArialMT-30\"/>\n       <use xlink:href=\"#ArialMT-2e\" x=\"55.615234\"/>\n       <use xlink:href=\"#ArialMT-30\" x=\"83.398438\"/>\n       <use xlink:href=\"#ArialMT-30\" x=\"139.013672\"/>\n      </g>\n     </g>\n    </g>\n    <g id=\"ytick_2\">\n     <g id=\"line2d_7\">\n      <path d=\"M 46.923438 234.536756 \nL 404.043437 234.536756 \n\" clip-path=\"url(#p21a764a551)\" style=\"fill: none; stroke: #ffffff; stroke-width: 0.8; stroke-linecap: round\"/>\n     </g>\n     <g id=\"text_7\">\n      <!-- 0.02 -->\n      <g style=\"fill: #262626\" transform=\"translate(20.4625 238.115663) scale(0.1 -0.1)\">\n       <use xlink:href=\"#ArialMT-30\"/>\n       <use xlink:href=\"#ArialMT-2e\" x=\"55.615234\"/>\n       <use xlink:href=\"#ArialMT-30\" x=\"83.398438\"/>\n       <use xlink:href=\"#ArialMT-32\" x=\"139.013672\"/>\n      </g>\n     </g>\n    </g>\n    <g id=\"ytick_3\">\n     <g id=\"line2d_8\">\n      <path d=\"M 46.923438 195.761513 \nL 404.043437 195.761513 \n\" clip-path=\"url(#p21a764a551)\" style=\"fill: none; stroke: #ffffff; stroke-width: 0.8; stroke-linecap: round\"/>\n     </g>\n     <g id=\"text_8\">\n      <!-- 0.04 -->\n      <g style=\"fill: #262626\" transform=\"translate(20.4625 199.340419) scale(0.1 -0.1)\">\n       <use xlink:href=\"#ArialMT-30\"/>\n       <use xlink:href=\"#ArialMT-2e\" x=\"55.615234\"/>\n       <use xlink:href=\"#ArialMT-30\" x=\"83.398438\"/>\n       <use xlink:href=\"#ArialMT-34\" x=\"139.013672\"/>\n      </g>\n     </g>\n    </g>\n    <g id=\"ytick_4\">\n     <g id=\"line2d_9\">\n      <path d=\"M 46.923438 156.986269 \nL 404.043437 156.986269 \n\" clip-path=\"url(#p21a764a551)\" style=\"fill: none; stroke: #ffffff; stroke-width: 0.8; stroke-linecap: round\"/>\n     </g>\n     <g id=\"text_9\">\n      <!-- 0.06 -->\n      <g style=\"fill: #262626\" transform=\"translate(20.4625 160.565175) scale(0.1 -0.1)\">\n       <defs>\n        <path id=\"ArialMT-36\" d=\"M 3184 3459 \nL 2625 3416 \nQ 2550 3747 2413 3897 \nQ 2184 4138 1850 4138 \nQ 1581 4138 1378 3988 \nQ 1113 3794 959 3422 \nQ 806 3050 800 2363 \nQ 1003 2672 1297 2822 \nQ 1591 2972 1913 2972 \nQ 2475 2972 2870 2558 \nQ 3266 2144 3266 1488 \nQ 3266 1056 3080 686 \nQ 2894 316 2569 119 \nQ 2244 -78 1831 -78 \nQ 1128 -78 684 439 \nQ 241 956 241 2144 \nQ 241 3472 731 4075 \nQ 1159 4600 1884 4600 \nQ 2425 4600 2770 4297 \nQ 3116 3994 3184 3459 \nz\nM 888 1484 \nQ 888 1194 1011 928 \nQ 1134 663 1356 523 \nQ 1578 384 1822 384 \nQ 2178 384 2434 671 \nQ 2691 959 2691 1453 \nQ 2691 1928 2437 2201 \nQ 2184 2475 1800 2475 \nQ 1419 2475 1153 2201 \nQ 888 1928 888 1484 \nz\n\" transform=\"scale(0.015625)\"/>\n       </defs>\n       <use xlink:href=\"#ArialMT-30\"/>\n       <use xlink:href=\"#ArialMT-2e\" x=\"55.615234\"/>\n       <use xlink:href=\"#ArialMT-30\" x=\"83.398438\"/>\n       <use xlink:href=\"#ArialMT-36\" x=\"139.013672\"/>\n      </g>\n     </g>\n    </g>\n    <g id=\"ytick_5\">\n     <g id=\"line2d_10\">\n      <path d=\"M 46.923438 118.211025 \nL 404.043437 118.211025 \n\" clip-path=\"url(#p21a764a551)\" style=\"fill: none; stroke: #ffffff; stroke-width: 0.8; stroke-linecap: round\"/>\n     </g>\n     <g id=\"text_10\">\n      <!-- 0.08 -->\n      <g style=\"fill: #262626\" transform=\"translate(20.4625 121.789932) scale(0.1 -0.1)\">\n       <defs>\n        <path id=\"ArialMT-38\" d=\"M 1131 2484 \nQ 781 2613 612 2850 \nQ 444 3088 444 3419 \nQ 444 3919 803 4259 \nQ 1163 4600 1759 4600 \nQ 2359 4600 2725 4251 \nQ 3091 3903 3091 3403 \nQ 3091 3084 2923 2848 \nQ 2756 2613 2416 2484 \nQ 2838 2347 3058 2040 \nQ 3278 1734 3278 1309 \nQ 3278 722 2862 322 \nQ 2447 -78 1769 -78 \nQ 1091 -78 675 323 \nQ 259 725 259 1325 \nQ 259 1772 486 2073 \nQ 713 2375 1131 2484 \nz\nM 1019 3438 \nQ 1019 3113 1228 2906 \nQ 1438 2700 1772 2700 \nQ 2097 2700 2305 2904 \nQ 2513 3109 2513 3406 \nQ 2513 3716 2298 3927 \nQ 2084 4138 1766 4138 \nQ 1444 4138 1231 3931 \nQ 1019 3725 1019 3438 \nz\nM 838 1322 \nQ 838 1081 952 856 \nQ 1066 631 1291 507 \nQ 1516 384 1775 384 \nQ 2178 384 2440 643 \nQ 2703 903 2703 1303 \nQ 2703 1709 2433 1975 \nQ 2163 2241 1756 2241 \nQ 1359 2241 1098 1978 \nQ 838 1716 838 1322 \nz\n\" transform=\"scale(0.015625)\"/>\n       </defs>\n       <use xlink:href=\"#ArialMT-30\"/>\n       <use xlink:href=\"#ArialMT-2e\" x=\"55.615234\"/>\n       <use xlink:href=\"#ArialMT-30\" x=\"83.398438\"/>\n       <use xlink:href=\"#ArialMT-38\" x=\"139.013672\"/>\n      </g>\n     </g>\n    </g>\n    <g id=\"ytick_6\">\n     <g id=\"line2d_11\">\n      <path d=\"M 46.923438 79.435782 \nL 404.043437 79.435782 \n\" clip-path=\"url(#p21a764a551)\" style=\"fill: none; stroke: #ffffff; stroke-width: 0.8; stroke-linecap: round\"/>\n     </g>\n     <g id=\"text_11\">\n      <!-- 0.10 -->\n      <g style=\"fill: #262626\" transform=\"translate(20.4625 83.014688) scale(0.1 -0.1)\">\n       <use xlink:href=\"#ArialMT-30\"/>\n       <use xlink:href=\"#ArialMT-2e\" x=\"55.615234\"/>\n       <use xlink:href=\"#ArialMT-31\" x=\"83.398438\"/>\n       <use xlink:href=\"#ArialMT-30\" x=\"139.013672\"/>\n      </g>\n     </g>\n    </g>\n    <g id=\"ytick_7\">\n     <g id=\"line2d_12\">\n      <path d=\"M 46.923438 40.660538 \nL 404.043437 40.660538 \n\" clip-path=\"url(#p21a764a551)\" style=\"fill: none; stroke: #ffffff; stroke-width: 0.8; stroke-linecap: round\"/>\n     </g>\n     <g id=\"text_12\">\n      <!-- 0.12 -->\n      <g style=\"fill: #262626\" transform=\"translate(20.4625 44.239444) scale(0.1 -0.1)\">\n       <use xlink:href=\"#ArialMT-30\"/>\n       <use xlink:href=\"#ArialMT-2e\" x=\"55.615234\"/>\n       <use xlink:href=\"#ArialMT-31\" x=\"83.398438\"/>\n       <use xlink:href=\"#ArialMT-32\" x=\"139.013672\"/>\n      </g>\n     </g>\n    </g>\n    <g id=\"text_13\">\n     <!-- Frequency -->\n     <g style=\"fill: #262626\" transform=\"translate(14.357813 163.877094) rotate(-90) scale(0.1 -0.1)\">\n      <defs>\n       <path id=\"ArialMT-46\" d=\"M 525 0 \nL 525 4581 \nL 3616 4581 \nL 3616 4041 \nL 1131 4041 \nL 1131 2622 \nL 3281 2622 \nL 3281 2081 \nL 1131 2081 \nL 1131 0 \nL 525 0 \nz\n\" transform=\"scale(0.015625)\"/>\n       <path id=\"ArialMT-72\" d=\"M 416 0 \nL 416 3319 \nL 922 3319 \nL 922 2816 \nQ 1116 3169 1280 3281 \nQ 1444 3394 1641 3394 \nQ 1925 3394 2219 3213 \nL 2025 2691 \nQ 1819 2813 1613 2813 \nQ 1428 2813 1281 2702 \nQ 1134 2591 1072 2394 \nQ 978 2094 978 1738 \nL 978 0 \nL 416 0 \nz\n\" transform=\"scale(0.015625)\"/>\n       <path id=\"ArialMT-65\" d=\"M 2694 1069 \nL 3275 997 \nQ 3138 488 2766 206 \nQ 2394 -75 1816 -75 \nQ 1088 -75 661 373 \nQ 234 822 234 1631 \nQ 234 2469 665 2931 \nQ 1097 3394 1784 3394 \nQ 2450 3394 2872 2941 \nQ 3294 2488 3294 1666 \nQ 3294 1616 3291 1516 \nL 816 1516 \nQ 847 969 1125 678 \nQ 1403 388 1819 388 \nQ 2128 388 2347 550 \nQ 2566 713 2694 1069 \nz\nM 847 1978 \nL 2700 1978 \nQ 2663 2397 2488 2606 \nQ 2219 2931 1791 2931 \nQ 1403 2931 1139 2672 \nQ 875 2413 847 1978 \nz\n\" transform=\"scale(0.015625)\"/>\n       <path id=\"ArialMT-71\" d=\"M 2538 -1272 \nL 2538 353 \nQ 2406 169 2170 47 \nQ 1934 -75 1669 -75 \nQ 1078 -75 651 397 \nQ 225 869 225 1691 \nQ 225 2191 398 2587 \nQ 572 2984 901 3189 \nQ 1231 3394 1625 3394 \nQ 2241 3394 2594 2875 \nL 2594 3319 \nL 3100 3319 \nL 3100 -1272 \nL 2538 -1272 \nz\nM 803 1669 \nQ 803 1028 1072 708 \nQ 1341 388 1716 388 \nQ 2075 388 2334 692 \nQ 2594 997 2594 1619 \nQ 2594 2281 2320 2615 \nQ 2047 2950 1678 2950 \nQ 1313 2950 1058 2639 \nQ 803 2328 803 1669 \nz\n\" transform=\"scale(0.015625)\"/>\n       <path id=\"ArialMT-75\" d=\"M 2597 0 \nL 2597 488 \nQ 2209 -75 1544 -75 \nQ 1250 -75 995 37 \nQ 741 150 617 320 \nQ 494 491 444 738 \nQ 409 903 409 1263 \nL 409 3319 \nL 972 3319 \nL 972 1478 \nQ 972 1038 1006 884 \nQ 1059 663 1231 536 \nQ 1403 409 1656 409 \nQ 1909 409 2131 539 \nQ 2353 669 2445 892 \nQ 2538 1116 2538 1541 \nL 2538 3319 \nL 3100 3319 \nL 3100 0 \nL 2597 0 \nz\n\" transform=\"scale(0.015625)\"/>\n       <path id=\"ArialMT-6e\" d=\"M 422 0 \nL 422 3319 \nL 928 3319 \nL 928 2847 \nQ 1294 3394 1984 3394 \nQ 2284 3394 2536 3286 \nQ 2788 3178 2913 3003 \nQ 3038 2828 3088 2588 \nQ 3119 2431 3119 2041 \nL 3119 0 \nL 2556 0 \nL 2556 2019 \nQ 2556 2363 2490 2533 \nQ 2425 2703 2258 2804 \nQ 2091 2906 1866 2906 \nQ 1506 2906 1245 2678 \nQ 984 2450 984 1813 \nL 984 0 \nL 422 0 \nz\n\" transform=\"scale(0.015625)\"/>\n       <path id=\"ArialMT-63\" d=\"M 2588 1216 \nL 3141 1144 \nQ 3050 572 2676 248 \nQ 2303 -75 1759 -75 \nQ 1078 -75 664 370 \nQ 250 816 250 1647 \nQ 250 2184 428 2587 \nQ 606 2991 970 3192 \nQ 1334 3394 1763 3394 \nQ 2303 3394 2647 3120 \nQ 2991 2847 3088 2344 \nL 2541 2259 \nQ 2463 2594 2264 2762 \nQ 2066 2931 1784 2931 \nQ 1359 2931 1093 2626 \nQ 828 2322 828 1663 \nQ 828 994 1084 691 \nQ 1341 388 1753 388 \nQ 2084 388 2306 591 \nQ 2528 794 2588 1216 \nz\n\" transform=\"scale(0.015625)\"/>\n       <path id=\"ArialMT-79\" d=\"M 397 -1278 \nL 334 -750 \nQ 519 -800 656 -800 \nQ 844 -800 956 -737 \nQ 1069 -675 1141 -563 \nQ 1194 -478 1313 -144 \nQ 1328 -97 1363 -6 \nL 103 3319 \nL 709 3319 \nL 1400 1397 \nQ 1534 1031 1641 628 \nQ 1738 1016 1872 1384 \nL 2581 3319 \nL 3144 3319 \nL 1881 -56 \nQ 1678 -603 1566 -809 \nQ 1416 -1088 1222 -1217 \nQ 1028 -1347 759 -1347 \nQ 597 -1347 397 -1278 \nz\n\" transform=\"scale(0.015625)\"/>\n      </defs>\n      <use xlink:href=\"#ArialMT-46\"/>\n      <use xlink:href=\"#ArialMT-72\" x=\"61.083984\"/>\n      <use xlink:href=\"#ArialMT-65\" x=\"94.384766\"/>\n      <use xlink:href=\"#ArialMT-71\" x=\"150\"/>\n      <use xlink:href=\"#ArialMT-75\" x=\"205.615234\"/>\n      <use xlink:href=\"#ArialMT-65\" x=\"261.230469\"/>\n      <use xlink:href=\"#ArialMT-6e\" x=\"316.845703\"/>\n      <use xlink:href=\"#ArialMT-63\" x=\"372.460938\"/>\n      <use xlink:href=\"#ArialMT-79\" x=\"422.460938\"/>\n     </g>\n    </g>\n   </g>\n   <g id=\"patch_3\">\n    <path d=\"M 63.156165 273.312 \nL 79.388892 273.312 \nL 79.388892 19.872 \nL 63.156165 19.872 \nz\n\" clip-path=\"url(#p21a764a551)\" style=\"fill: #1f77b4; stroke: #ffffff; stroke-linejoin: miter\"/>\n   </g>\n   <g id=\"patch_4\">\n    <path d=\"M 79.388892 273.312 \nL 95.621619 273.312 \nL 95.621619 97.009033 \nL 79.388892 97.009033 \nz\n\" clip-path=\"url(#p21a764a551)\" style=\"fill: #1f77b4; stroke: #ffffff; stroke-linejoin: miter\"/>\n   </g>\n   <g id=\"patch_5\">\n    <path d=\"M 95.621619 273.312 \nL 111.854347 273.312 \nL 111.854347 151.363733 \nL 95.621619 151.363733 \nz\n\" clip-path=\"url(#p21a764a551)\" style=\"fill: #1f77b4; stroke: #ffffff; stroke-linejoin: miter\"/>\n   </g>\n   <g id=\"patch_6\">\n    <path d=\"M 111.854347 273.312 \nL 128.087074 273.312 \nL 128.087074 170.091887 \nL 111.854347 170.091887 \nz\n\" clip-path=\"url(#p21a764a551)\" style=\"fill: #1f77b4; stroke: #ffffff; stroke-linejoin: miter\"/>\n   </g>\n   <g id=\"patch_7\">\n    <path d=\"M 128.087074 273.312 \nL 144.319801 273.312 \nL 144.319801 202.848217 \nL 128.087074 202.848217 \nz\n\" clip-path=\"url(#p21a764a551)\" style=\"fill: #1f77b4; stroke: #ffffff; stroke-linejoin: miter\"/>\n   </g>\n   <g id=\"patch_8\">\n    <path d=\"M 144.319801 273.312 \nL 160.552528 273.312 \nL 160.552528 230.545794 \nL 144.319801 230.545794 \nz\n\" clip-path=\"url(#p21a764a551)\" style=\"fill: #1f77b4; stroke: #ffffff; stroke-linejoin: miter\"/>\n   </g>\n   <g id=\"patch_9\">\n    <path d=\"M 160.552528 273.312 \nL 176.785256 273.312 \nL 176.785256 222.760335 \nL 160.552528 222.760335 \nz\n\" clip-path=\"url(#p21a764a551)\" style=\"fill: #1f77b4; stroke: #ffffff; stroke-linejoin: miter\"/>\n   </g>\n   <g id=\"patch_10\">\n    <path d=\"M 176.785256 273.312 \nL 193.017983 273.312 \nL 193.017983 258.171615 \nL 176.785256 258.171615 \nz\n\" clip-path=\"url(#p21a764a551)\" style=\"fill: #1f77b4; stroke: #ffffff; stroke-linejoin: miter\"/>\n   </g>\n   <g id=\"patch_11\">\n    <path d=\"M 193.017983 273.312 \nL 209.25071 273.312 \nL 209.25071 256.341853 \nL 193.017983 256.341853 \nz\n\" clip-path=\"url(#p21a764a551)\" style=\"fill: #1f77b4; stroke: #ffffff; stroke-linejoin: miter\"/>\n   </g>\n   <g id=\"patch_12\">\n    <path d=\"M 209.25071 273.312 \nL 225.483437 273.312 \nL 225.483437 259.678478 \nL 209.25071 259.678478 \nz\n\" clip-path=\"url(#p21a764a551)\" style=\"fill: #1f77b4; stroke: #ffffff; stroke-linejoin: miter\"/>\n   </g>\n   <g id=\"patch_13\">\n    <path d=\"M 225.483438 273.312 \nL 241.716165 273.312 \nL 241.716165 262.584571 \nL 225.483438 262.584571 \nz\n\" clip-path=\"url(#p21a764a551)\" style=\"fill: #1f77b4; stroke: #ffffff; stroke-linejoin: miter\"/>\n   </g>\n   <g id=\"patch_14\">\n    <path d=\"M 241.716165 273.312 \nL 257.948892 273.312 \nL 257.948892 265.203642 \nL 241.716165 265.203642 \nz\n\" clip-path=\"url(#p21a764a551)\" style=\"fill: #1f77b4; stroke: #ffffff; stroke-linejoin: miter\"/>\n   </g>\n   <g id=\"patch_15\">\n    <path d=\"M 257.948892 273.312 \nL 274.181619 273.312 \nL 274.181619 267.786836 \nL 257.948892 267.786836 \nz\n\" clip-path=\"url(#p21a764a551)\" style=\"fill: #1f77b4; stroke: #ffffff; stroke-linejoin: miter\"/>\n   </g>\n   <g id=\"patch_16\">\n    <path d=\"M 274.181619 273.312 \nL 290.414347 273.312 \nL 290.414347 268.50439 \nL 274.181619 268.50439 \nz\n\" clip-path=\"url(#p21a764a551)\" style=\"fill: #1f77b4; stroke: #ffffff; stroke-linejoin: miter\"/>\n   </g>\n   <g id=\"patch_17\">\n    <path d=\"M 290.414347 273.312 \nL 306.647074 273.312 \nL 306.647074 270.370029 \nL 290.414347 270.370029 \nz\n\" clip-path=\"url(#p21a764a551)\" style=\"fill: #1f77b4; stroke: #ffffff; stroke-linejoin: miter\"/>\n   </g>\n   <g id=\"patch_18\">\n    <path d=\"M 306.647074 273.312 \nL 322.879801 273.312 \nL 322.879801 271.338727 \nL 306.647074 271.338727 \nz\n\" clip-path=\"url(#p21a764a551)\" style=\"fill: #1f77b4; stroke: #ffffff; stroke-linejoin: miter\"/>\n   </g>\n   <g id=\"patch_19\">\n    <path d=\"M 322.879801 273.312 \nL 339.112528 273.312 \nL 339.112528 271.769259 \nL 322.879801 271.769259 \nz\n\" clip-path=\"url(#p21a764a551)\" style=\"fill: #1f77b4; stroke: #ffffff; stroke-linejoin: miter\"/>\n   </g>\n   <g id=\"patch_20\">\n    <path d=\"M 339.112528 273.312 \nL 355.345256 273.312 \nL 355.345256 272.773835 \nL 339.112528 272.773835 \nz\n\" clip-path=\"url(#p21a764a551)\" style=\"fill: #1f77b4; stroke: #ffffff; stroke-linejoin: miter\"/>\n   </g>\n   <g id=\"patch_21\">\n    <path d=\"M 355.345256 273.312 \nL 371.577983 273.312 \nL 371.577983 272.343302 \nL 355.345256 272.343302 \nz\n\" clip-path=\"url(#p21a764a551)\" style=\"fill: #1f77b4; stroke: #ffffff; stroke-linejoin: miter\"/>\n   </g>\n   <g id=\"patch_22\">\n    <path d=\"M 371.577983 273.312 \nL 387.81071 273.312 \nL 387.81071 273.132612 \nL 371.577983 273.132612 \nz\n\" clip-path=\"url(#p21a764a551)\" style=\"fill: #1f77b4; stroke: #ffffff; stroke-linejoin: miter\"/>\n   </g>\n   <g id=\"patch_23\">\n    <path d=\"M 46.923438 273.312 \nL 46.923438 7.2 \n\" style=\"fill: none; stroke: #ffffff; stroke-width: 0.8; stroke-linejoin: miter; stroke-linecap: square\"/>\n   </g>\n   <g id=\"patch_24\">\n    <path d=\"M 404.043437 273.312 \nL 404.043437 7.2 \n\" style=\"fill: none; stroke: #ffffff; stroke-width: 0.8; stroke-linejoin: miter; stroke-linecap: square\"/>\n   </g>\n   <g id=\"patch_25\">\n    <path d=\"M 46.923438 273.312 \nL 404.043437 273.312 \n\" style=\"fill: none; stroke: #ffffff; stroke-width: 0.8; stroke-linejoin: miter; stroke-linecap: square\"/>\n   </g>\n   <g id=\"patch_26\">\n    <path d=\"M 46.923438 7.2 \nL 404.043437 7.2 \n\" style=\"fill: none; stroke: #ffffff; stroke-width: 0.8; stroke-linejoin: miter; stroke-linecap: square\"/>\n   </g>\n  </g>\n </g>\n <defs>\n  <clipPath id=\"p21a764a551\">\n   <rect x=\"46.923438\" y=\"7.2\" width=\"357.12\" height=\"266.112\"/>\n  </clipPath>\n </defs>\n</svg>\n"
     },
     "metadata": {},
     "output_type": "display_data"
    }
   ],
   "source": [
    "new_data['worktm']=-(new_data['DAYS_EMPLOYED'])//365\t\n",
    "new_data[new_data['worktm']<0] = np.nan # replace by na\n",
    "new_data['DAYS_EMPLOYED']\n",
    "new_data['worktm'].fillna(new_data['worktm'].mean(),inplace=True) #replace na by mean\n",
    "new_data['worktm'].plot(kind='hist',bins=20,density=True)"
   ]
  },
  {
   "cell_type": "code",
   "execution_count": 31,
   "metadata": {
    "ExecuteTime": {
     "end_time": "2024-01-14T20:20:49.299503300Z",
     "start_time": "2024-01-14T20:20:49.182882500Z"
    }
   },
   "outputs": [
    {
     "name": "stdout",
     "output_type": "stream",
     "text": [
      "This variable's IV is: 0.04022152230816303\n",
      "lowest     18254\n",
      "low         4987\n",
      "medium      1378\n",
      "high         425\n",
      "highest       90\n",
      "Name: gp_worktm, dtype: int64\n"
     ]
    },
    {
     "data": {
      "text/plain": "    Variable    Value    All   Good  Bad     Share  Bad Rate  \\\n0  gp_worktm     high    425    423    2  0.016909  0.004706   \n1  gp_worktm  highest     90     90    0  0.003581  0.000000   \n2  gp_worktm      low   4987   4921   66  0.198416  0.013234   \n3  gp_worktm   lowest  18254  17916  338  0.726267  0.018516   \n4  gp_worktm   medium   1378   1362   16  0.054826  0.011611   \n\n   Distribution Good  Distribution Bad       WoE        IV  \n0           0.017117          0.004739  1.284186  0.015895  \n1           0.003642          0.000000  0.000000  0.000000  \n2           0.199134          0.156398  0.241573  0.010324  \n3           0.724992          0.800948 -0.099635  0.007568  \n4           0.055115          0.037915  0.374082  0.006434  ",
      "text/html": "<div>\n<style scoped>\n    .dataframe tbody tr th:only-of-type {\n        vertical-align: middle;\n    }\n\n    .dataframe tbody tr th {\n        vertical-align: top;\n    }\n\n    .dataframe thead th {\n        text-align: right;\n    }\n</style>\n<table border=\"1\" class=\"dataframe\">\n  <thead>\n    <tr style=\"text-align: right;\">\n      <th></th>\n      <th>Variable</th>\n      <th>Value</th>\n      <th>All</th>\n      <th>Good</th>\n      <th>Bad</th>\n      <th>Share</th>\n      <th>Bad Rate</th>\n      <th>Distribution Good</th>\n      <th>Distribution Bad</th>\n      <th>WoE</th>\n      <th>IV</th>\n    </tr>\n  </thead>\n  <tbody>\n    <tr>\n      <th>0</th>\n      <td>gp_worktm</td>\n      <td>high</td>\n      <td>425</td>\n      <td>423</td>\n      <td>2</td>\n      <td>0.016909</td>\n      <td>0.004706</td>\n      <td>0.017117</td>\n      <td>0.004739</td>\n      <td>1.284186</td>\n      <td>0.015895</td>\n    </tr>\n    <tr>\n      <th>1</th>\n      <td>gp_worktm</td>\n      <td>highest</td>\n      <td>90</td>\n      <td>90</td>\n      <td>0</td>\n      <td>0.003581</td>\n      <td>0.000000</td>\n      <td>0.003642</td>\n      <td>0.000000</td>\n      <td>0.000000</td>\n      <td>0.000000</td>\n    </tr>\n    <tr>\n      <th>2</th>\n      <td>gp_worktm</td>\n      <td>low</td>\n      <td>4987</td>\n      <td>4921</td>\n      <td>66</td>\n      <td>0.198416</td>\n      <td>0.013234</td>\n      <td>0.199134</td>\n      <td>0.156398</td>\n      <td>0.241573</td>\n      <td>0.010324</td>\n    </tr>\n    <tr>\n      <th>3</th>\n      <td>gp_worktm</td>\n      <td>lowest</td>\n      <td>18254</td>\n      <td>17916</td>\n      <td>338</td>\n      <td>0.726267</td>\n      <td>0.018516</td>\n      <td>0.724992</td>\n      <td>0.800948</td>\n      <td>-0.099635</td>\n      <td>0.007568</td>\n    </tr>\n    <tr>\n      <th>4</th>\n      <td>gp_worktm</td>\n      <td>medium</td>\n      <td>1378</td>\n      <td>1362</td>\n      <td>16</td>\n      <td>0.054826</td>\n      <td>0.011611</td>\n      <td>0.055115</td>\n      <td>0.037915</td>\n      <td>0.374082</td>\n      <td>0.006434</td>\n    </tr>\n  </tbody>\n</table>\n</div>"
     },
     "execution_count": 31,
     "metadata": {},
     "output_type": "execute_result"
    }
   ],
   "source": [
    "new_data = get_category(new_data,'worktm',5, [\"lowest\",\"low\",\"medium\",\"high\",\"highest\"])\n",
    "iv, data=calc_iv(new_data,'gp_worktm','target')\n",
    "ivtable.loc[ivtable['variable']=='DAYS_EMPLOYED','IV']=iv\n",
    "data.head()"
   ]
  },
  {
   "cell_type": "code",
   "execution_count": 32,
   "metadata": {
    "ExecuteTime": {
     "end_time": "2024-01-14T20:20:49.924718300Z",
     "start_time": "2024-01-14T20:20:49.910088Z"
    }
   },
   "outputs": [],
   "source": [
    "new_data = convert_dummy(new_data,'gp_worktm')"
   ]
  },
  {
   "cell_type": "markdown",
   "metadata": {},
   "source": [
    "#### Famliy Size"
   ]
  },
  {
   "cell_type": "code",
   "execution_count": 33,
   "metadata": {
    "ExecuteTime": {
     "end_time": "2024-01-14T20:20:50.707109500Z",
     "start_time": "2024-01-14T20:20:50.699951100Z"
    }
   },
   "outputs": [
    {
     "data": {
      "text/plain": "2.0     12697\n1.0      4263\n5.0       307\n3.0      5216\n4.0      2576\n6.0        51\n15.0        3\n7.0        18\n20.0        1\n9.0         2\nName: famsize, dtype: int64"
     },
     "execution_count": 33,
     "metadata": {},
     "output_type": "execute_result"
    }
   ],
   "source": [
    "new_data['famsize'].value_counts(sort=False)"
   ]
  },
  {
   "cell_type": "code",
   "execution_count": 34,
   "metadata": {
    "ExecuteTime": {
     "end_time": "2024-01-14T20:20:51.258123Z",
     "start_time": "2024-01-14T20:20:51.162616Z"
    }
   },
   "outputs": [
    {
     "name": "stdout",
     "output_type": "stream",
     "text": [
      "This variable's IV is: 0.006156138510778323\n",
      "2        12697\n",
      "3more     8174\n",
      "1         4263\n",
      "Name: famsizegp, dtype: int64\n"
     ]
    },
    {
     "data": {
      "text/plain": "    Variable  Value    All   Good  Bad     Share  Bad Rate  Distribution Good  \\\n0  famsizegp      1   4263   4179   84  0.169611  0.019704           0.169108   \n1  famsizegp      2  12697  12489  208  0.505172  0.016382           0.505382   \n2  famsizegp  3more   8174   8044  130  0.325217  0.015904           0.325510   \n\n   Distribution Bad       WoE        IV  \n0          0.199052 -0.163028  0.004882  \n1          0.492891  0.025027  0.000313  \n2          0.308057  0.055108  0.000962  ",
      "text/html": "<div>\n<style scoped>\n    .dataframe tbody tr th:only-of-type {\n        vertical-align: middle;\n    }\n\n    .dataframe tbody tr th {\n        vertical-align: top;\n    }\n\n    .dataframe thead th {\n        text-align: right;\n    }\n</style>\n<table border=\"1\" class=\"dataframe\">\n  <thead>\n    <tr style=\"text-align: right;\">\n      <th></th>\n      <th>Variable</th>\n      <th>Value</th>\n      <th>All</th>\n      <th>Good</th>\n      <th>Bad</th>\n      <th>Share</th>\n      <th>Bad Rate</th>\n      <th>Distribution Good</th>\n      <th>Distribution Bad</th>\n      <th>WoE</th>\n      <th>IV</th>\n    </tr>\n  </thead>\n  <tbody>\n    <tr>\n      <th>0</th>\n      <td>famsizegp</td>\n      <td>1</td>\n      <td>4263</td>\n      <td>4179</td>\n      <td>84</td>\n      <td>0.169611</td>\n      <td>0.019704</td>\n      <td>0.169108</td>\n      <td>0.199052</td>\n      <td>-0.163028</td>\n      <td>0.004882</td>\n    </tr>\n    <tr>\n      <th>1</th>\n      <td>famsizegp</td>\n      <td>2</td>\n      <td>12697</td>\n      <td>12489</td>\n      <td>208</td>\n      <td>0.505172</td>\n      <td>0.016382</td>\n      <td>0.505382</td>\n      <td>0.492891</td>\n      <td>0.025027</td>\n      <td>0.000313</td>\n    </tr>\n    <tr>\n      <th>2</th>\n      <td>famsizegp</td>\n      <td>3more</td>\n      <td>8174</td>\n      <td>8044</td>\n      <td>130</td>\n      <td>0.325217</td>\n      <td>0.015904</td>\n      <td>0.325510</td>\n      <td>0.308057</td>\n      <td>0.055108</td>\n      <td>0.000962</td>\n    </tr>\n  </tbody>\n</table>\n</div>"
     },
     "execution_count": 34,
     "metadata": {},
     "output_type": "execute_result"
    }
   ],
   "source": [
    "new_data['famsize']=new_data['famsize'].astype(int)\n",
    "new_data['famsizegp']=new_data['famsize']\n",
    "new_data['famsizegp']=new_data['famsizegp'].astype(object)\n",
    "new_data.loc[new_data['famsizegp']>=3,'famsizegp']='3more'\n",
    "iv, data=calc_iv(new_data,'famsizegp','target')\n",
    "ivtable.loc[ivtable['variable']=='famsize','IV']=iv\n",
    "data.head()"
   ]
  },
  {
   "cell_type": "code",
   "execution_count": 35,
   "metadata": {
    "ExecuteTime": {
     "end_time": "2024-01-14T20:20:51.471842900Z",
     "start_time": "2024-01-14T20:20:51.456118900Z"
    }
   },
   "outputs": [],
   "source": [
    "new_data = convert_dummy(new_data,'famsizegp')"
   ]
  },
  {
   "cell_type": "markdown",
   "metadata": {},
   "source": [
    "### Categorical Features"
   ]
  },
  {
   "cell_type": "markdown",
   "metadata": {},
   "source": [
    "#### Income Type"
   ]
  },
  {
   "cell_type": "code",
   "execution_count": 36,
   "metadata": {
    "ExecuteTime": {
     "end_time": "2024-01-14T20:20:52.421811400Z",
     "start_time": "2024-01-14T20:20:52.318912Z"
    }
   },
   "outputs": [
    {
     "name": "stdout",
     "output_type": "stream",
     "text": [
      "Working                 15622\n",
      "Commercial associate     7052\n",
      "State servant            2437\n",
      "Student                    10\n",
      "Pensioner                  13\n",
      "Name: inctp, dtype: int64\n",
      "Working                 0.621549\n",
      "Commercial associate    0.280576\n",
      "State servant           0.096960\n",
      "Student                 0.000398\n",
      "Pensioner               0.000517\n",
      "Name: inctp, dtype: float64\n",
      "This variable's IV is: 5.159303327851404e-05\n",
      "Working                 15622\n",
      "Commercial associate     7052\n",
      "State servant            2460\n",
      "Name: inctp, dtype: int64\n"
     ]
    },
    {
     "data": {
      "text/plain": "  Variable                 Value    All   Good  Bad     Share  Bad Rate  \\\n0    inctp  Commercial associate   7052   6933  119  0.280576  0.016875   \n1    inctp         State servant   2460   2418   42  0.097875  0.017073   \n2    inctp               Working  15622  15361  261  0.621549  0.016707   \n\n   Distribution Good  Distribution Bad       WoE        IV  \n0           0.280552          0.281991 -0.005115  0.000007  \n1           0.097847          0.099526 -0.017013  0.000029  \n2           0.621601          0.618483  0.005028  0.000016  ",
      "text/html": "<div>\n<style scoped>\n    .dataframe tbody tr th:only-of-type {\n        vertical-align: middle;\n    }\n\n    .dataframe tbody tr th {\n        vertical-align: top;\n    }\n\n    .dataframe thead th {\n        text-align: right;\n    }\n</style>\n<table border=\"1\" class=\"dataframe\">\n  <thead>\n    <tr style=\"text-align: right;\">\n      <th></th>\n      <th>Variable</th>\n      <th>Value</th>\n      <th>All</th>\n      <th>Good</th>\n      <th>Bad</th>\n      <th>Share</th>\n      <th>Bad Rate</th>\n      <th>Distribution Good</th>\n      <th>Distribution Bad</th>\n      <th>WoE</th>\n      <th>IV</th>\n    </tr>\n  </thead>\n  <tbody>\n    <tr>\n      <th>0</th>\n      <td>inctp</td>\n      <td>Commercial associate</td>\n      <td>7052</td>\n      <td>6933</td>\n      <td>119</td>\n      <td>0.280576</td>\n      <td>0.016875</td>\n      <td>0.280552</td>\n      <td>0.281991</td>\n      <td>-0.005115</td>\n      <td>0.000007</td>\n    </tr>\n    <tr>\n      <th>1</th>\n      <td>inctp</td>\n      <td>State servant</td>\n      <td>2460</td>\n      <td>2418</td>\n      <td>42</td>\n      <td>0.097875</td>\n      <td>0.017073</td>\n      <td>0.097847</td>\n      <td>0.099526</td>\n      <td>-0.017013</td>\n      <td>0.000029</td>\n    </tr>\n    <tr>\n      <th>2</th>\n      <td>inctp</td>\n      <td>Working</td>\n      <td>15622</td>\n      <td>15361</td>\n      <td>261</td>\n      <td>0.621549</td>\n      <td>0.016707</td>\n      <td>0.621601</td>\n      <td>0.618483</td>\n      <td>0.005028</td>\n      <td>0.000016</td>\n    </tr>\n  </tbody>\n</table>\n</div>"
     },
     "execution_count": 36,
     "metadata": {},
     "output_type": "execute_result"
    }
   ],
   "source": [
    "print(new_data['inctp'].value_counts(sort=False))\n",
    "print(new_data['inctp'].value_counts(normalize=True,sort=False))\n",
    "new_data.loc[new_data['inctp']=='Pensioner','inctp']='State servant'\n",
    "new_data.loc[new_data['inctp']=='Student','inctp']='State servant'\n",
    "iv, data=calc_iv(new_data,'inctp','target')\n",
    "ivtable.loc[ivtable['variable']=='inctp','IV']=iv\n",
    "data.head()"
   ]
  },
  {
   "cell_type": "code",
   "execution_count": 37,
   "metadata": {
    "ExecuteTime": {
     "end_time": "2024-01-14T20:20:52.593974800Z",
     "start_time": "2024-01-14T20:20:52.562228400Z"
    }
   },
   "outputs": [],
   "source": [
    "new_data = convert_dummy(new_data,'inctp')"
   ]
  },
  {
   "cell_type": "markdown",
   "metadata": {},
   "source": [
    "#### Occupation Type"
   ]
  },
  {
   "cell_type": "code",
   "execution_count": 38,
   "metadata": {
    "ExecuteTime": {
     "end_time": "2024-01-14T20:20:53.351297300Z",
     "start_time": "2024-01-14T20:20:53.242787800Z"
    }
   },
   "outputs": [
    {
     "name": "stdout",
     "output_type": "stream",
     "text": [
      "Laborwk      10496\n",
      "officewk     10183\n",
      "hightecwk     4455\n",
      "Name: occyp, dtype: int64\n",
      "This variable's IV is: 0.004820472062853304\n",
      "Laborwk      10496\n",
      "officewk     10183\n",
      "hightecwk     4455\n",
      "Name: occyp, dtype: int64\n"
     ]
    },
    {
     "data": {
      "text/plain": "  Variable      Value    All   Good  Bad     Share  Bad Rate  \\\n0    occyp    Laborwk  10496  10311  185  0.417602  0.017626   \n1    occyp  hightecwk   4455   4375   80  0.177250  0.017957   \n2    occyp   officewk  10183  10026  157  0.405148  0.015418   \n\n   Distribution Good  Distribution Bad       WoE        IV  \n0           0.417247          0.438389 -0.049428  0.001045  \n1           0.177039          0.189573 -0.068404  0.000857  \n2           0.405714          0.372038  0.086652  0.002918  ",
      "text/html": "<div>\n<style scoped>\n    .dataframe tbody tr th:only-of-type {\n        vertical-align: middle;\n    }\n\n    .dataframe tbody tr th {\n        vertical-align: top;\n    }\n\n    .dataframe thead th {\n        text-align: right;\n    }\n</style>\n<table border=\"1\" class=\"dataframe\">\n  <thead>\n    <tr style=\"text-align: right;\">\n      <th></th>\n      <th>Variable</th>\n      <th>Value</th>\n      <th>All</th>\n      <th>Good</th>\n      <th>Bad</th>\n      <th>Share</th>\n      <th>Bad Rate</th>\n      <th>Distribution Good</th>\n      <th>Distribution Bad</th>\n      <th>WoE</th>\n      <th>IV</th>\n    </tr>\n  </thead>\n  <tbody>\n    <tr>\n      <th>0</th>\n      <td>occyp</td>\n      <td>Laborwk</td>\n      <td>10496</td>\n      <td>10311</td>\n      <td>185</td>\n      <td>0.417602</td>\n      <td>0.017626</td>\n      <td>0.417247</td>\n      <td>0.438389</td>\n      <td>-0.049428</td>\n      <td>0.001045</td>\n    </tr>\n    <tr>\n      <th>1</th>\n      <td>occyp</td>\n      <td>hightecwk</td>\n      <td>4455</td>\n      <td>4375</td>\n      <td>80</td>\n      <td>0.177250</td>\n      <td>0.017957</td>\n      <td>0.177039</td>\n      <td>0.189573</td>\n      <td>-0.068404</td>\n      <td>0.000857</td>\n    </tr>\n    <tr>\n      <th>2</th>\n      <td>occyp</td>\n      <td>officewk</td>\n      <td>10183</td>\n      <td>10026</td>\n      <td>157</td>\n      <td>0.405148</td>\n      <td>0.015418</td>\n      <td>0.405714</td>\n      <td>0.372038</td>\n      <td>0.086652</td>\n      <td>0.002918</td>\n    </tr>\n  </tbody>\n</table>\n</div>"
     },
     "execution_count": 38,
     "metadata": {},
     "output_type": "execute_result"
    }
   ],
   "source": [
    "new_data.loc[(new_data['occyp']=='Cleaning staff') | (new_data['occyp']=='Cooking staff') | (new_data['occyp']=='Drivers') | (new_data['occyp']=='Laborers') | (new_data['occyp']=='Low-skill Laborers') | (new_data['occyp']=='Security staff') | (new_data['occyp']=='Waiters/barmen staff'),'occyp']='Laborwk'\n",
    "new_data.loc[(new_data['occyp']=='Accountants') | (new_data['occyp']=='Core staff') | (new_data['occyp']=='HR staff') | (new_data['occyp']=='Medicine staff') | (new_data['occyp']=='Private service staff') | (new_data['occyp']=='Realty agents') | (new_data['occyp']=='Sales staff') | (new_data['occyp']=='Secretaries'),'occyp']='officewk'\n",
    "new_data.loc[(new_data['occyp']=='Managers') | (new_data['occyp']=='High skill tech staff') | (new_data['occyp']=='IT staff'),'occyp']='hightecwk'\n",
    "print(new_data['occyp'].value_counts())\n",
    "iv, data=calc_iv(new_data,'occyp','target')\n",
    "ivtable.loc[ivtable['variable']=='occyp','IV']=iv\n",
    "data.head()         "
   ]
  },
  {
   "cell_type": "code",
   "execution_count": 39,
   "metadata": {
    "ExecuteTime": {
     "end_time": "2024-01-14T20:20:53.668319300Z",
     "start_time": "2024-01-14T20:20:53.655306300Z"
    }
   },
   "outputs": [],
   "source": [
    "new_data = convert_dummy(new_data,'occyp')"
   ]
  },
  {
   "cell_type": "markdown",
   "metadata": {},
   "source": [
    "#### House Type"
   ]
  },
  {
   "cell_type": "code",
   "execution_count": 40,
   "metadata": {
    "ExecuteTime": {
     "end_time": "2024-01-14T20:20:55.042183100Z",
     "start_time": "2024-01-14T20:20:54.932252600Z"
    }
   },
   "outputs": [
    {
     "name": "stdout",
     "output_type": "stream",
     "text": [
      "This variable's IV is: 0.0073275026880227365\n",
      "House / apartment      22102\n",
      "With parents            1430\n",
      "Municipal apartment      812\n",
      "Rented apartment         439\n",
      "Office apartment         199\n",
      "Co-op apartment          152\n",
      "Name: houtp, dtype: int64\n"
     ]
    },
    {
     "data": {
      "text/plain": "  Variable                Value    All   Good  Bad     Share  Bad Rate  \\\n0    houtp      Co-op apartment    152    149    3  0.006048  0.019737   \n1    houtp    House / apartment  22102  21738  364  0.879367  0.016469   \n2    houtp  Municipal apartment    812    793   19  0.032307  0.023399   \n3    houtp     Office apartment    199    194    5  0.007918  0.025126   \n4    houtp     Rented apartment    439    433    6  0.017466  0.013667   \n\n   Distribution Good  Distribution Bad       WoE        IV  \n0           0.006029          0.007109 -0.164705  0.000178  \n1           0.879654          0.862559  0.019624  0.000335  \n2           0.032090          0.045024 -0.338655  0.004380  \n3           0.007850          0.011848 -0.411619  0.001646  \n4           0.017522          0.014218  0.208939  0.000690  ",
      "text/html": "<div>\n<style scoped>\n    .dataframe tbody tr th:only-of-type {\n        vertical-align: middle;\n    }\n\n    .dataframe tbody tr th {\n        vertical-align: top;\n    }\n\n    .dataframe thead th {\n        text-align: right;\n    }\n</style>\n<table border=\"1\" class=\"dataframe\">\n  <thead>\n    <tr style=\"text-align: right;\">\n      <th></th>\n      <th>Variable</th>\n      <th>Value</th>\n      <th>All</th>\n      <th>Good</th>\n      <th>Bad</th>\n      <th>Share</th>\n      <th>Bad Rate</th>\n      <th>Distribution Good</th>\n      <th>Distribution Bad</th>\n      <th>WoE</th>\n      <th>IV</th>\n    </tr>\n  </thead>\n  <tbody>\n    <tr>\n      <th>0</th>\n      <td>houtp</td>\n      <td>Co-op apartment</td>\n      <td>152</td>\n      <td>149</td>\n      <td>3</td>\n      <td>0.006048</td>\n      <td>0.019737</td>\n      <td>0.006029</td>\n      <td>0.007109</td>\n      <td>-0.164705</td>\n      <td>0.000178</td>\n    </tr>\n    <tr>\n      <th>1</th>\n      <td>houtp</td>\n      <td>House / apartment</td>\n      <td>22102</td>\n      <td>21738</td>\n      <td>364</td>\n      <td>0.879367</td>\n      <td>0.016469</td>\n      <td>0.879654</td>\n      <td>0.862559</td>\n      <td>0.019624</td>\n      <td>0.000335</td>\n    </tr>\n    <tr>\n      <th>2</th>\n      <td>houtp</td>\n      <td>Municipal apartment</td>\n      <td>812</td>\n      <td>793</td>\n      <td>19</td>\n      <td>0.032307</td>\n      <td>0.023399</td>\n      <td>0.032090</td>\n      <td>0.045024</td>\n      <td>-0.338655</td>\n      <td>0.004380</td>\n    </tr>\n    <tr>\n      <th>3</th>\n      <td>houtp</td>\n      <td>Office apartment</td>\n      <td>199</td>\n      <td>194</td>\n      <td>5</td>\n      <td>0.007918</td>\n      <td>0.025126</td>\n      <td>0.007850</td>\n      <td>0.011848</td>\n      <td>-0.411619</td>\n      <td>0.001646</td>\n    </tr>\n    <tr>\n      <th>4</th>\n      <td>houtp</td>\n      <td>Rented apartment</td>\n      <td>439</td>\n      <td>433</td>\n      <td>6</td>\n      <td>0.017466</td>\n      <td>0.013667</td>\n      <td>0.017522</td>\n      <td>0.014218</td>\n      <td>0.208939</td>\n      <td>0.000690</td>\n    </tr>\n  </tbody>\n</table>\n</div>"
     },
     "execution_count": 40,
     "metadata": {},
     "output_type": "execute_result"
    }
   ],
   "source": [
    "iv, data=calc_iv(new_data,'houtp','target')\n",
    "ivtable.loc[ivtable['variable']=='houtp','IV']=iv\n",
    "data.head()"
   ]
  },
  {
   "cell_type": "code",
   "execution_count": 41,
   "metadata": {
    "ExecuteTime": {
     "end_time": "2024-01-14T20:20:55.380130Z",
     "start_time": "2024-01-14T20:20:55.349014800Z"
    }
   },
   "outputs": [],
   "source": [
    "new_data = convert_dummy(new_data,'houtp')"
   ]
  },
  {
   "cell_type": "markdown",
   "metadata": {},
   "source": [
    "#### Education"
   ]
  },
  {
   "cell_type": "code",
   "execution_count": 42,
   "metadata": {
    "ExecuteTime": {
     "end_time": "2024-01-14T20:20:55.826808500Z",
     "start_time": "2024-01-14T20:20:55.735069600Z"
    }
   },
   "outputs": [
    {
     "name": "stdout",
     "output_type": "stream",
     "text": [
      "This variable's IV is: 0.010361794017679489\n",
      "Secondary / secondary special    16808\n",
      "Higher education                  7146\n",
      "Incomplete higher                  993\n",
      "Lower secondary                    187\n",
      "Name: edutp, dtype: int64\n"
     ]
    },
    {
     "data": {
      "text/plain": "  Variable                          Value    All   Good  Bad     Share  \\\n0    edutp               Higher education   7146   7018  128  0.284316   \n1    edutp              Incomplete higher    993    972   21  0.039508   \n2    edutp                Lower secondary    187    181    6  0.007440   \n3    edutp  Secondary / secondary special  16808  16541  267  0.668736   \n\n   Bad Rate  Distribution Good  Distribution Bad       WoE        IV  \n0  0.017912           0.283992          0.303318 -0.065836  0.001272  \n1  0.021148           0.039333          0.049763 -0.235206  0.002453  \n2  0.032086           0.007324          0.014218 -0.663301  0.004573  \n3  0.015885           0.669351          0.632701  0.056310  0.002064  ",
      "text/html": "<div>\n<style scoped>\n    .dataframe tbody tr th:only-of-type {\n        vertical-align: middle;\n    }\n\n    .dataframe tbody tr th {\n        vertical-align: top;\n    }\n\n    .dataframe thead th {\n        text-align: right;\n    }\n</style>\n<table border=\"1\" class=\"dataframe\">\n  <thead>\n    <tr style=\"text-align: right;\">\n      <th></th>\n      <th>Variable</th>\n      <th>Value</th>\n      <th>All</th>\n      <th>Good</th>\n      <th>Bad</th>\n      <th>Share</th>\n      <th>Bad Rate</th>\n      <th>Distribution Good</th>\n      <th>Distribution Bad</th>\n      <th>WoE</th>\n      <th>IV</th>\n    </tr>\n  </thead>\n  <tbody>\n    <tr>\n      <th>0</th>\n      <td>edutp</td>\n      <td>Higher education</td>\n      <td>7146</td>\n      <td>7018</td>\n      <td>128</td>\n      <td>0.284316</td>\n      <td>0.017912</td>\n      <td>0.283992</td>\n      <td>0.303318</td>\n      <td>-0.065836</td>\n      <td>0.001272</td>\n    </tr>\n    <tr>\n      <th>1</th>\n      <td>edutp</td>\n      <td>Incomplete higher</td>\n      <td>993</td>\n      <td>972</td>\n      <td>21</td>\n      <td>0.039508</td>\n      <td>0.021148</td>\n      <td>0.039333</td>\n      <td>0.049763</td>\n      <td>-0.235206</td>\n      <td>0.002453</td>\n    </tr>\n    <tr>\n      <th>2</th>\n      <td>edutp</td>\n      <td>Lower secondary</td>\n      <td>187</td>\n      <td>181</td>\n      <td>6</td>\n      <td>0.007440</td>\n      <td>0.032086</td>\n      <td>0.007324</td>\n      <td>0.014218</td>\n      <td>-0.663301</td>\n      <td>0.004573</td>\n    </tr>\n    <tr>\n      <th>3</th>\n      <td>edutp</td>\n      <td>Secondary / secondary special</td>\n      <td>16808</td>\n      <td>16541</td>\n      <td>267</td>\n      <td>0.668736</td>\n      <td>0.015885</td>\n      <td>0.669351</td>\n      <td>0.632701</td>\n      <td>0.056310</td>\n      <td>0.002064</td>\n    </tr>\n  </tbody>\n</table>\n</div>"
     },
     "execution_count": 42,
     "metadata": {},
     "output_type": "execute_result"
    }
   ],
   "source": [
    "new_data.loc[new_data['edutp']=='Academic degree','edutp']='Higher education'\n",
    "iv, data=calc_iv(new_data,'edutp','target')\n",
    "ivtable.loc[ivtable['variable']=='edutp','IV']=iv\n",
    "data.head()"
   ]
  },
  {
   "cell_type": "code",
   "execution_count": 43,
   "metadata": {
    "ExecuteTime": {
     "end_time": "2024-01-14T20:20:56.001695500Z",
     "start_time": "2024-01-14T20:20:55.980951Z"
    }
   },
   "outputs": [],
   "source": [
    "new_data = convert_dummy(new_data,'edutp')"
   ]
  },
  {
   "cell_type": "markdown",
   "metadata": {},
   "source": [
    "####  Marriage Condition"
   ]
  },
  {
   "cell_type": "code",
   "execution_count": 44,
   "metadata": {
    "scrolled": true,
    "ExecuteTime": {
     "end_time": "2024-01-14T20:20:56.790582800Z",
     "start_time": "2024-01-14T20:20:56.782777200Z"
    }
   },
   "outputs": [
    {
     "data": {
      "text/plain": "Married                 0.696626\nSingle / not married    0.137065\nCivil marriage          0.084865\nSeparated               0.058367\nWidow                   0.023076\nName: famtp, dtype: float64"
     },
     "execution_count": 44,
     "metadata": {},
     "output_type": "execute_result"
    }
   ],
   "source": [
    "new_data['famtp'].value_counts(normalize=True,sort=False)"
   ]
  },
  {
   "cell_type": "code",
   "execution_count": 45,
   "metadata": {
    "ExecuteTime": {
     "end_time": "2024-01-14T20:20:57.041425Z",
     "start_time": "2024-01-14T20:20:56.947127900Z"
    }
   },
   "outputs": [
    {
     "name": "stdout",
     "output_type": "stream",
     "text": [
      "This variable's IV is: 0.043137115423127946\n",
      "Married                 17509\n",
      "Single / not married     3445\n",
      "Civil marriage           2133\n",
      "Separated                1467\n",
      "Widow                     580\n",
      "Name: famtp, dtype: int64\n"
     ]
    },
    {
     "data": {
      "text/plain": "  Variable                 Value    All   Good  Bad     Share  Bad Rate  \\\n0    famtp        Civil marriage   2133   2101   32  0.084865  0.015002   \n1    famtp               Married  17509  17232  277  0.696626  0.015820   \n2    famtp             Separated   1467   1452   15  0.058367  0.010225   \n3    famtp  Single / not married   3445   3362   83  0.137065  0.024093   \n4    famtp                 Widow    580    565   15  0.023076  0.025862   \n\n   Distribution Good  Distribution Bad       WoE        IV  \n0           0.085019          0.075829  0.114394  0.001051  \n1           0.697313          0.656398  0.060467  0.002474  \n2           0.058757          0.035545  0.502608  0.011666  \n3           0.136047          0.196682 -0.368588  0.022349  \n4           0.022863          0.035545 -0.441263  0.005596  ",
      "text/html": "<div>\n<style scoped>\n    .dataframe tbody tr th:only-of-type {\n        vertical-align: middle;\n    }\n\n    .dataframe tbody tr th {\n        vertical-align: top;\n    }\n\n    .dataframe thead th {\n        text-align: right;\n    }\n</style>\n<table border=\"1\" class=\"dataframe\">\n  <thead>\n    <tr style=\"text-align: right;\">\n      <th></th>\n      <th>Variable</th>\n      <th>Value</th>\n      <th>All</th>\n      <th>Good</th>\n      <th>Bad</th>\n      <th>Share</th>\n      <th>Bad Rate</th>\n      <th>Distribution Good</th>\n      <th>Distribution Bad</th>\n      <th>WoE</th>\n      <th>IV</th>\n    </tr>\n  </thead>\n  <tbody>\n    <tr>\n      <th>0</th>\n      <td>famtp</td>\n      <td>Civil marriage</td>\n      <td>2133</td>\n      <td>2101</td>\n      <td>32</td>\n      <td>0.084865</td>\n      <td>0.015002</td>\n      <td>0.085019</td>\n      <td>0.075829</td>\n      <td>0.114394</td>\n      <td>0.001051</td>\n    </tr>\n    <tr>\n      <th>1</th>\n      <td>famtp</td>\n      <td>Married</td>\n      <td>17509</td>\n      <td>17232</td>\n      <td>277</td>\n      <td>0.696626</td>\n      <td>0.015820</td>\n      <td>0.697313</td>\n      <td>0.656398</td>\n      <td>0.060467</td>\n      <td>0.002474</td>\n    </tr>\n    <tr>\n      <th>2</th>\n      <td>famtp</td>\n      <td>Separated</td>\n      <td>1467</td>\n      <td>1452</td>\n      <td>15</td>\n      <td>0.058367</td>\n      <td>0.010225</td>\n      <td>0.058757</td>\n      <td>0.035545</td>\n      <td>0.502608</td>\n      <td>0.011666</td>\n    </tr>\n    <tr>\n      <th>3</th>\n      <td>famtp</td>\n      <td>Single / not married</td>\n      <td>3445</td>\n      <td>3362</td>\n      <td>83</td>\n      <td>0.137065</td>\n      <td>0.024093</td>\n      <td>0.136047</td>\n      <td>0.196682</td>\n      <td>-0.368588</td>\n      <td>0.022349</td>\n    </tr>\n    <tr>\n      <th>4</th>\n      <td>famtp</td>\n      <td>Widow</td>\n      <td>580</td>\n      <td>565</td>\n      <td>15</td>\n      <td>0.023076</td>\n      <td>0.025862</td>\n      <td>0.022863</td>\n      <td>0.035545</td>\n      <td>-0.441263</td>\n      <td>0.005596</td>\n    </tr>\n  </tbody>\n</table>\n</div>"
     },
     "execution_count": 45,
     "metadata": {},
     "output_type": "execute_result"
    }
   ],
   "source": [
    "iv, data=calc_iv(new_data,'famtp','target')\n",
    "ivtable.loc[ivtable['variable']=='famtp','IV']=iv\n",
    "data.head()"
   ]
  },
  {
   "cell_type": "code",
   "execution_count": 46,
   "metadata": {
    "ExecuteTime": {
     "end_time": "2024-01-14T20:20:57.221958800Z",
     "start_time": "2024-01-14T20:20:57.181319400Z"
    }
   },
   "outputs": [],
   "source": [
    "new_data = convert_dummy(new_data,'famtp')"
   ]
  },
  {
   "cell_type": "code",
   "execution_count": 47,
   "metadata": {
    "ExecuteTime": {
     "end_time": "2024-01-14T20:20:57.785747800Z",
     "start_time": "2024-01-14T20:20:57.749939200Z"
    }
   },
   "outputs": [
    {
     "data": {
      "text/plain": "    variable        IV\n10     agegp  0.065935\n8      famtp  0.043137\n11  worktmgp  0.040222\n3    Reality  0.027441\n1     Gender  0.025204\n7      edutp  0.010362\n9      houtp  0.007328\n17   famsize  0.006156\n16     occyp   0.00482\n13   wkphone  0.002042\n4     ChldNo  0.001121\n14     phone  0.000548\n6      inctp  0.000052\n15     email  0.000017\n2        Car  0.000005\n5      incgp      None",
      "text/html": "<div>\n<style scoped>\n    .dataframe tbody tr th:only-of-type {\n        vertical-align: middle;\n    }\n\n    .dataframe tbody tr th {\n        vertical-align: top;\n    }\n\n    .dataframe thead th {\n        text-align: right;\n    }\n</style>\n<table border=\"1\" class=\"dataframe\">\n  <thead>\n    <tr style=\"text-align: right;\">\n      <th></th>\n      <th>variable</th>\n      <th>IV</th>\n    </tr>\n  </thead>\n  <tbody>\n    <tr>\n      <th>10</th>\n      <td>agegp</td>\n      <td>0.065935</td>\n    </tr>\n    <tr>\n      <th>8</th>\n      <td>famtp</td>\n      <td>0.043137</td>\n    </tr>\n    <tr>\n      <th>11</th>\n      <td>worktmgp</td>\n      <td>0.040222</td>\n    </tr>\n    <tr>\n      <th>3</th>\n      <td>Reality</td>\n      <td>0.027441</td>\n    </tr>\n    <tr>\n      <th>1</th>\n      <td>Gender</td>\n      <td>0.025204</td>\n    </tr>\n    <tr>\n      <th>7</th>\n      <td>edutp</td>\n      <td>0.010362</td>\n    </tr>\n    <tr>\n      <th>9</th>\n      <td>houtp</td>\n      <td>0.007328</td>\n    </tr>\n    <tr>\n      <th>17</th>\n      <td>famsize</td>\n      <td>0.006156</td>\n    </tr>\n    <tr>\n      <th>16</th>\n      <td>occyp</td>\n      <td>0.00482</td>\n    </tr>\n    <tr>\n      <th>13</th>\n      <td>wkphone</td>\n      <td>0.002042</td>\n    </tr>\n    <tr>\n      <th>4</th>\n      <td>ChldNo</td>\n      <td>0.001121</td>\n    </tr>\n    <tr>\n      <th>14</th>\n      <td>phone</td>\n      <td>0.000548</td>\n    </tr>\n    <tr>\n      <th>6</th>\n      <td>inctp</td>\n      <td>0.000052</td>\n    </tr>\n    <tr>\n      <th>15</th>\n      <td>email</td>\n      <td>0.000017</td>\n    </tr>\n    <tr>\n      <th>2</th>\n      <td>Car</td>\n      <td>0.000005</td>\n    </tr>\n    <tr>\n      <th>5</th>\n      <td>incgp</td>\n      <td>None</td>\n    </tr>\n  </tbody>\n</table>\n</div>"
     },
     "execution_count": 47,
     "metadata": {},
     "output_type": "execute_result"
    }
   ],
   "source": [
    "ivtable=ivtable.sort_values(by='IV',ascending=False)\n",
    "ivtable.loc[ivtable['variable']=='DAYS_BIRTH','variable']='agegp'\n",
    "ivtable.loc[ivtable['variable']=='DAYS_EMPLOYED','variable']='worktmgp'\n",
    "ivtable.loc[ivtable['variable']=='inc','variable']='incgp'\n",
    "ivtable"
   ]
  },
  {
   "cell_type": "markdown",
   "metadata": {},
   "source": [
    "# Algorithms"
   ]
  },
  {
   "cell_type": "code",
   "execution_count": 48,
   "metadata": {
    "ExecuteTime": {
     "end_time": "2024-01-14T20:20:58.453264300Z",
     "start_time": "2024-01-14T20:20:58.445298100Z"
    }
   },
   "outputs": [
    {
     "data": {
      "text/plain": "Index(['ID', 'Gender', 'Car', 'Reality', 'inc', 'DAYS_BIRTH', 'DAYS_EMPLOYED',\n       'FLAG_MOBIL', 'wkphone', 'phone', 'email', 'famsize', 'begin_month',\n       'dep_value', 'target', 'ChldNo_1', 'ChldNo_2More', 'Age', 'gp_Age_high',\n       'gp_Age_highest', 'gp_Age_low', 'gp_Age_lowest', 'worktm',\n       'gp_worktm_high', 'gp_worktm_highest', 'gp_worktm_low',\n       'gp_worktm_medium', 'famsizegp_1', 'famsizegp_3more',\n       'inctp_Commercial associate', 'inctp_State servant', 'occyp_hightecwk',\n       'occyp_officewk', 'houtp_Co-op apartment', 'houtp_Municipal apartment',\n       'houtp_Office apartment', 'houtp_Rented apartment',\n       'houtp_With parents', 'edutp_Higher education',\n       'edutp_Incomplete higher', 'edutp_Lower secondary',\n       'famtp_Civil marriage', 'famtp_Separated', 'famtp_Single / not married',\n       'famtp_Widow'],\n      dtype='object')"
     },
     "execution_count": 48,
     "metadata": {},
     "output_type": "execute_result"
    }
   ],
   "source": [
    "new_data.columns"
   ]
  },
  {
   "cell_type": "code",
   "execution_count": 49,
   "metadata": {
    "ExecuteTime": {
     "end_time": "2024-01-14T20:20:58.917772500Z",
     "start_time": "2024-01-14T20:20:58.910878200Z"
    }
   },
   "outputs": [],
   "source": [
    "Y = new_data['target']\n",
    "X = new_data[['Gender','Reality','ChldNo_1', 'ChldNo_2More','wkphone',\n",
    "              'gp_Age_high', 'gp_Age_highest', 'gp_Age_low',\n",
    "       'gp_Age_lowest','gp_worktm_high', 'gp_worktm_highest',\n",
    "       'gp_worktm_low', 'gp_worktm_medium','occyp_hightecwk', \n",
    "              'occyp_officewk','famsizegp_1', 'famsizegp_3more',\n",
    "       'houtp_Co-op apartment', 'houtp_Municipal apartment',\n",
    "       'houtp_Office apartment', 'houtp_Rented apartment',\n",
    "       'houtp_With parents','edutp_Higher education',\n",
    "       'edutp_Incomplete higher', 'edutp_Lower secondary','famtp_Civil marriage',\n",
    "       'famtp_Separated','famtp_Single / not married','famtp_Widow']]"
   ]
  },
  {
   "cell_type": "code",
   "execution_count": 50,
   "metadata": {
    "ExecuteTime": {
     "end_time": "2024-01-14T20:20:59.450448100Z",
     "start_time": "2024-01-14T20:20:59.440912500Z"
    }
   },
   "outputs": [],
   "source": [
    "Y = Y.astype('int')\n",
    "\n",
    "X_balance = pd.DataFrame(X, columns = X.columns)"
   ]
  },
  {
   "cell_type": "code",
   "execution_count": 51,
   "metadata": {
    "ExecuteTime": {
     "end_time": "2024-01-14T20:20:59.664134600Z",
     "start_time": "2024-01-14T20:20:59.639373200Z"
    }
   },
   "outputs": [],
   "source": [
    "X_train, X_test, y_train, y_test = train_test_split(X_balance,Y, \n",
    "                                                    stratify=Y, test_size=0.3,\n",
    "                                                    random_state = 10086)"
   ]
  },
  {
   "cell_type": "code",
   "execution_count": 61,
   "outputs": [],
   "source": [
    "features = ['Пол', 'Недвижимость', 'Дети_1', 'Дети_2 и более', 'Наличие рабочего телефона',\n",
    "'Возраст_высокий', 'Возраст_очень высокий', 'Возраст_низкий',\n",
    "'Возраст_очень низкий', 'Стаж_высокий', 'Стаж_очень высокий',\n",
    "'Стаж_низкий', 'Стаж_средний', 'Профессия_высокотехнологичная',\n",
    "'Профессия_офисная', 'Размер_семьи_1', 'Размер_семьи_3 и более',\n",
    "'Тип_жилья_Кооперативная квартира', 'Тип_жилья_Муниципальная квартира',\n",
    "'Тип_жилья_Офисная квартира', 'Тип_жилья_Сдаваемая квартира',\n",
    "'Тип_жилья_С родителями', 'Образование_Высшее образование',\n",
    "'Образование_Неоконченное высшее', 'Образование_Начальное образование',\n",
    "'Семейное_положение_Гражданский брак', 'Семейное_положение_Разведен(а)',\n",
    "'Семейное_положение_Одинокий/не замужем', 'Семейное_положение_Вдовец/Вдова']"
   ],
   "metadata": {
    "collapsed": false,
    "ExecuteTime": {
     "end_time": "2024-01-14T20:28:19.214624100Z",
     "start_time": "2024-01-14T20:28:19.208014700Z"
    }
   }
  },
  {
   "cell_type": "code",
   "execution_count": 80,
   "outputs": [
    {
     "name": "stdout",
     "output_type": "stream",
     "text": [
      "Accuracy: 0.9831587322636255\n",
      "Precision: 0.0\n",
      "Recall: 0.0\n"
     ]
    },
    {
     "data": {
      "text/plain": "'credit_decision_tree.pdf'"
     },
     "execution_count": 80,
     "metadata": {},
     "output_type": "execute_result"
    }
   ],
   "source": [
    "from sklearn.tree import DecisionTreeClassifier, export_text, export_graphviz\n",
    "from sklearn.metrics import accuracy_score, precision_score, recall_score\n",
    "import graphviz\n",
    "\n",
    "\n",
    "import os\n",
    "os.environ[\"PATH\"] += os.pathsep + 'C:/Program Files/Graphviz/bin'\n",
    "os.environ[\"PATH\"] += os.pathsep + 'C:/Program Files/Graphviz/bin/dot.exe'\n",
    "\n",
    "model = DecisionTreeClassifier(max_depth=6)\n",
    "model.fit(X_train, y_train)\n",
    "\n",
    "# Предсказание на тестовых данных\n",
    "y_pred = model.predict(X_test)\n",
    "\n",
    "# Оценка точности модели\n",
    "accuracy = accuracy_score(y_test, y_pred)\n",
    "precision = precision_score(y_test, y_pred)\n",
    "recall = recall_score(y_test, y_pred)\n",
    "print(f'Accuracy: {accuracy}')\n",
    "print(f'Precision: {precision}')\n",
    "print(f'Recall: {recall}')\n",
    "\n",
    "# Визуализация дерева решений\n",
    "tree_rules = export_text(model, feature_names=features)\n",
    "\n",
    "# Визуализация графа дерева решений\n",
    "dot_data = export_graphviz(model, out_file=None, feature_names=features, filled=True, rounded=True, special_characters=True)\n",
    "graph = graphviz.Source(dot_data)\n",
    "graph.render(\"credit_decision_tree\", format=\"png\", cleanup=True)\n",
    "graph.view(\"credit_decision_tree\")"
   ],
   "metadata": {
    "collapsed": false,
    "ExecuteTime": {
     "end_time": "2024-01-14T20:42:26.892184Z",
     "start_time": "2024-01-14T20:42:26.414560900Z"
    }
   }
  },
  {
   "cell_type": "code",
   "execution_count": 77,
   "outputs": [
    {
     "data": {
      "text/plain": "(array([0, 1]), array([17298,   295], dtype=int64))"
     },
     "execution_count": 77,
     "metadata": {},
     "output_type": "execute_result"
    }
   ],
   "source": [
    "np.unique(y_train, return_counts=True)"
   ],
   "metadata": {
    "collapsed": false,
    "ExecuteTime": {
     "end_time": "2024-01-14T20:41:26.690118700Z",
     "start_time": "2024-01-14T20:41:26.668643Z"
    }
   }
  },
  {
   "cell_type": "code",
   "execution_count": 78,
   "outputs": [
    {
     "data": {
      "text/plain": "(array([0, 1]), array([7414,  127], dtype=int64))"
     },
     "execution_count": 78,
     "metadata": {},
     "output_type": "execute_result"
    }
   ],
   "source": [
    "np.unique(y_test, return_counts=True)"
   ],
   "metadata": {
    "collapsed": false,
    "ExecuteTime": {
     "end_time": "2024-01-14T20:41:26.996310100Z",
     "start_time": "2024-01-14T20:41:26.984211500Z"
    }
   }
  },
  {
   "cell_type": "code",
   "execution_count": 79,
   "outputs": [
    {
     "data": {
      "text/plain": "(array([0, 1]), array([7510,   31], dtype=int64))"
     },
     "execution_count": 79,
     "metadata": {},
     "output_type": "execute_result"
    }
   ],
   "source": [
    "np.unique(y_pred, return_counts=True)"
   ],
   "metadata": {
    "collapsed": false,
    "ExecuteTime": {
     "end_time": "2024-01-14T20:41:27.573536800Z",
     "start_time": "2024-01-14T20:41:27.556957400Z"
    }
   }
  },
  {
   "cell_type": "code",
   "execution_count": null,
   "outputs": [],
   "source": [],
   "metadata": {
    "collapsed": false
   }
  }
 ],
 "metadata": {
  "kernelspec": {
   "display_name": "Python 3",
   "language": "python",
   "name": "python3"
  },
  "language_info": {
   "codemirror_mode": {
    "name": "ipython",
    "version": 3
   },
   "file_extension": ".py",
   "mimetype": "text/x-python",
   "name": "python",
   "nbconvert_exporter": "python",
   "pygments_lexer": "ipython3",
   "version": "3.6.6"
  }
 },
 "nbformat": 4,
 "nbformat_minor": 4
}
