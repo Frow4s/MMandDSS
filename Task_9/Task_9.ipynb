{
 "cells": [
  {
   "cell_type": "markdown",
   "source": [
    "Подход №1 (итерационный)\n",
    "----"
   ],
   "metadata": {
    "collapsed": false
   },
   "id": "18cd699277679cf7"
  },
  {
   "cell_type": "code",
   "execution_count": 30,
   "id": "initial_id",
   "metadata": {
    "collapsed": true,
    "ExecuteTime": {
     "end_time": "2024-01-14T19:02:17.241260200Z",
     "start_time": "2024-01-14T19:02:17.238075900Z"
    }
   },
   "outputs": [
    {
     "name": "stdout",
     "output_type": "stream",
     "text": [
      "Iteration 1:\n",
      "Обобщенные экспертные оценки: [2.7 1.8 2.1 3.2]\n",
      "Старые коэффициенты компетентности: [1. 1. 1. 1. 1.]\n",
      "Новые коэффициенты компетентности: [0.8559322  1.00618557 0.82937063 0.88666667 0.90909091]\n",
      "\n",
      "Iteration 2:\n",
      "Обобщенные экспертные оценки: [2.68928074 1.80036527 2.08260525 3.18768642]\n",
      "Старые коэффициенты компетентности: [0.8559322  1.00618557 0.82937063 0.88666667 0.90909091]\n",
      "Новые коэффициенты компетентности: [0.85245603 1.00211979 0.82567129 0.88339746 0.90501751]\n",
      "\n",
      "Iteration 3:\n",
      "Обобщенные экспертные оценки: [2.68912872 1.80047157 2.08246357 3.18791173]\n",
      "Старые коэффициенты компетентности: [0.85245603 1.00211979 0.82567129 0.88339746 0.90501751]\n",
      "Новые коэффициенты компетентности: [0.85247842 1.00213686 0.82567104 0.88341466 0.90499206]\n",
      "\n",
      "Iteration 4:\n",
      "Обобщенные экспертные оценки: [2.68911131 1.80048118 2.0824616  3.18793256]\n",
      "Старые коэффициенты компетентности: [0.85247842 1.00213686 0.82567104 0.88341466 0.90499206]\n",
      "Новые коэффициенты компетентности: [0.8524813  1.00213906 0.82567161 0.88341627 0.9049901 ]\n",
      "\n",
      "Iteration 5:\n",
      "Обобщенные экспертные оценки: [2.68910952 1.80048211 2.0824616  3.18793453]\n",
      "Старые коэффициенты компетентности: [0.8524813  1.00213906 0.82567161 0.88341627 0.9049901 ]\n",
      "Новые коэффициенты компетентности: [0.85248159 1.00213927 0.82567167 0.88341642 0.90498991]\n",
      "\n",
      "Обобщенные экспертные оценки:\n",
      "Объект 1 занял 2 место с оценкой 2.68910952251059.\n",
      "Объект 2 занял 4 место с оценкой 1.8004821126661066.\n",
      "Объект 3 занял 3 место с оценкой 2.0824615950780334.\n",
      "Объект 4 занял 1 место с оценкой 3.187934527416513.\n",
      "Коэффициенты компетентности экспертов:\n",
      "[0.19076725 0.22425749 0.18476781 0.19768984 0.20251761]\n"
     ]
    }
   ],
   "source": [
    "import numpy as np\n",
    "\n",
    "def calculate_aggregated_ratings(expert_ratings):\n",
    "    num_objects, num_experts = expert_ratings.shape\n",
    "\n",
    "    # Инициализируем вектор коэффициентов компетентности\n",
    "    competency_factors = np.ones(num_experts)\n",
    "\n",
    "    # Итерационно вычисляем обобщенные экспертные оценки\n",
    "    for iteration in range(100):  # Максимальное количество итераций (можно изменить)\n",
    "        # Вычисляем средние оценки объектов\n",
    "        object_ratings = np.sum(expert_ratings * competency_factors, axis=1) / np.sum(competency_factors)\n",
    "\n",
    "        # Обновляем коэффициенты компетентности\n",
    "        new_competency_factors = np.sum(expert_ratings.T * object_ratings, axis=1) / np.sum((expert_ratings.T)**2, axis=1)\n",
    "\n",
    "        # Выводим промежуточные результаты\n",
    "        print(f\"Iteration {iteration + 1}:\")\n",
    "        print(\"Обобщенные экспертные оценки:\", object_ratings)\n",
    "        print(\"Старые коэффициенты компетентности:\", competency_factors)\n",
    "        print(\"Новые коэффициенты компетентности:\", new_competency_factors)\n",
    "        print()\n",
    "\n",
    "        # Проверяем условие выхода\n",
    "        if np.allclose(new_competency_factors, competency_factors, rtol=1e-6):\n",
    "            break\n",
    "\n",
    "        competency_factors = new_competency_factors\n",
    "\n",
    "    # Вычисляем обобщенные экспертные оценки\n",
    "    aggregated_ratings = object_ratings\n",
    "\n",
    "    return aggregated_ratings, competency_factors\n",
    "\n",
    "def print_object_order(scores):\n",
    "    print(\"Обобщенные экспертные оценки:\")\n",
    "    \n",
    "    # Создаем список кортежей, где первый элемент - номер объекта, второй - его оценка\n",
    "    participants = list(enumerate(scores, start=1))\n",
    "    \n",
    "    # Сортируем список по убыванию оценки\n",
    "    sorted_participants = sorted(participants, key=lambda x: x[1], reverse=True)\n",
    "    \n",
    "    # Создаем словарь для хранения мест\n",
    "    places = {}\n",
    "    \n",
    "    # Присваиваем места объектам\n",
    "    for i, (participant, score) in enumerate(sorted_participants, start=1):\n",
    "        places[participant] = i\n",
    "    \n",
    "    # Выводим результат\n",
    "    for participant, place in sorted(places.items()):\n",
    "        print(f\"Объект {participant} занял {place} место с оценкой {scores[participant-1]}.\")\n",
    "\n",
    "# Пример входной матрицы экспертных оценок\n",
    "expert_ratings_matrix = np.array([\n",
    "    [1, 2, 3.5, 3, 4],\n",
    "    [2.5, 2, 1.5, 2, 1],\n",
    "    [2.5, 2, 3, 1, 2],\n",
    "    [4, 3.5, 3.5, 4 , 1]\n",
    "])\n",
    "\n",
    "aggregated_ratings, competency_factors = calculate_aggregated_ratings(expert_ratings_matrix)\n",
    "\n",
    "print_object_order(aggregated_ratings)\n",
    "\n",
    "print(\"Коэффициенты компетентности экспертов:\")\n",
    "print(competency_factors/(np.sum(competency_factors)))\n"
   ]
  },
  {
   "cell_type": "markdown",
   "source": [
    "Подход №2 (матричный, по материалам)\n",
    "----"
   ],
   "metadata": {
    "collapsed": false
   },
   "id": "c0a23016cbead26f"
  },
  {
   "cell_type": "code",
   "execution_count": 42,
   "outputs": [
    {
     "name": "stdout",
     "output_type": "stream",
     "text": [
      "Обобщенные экспертные оценки:\n",
      "Объект 1 занял 2 место с оценкой 0.26821207336782305.\n",
      "Объект 2 занял 4 место с оценкой 0.18386309126689412.\n",
      "Объект 3 занял 3 место с оценкой 0.21621527381145497.\n",
      "Объект 4 занял 1 место с оценкой 0.3317095615538279.\n",
      "Коэффициенты компетентности экспертов:\n",
      "[0.19829562 0.193934   0.23710756 0.21185808 0.15880474]\n"
     ]
    }
   ],
   "source": [
    "B = expert_ratings_matrix@expert_ratings_matrix.T\n",
    "C = expert_ratings_matrix.T@expert_ratings_matrix\n",
    "\n",
    "aggregated_ratings_2 = np.prod(B,axis=0)**(1/B.shape[0])/np.sum(np.prod(B,axis=0)**(1/B.shape[0]))\n",
    "\n",
    "print_object_order(aggregated_ratings_2)\n",
    "\n",
    "print(\"Коэффициенты компетентности экспертов:\")\n",
    "print(np.prod(C,axis=1)**(1/C.shape[0])/np.sum(np.prod(C,axis=1)**(1/C.shape[0])))"
   ],
   "metadata": {
    "collapsed": false,
    "ExecuteTime": {
     "end_time": "2024-01-14T19:07:08.627802600Z",
     "start_time": "2024-01-14T19:07:08.621440100Z"
    }
   },
   "id": "9d32e634ebebfec0"
  }
 ],
 "metadata": {
  "kernelspec": {
   "display_name": "Python 3",
   "language": "python",
   "name": "python3"
  },
  "language_info": {
   "codemirror_mode": {
    "name": "ipython",
    "version": 2
   },
   "file_extension": ".py",
   "mimetype": "text/x-python",
   "name": "python",
   "nbconvert_exporter": "python",
   "pygments_lexer": "ipython2",
   "version": "2.7.6"
  }
 },
 "nbformat": 4,
 "nbformat_minor": 5
}
